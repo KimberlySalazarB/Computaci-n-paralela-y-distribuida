{
  "cells": [
    {
      "cell_type": "markdown",
      "metadata": {
        "id": "bIEFZ_pLos-v"
      },
      "source": [
        "# Algoritmos de clustering\n",
        "\n"
      ]
    },
    {
      "cell_type": "markdown",
      "metadata": {
        "id": "R843ruXOYSFG"
      },
      "source": [
        "# **Datos nutricionales del menú de Burger King**\n",
        "Este conjunto de datos es una recopilación completa de información nutricional de los principales elementos del menú que ofrece Burger King. El conjunto de datos incluye información sobre la cantidad de calorías, grasas totales, grasas saturadas, grasas trans, colesterol, sodio, carbohidratos totales y proteínas que se encuentran en cada elemento del menú.\n",
        "\n",
        "Esta información permite a las personas tomar decisiones informadas sobre su ingesta dietética y les ayuda a gestionar mejor su salud y bienestar.\n",
        "\n",
        "https://www.kaggle.com/datasets/mattop/burger-king-menu-nutrition-data/data"
      ]
    },
    {
      "cell_type": "code",
      "execution_count": null,
      "metadata": {
        "id": "X1jhB9JHosWb"
      },
      "outputs": [],
      "source": [
        "!pip install dask_ml"
      ]
    },
    {
      "cell_type": "code",
      "execution_count": null,
      "metadata": {
        "colab": {
          "base_uri": "https://localhost:8080/"
        },
        "id": "yuqNdK5nlbyH",
        "outputId": "72158fe4-d8cb-4bd5-c466-8dfc7d629dfa"
      },
      "outputs": [],
      "source": [
        "!pip install pyspark"
      ]
    },
    {
      "cell_type": "code",
      "execution_count": null,
      "metadata": {
        "id": "EWEkjIVN3tjR"
      },
      "outputs": [],
      "source": [
        "import pandas as pd\n",
        "import numpy as np\n",
        "from sklearn.preprocessing import StandardScaler\n",
        "from dask_ml.cluster import KMeans\n",
        "import dask.array as da\n",
        "from pyspark.sql import SparkSession\n",
        "from sklearn.metrics import silhouette_score\n",
        "import matplotlib.pyplot as plt\n",
        "import time\n",
        "\n",
        "# Cargar datos\n",
        "data = pd.read_csv('/content/burger-king-menu.csv')\n",
        "\n"
      ]
    },
    {
      "cell_type": "code",
      "execution_count": 4,
      "metadata": {
        "colab": {
          "base_uri": "https://localhost:8080/",
          "height": 431
        },
        "id": "20wuijlw_o_d",
        "outputId": "5d27b706-1e21-4cc2-c3de-08feb150a512"
      },
      "outputs": [
        {
          "data": {
            "application/vnd.google.colaboratory.intrinsic+json": {
              "summary": "{\n  \"name\": \"data\",\n  \"rows\": 77,\n  \"fields\": [\n    {\n      \"column\": \"Item\",\n      \"properties\": {\n        \"dtype\": \"string\",\n        \"num_unique_values\": 73,\n        \"samples\": [\n          \"Double Whopper\\u00ae Sandwich with Cheese\",\n          \"American Cheese (slice)\",\n          \"Double Cheeseburger\"\n        ],\n        \"semantic_type\": \"\",\n        \"description\": \"\"\n      }\n    },\n    {\n      \"column\": \"Category\",\n      \"properties\": {\n        \"dtype\": \"category\",\n        \"num_unique_values\": 3,\n        \"samples\": [\n          \"Burgers\",\n          \"Chicken\",\n          \"Breakfast\"\n        ],\n        \"semantic_type\": \"\",\n        \"description\": \"\"\n      }\n    },\n    {\n      \"column\": \"Calories\",\n      \"properties\": {\n        \"dtype\": \"number\",\n        \"std\": 307.6126848973794,\n        \"min\": 10.0,\n        \"max\": 1220.0,\n        \"num_unique_values\": 50,\n        \"samples\": [\n          630.0,\n          250.0,\n          340.0\n        ],\n        \"semantic_type\": \"\",\n        \"description\": \"\"\n      }\n    },\n    {\n      \"column\": \"Fat Calories\",\n      \"properties\": {\n        \"dtype\": \"number\",\n        \"std\": 184.3937620063351,\n        \"min\": 0.0,\n        \"max\": 750.0,\n        \"num_unique_values\": 46,\n        \"samples\": [\n          390.0,\n          150.0,\n          240.0\n        ],\n        \"semantic_type\": \"\",\n        \"description\": \"\"\n      }\n    },\n    {\n      \"column\": \"Fat (g)\",\n      \"properties\": {\n        \"dtype\": \"number\",\n        \"std\": 20.535966149009745,\n        \"min\": 0.0,\n        \"max\": 84.0,\n        \"num_unique_values\": 45,\n        \"samples\": [\n          44.0,\n          11.0,\n          27.0\n        ],\n        \"semantic_type\": \"\",\n        \"description\": \"\"\n      }\n    },\n    {\n      \"column\": \"Saturated Fat (g)\",\n      \"properties\": {\n        \"dtype\": \"number\",\n        \"std\": 8.118430884557744,\n        \"min\": 0.0,\n        \"max\": 33.0,\n        \"num_unique_values\": 29,\n        \"samples\": [\n          0.5,\n          9.0,\n          11.0\n        ],\n        \"semantic_type\": \"\",\n        \"description\": \"\"\n      }\n    },\n    {\n      \"column\": \"Trans Fat (g)\",\n      \"properties\": {\n        \"dtype\": \"number\",\n        \"std\": 1.1286821718163518,\n        \"min\": 0.0,\n        \"max\": 4.5,\n        \"num_unique_values\": 9,\n        \"samples\": [\n          0.0,\n          2.0,\n          0.5\n        ],\n        \"semantic_type\": \"\",\n        \"description\": \"\"\n      }\n    },\n    {\n      \"column\": \"Cholesterol (mg)\",\n      \"properties\": {\n        \"dtype\": \"number\",\n        \"std\": 97.95865882097459,\n        \"min\": 0.0,\n        \"max\": 390.0,\n        \"num_unique_values\": 39,\n        \"samples\": [\n          150.0,\n          380.0,\n          195.0\n        ],\n        \"semantic_type\": \"\",\n        \"description\": \"\"\n      }\n    },\n    {\n      \"column\": \"Sodium (mg)\",\n      \"properties\": {\n        \"dtype\": \"number\",\n        \"std\": 613.4264026511926,\n        \"min\": 0.0,\n        \"max\": 2840.0,\n        \"num_unique_values\": 60,\n        \"samples\": [\n          980.0,\n          1120.0,\n          1030.0\n        ],\n        \"semantic_type\": \"\",\n        \"description\": \"\"\n      }\n    },\n    {\n      \"column\": \"Total Carb (g)\",\n      \"properties\": {\n        \"dtype\": \"number\",\n        \"std\": 20.716588365192347,\n        \"min\": 1.0,\n        \"max\": 110.0,\n        \"num_unique_values\": 36,\n        \"samples\": [\n          8.0,\n          11.0,\n          110.0\n        ],\n        \"semantic_type\": \"\",\n        \"description\": \"\"\n      }\n    },\n    {\n      \"column\": \"Dietary Fiber (g)\",\n      \"properties\": {\n        \"dtype\": \"number\",\n        \"std\": 1.6907128411239711,\n        \"min\": 0.0,\n        \"max\": 9.0,\n        \"num_unique_values\": 8,\n        \"samples\": [\n          1.0,\n          5.0,\n          2.0\n        ],\n        \"semantic_type\": \"\",\n        \"description\": \"\"\n      }\n    },\n    {\n      \"column\": \"Sugars (g)\",\n      \"properties\": {\n        \"dtype\": \"number\",\n        \"std\": 6.973463027999131,\n        \"min\": 0.0,\n        \"max\": 40.0,\n        \"num_unique_values\": 18,\n        \"samples\": [\n          11.0,\n          7.0,\n          13.0\n        ],\n        \"semantic_type\": \"\",\n        \"description\": \"\"\n      }\n    },\n    {\n      \"column\": \"Protein (g)\",\n      \"properties\": {\n        \"dtype\": \"number\",\n        \"std\": 17.14503289906578,\n        \"min\": 0.0,\n        \"max\": 71.0,\n        \"num_unique_values\": 34,\n        \"samples\": [\n          29.0,\n          8.0,\n          27.0\n        ],\n        \"semantic_type\": \"\",\n        \"description\": \"\"\n      }\n    },\n    {\n      \"column\": \"Weight Watchers\",\n      \"properties\": {\n        \"dtype\": \"number\",\n        \"std\": 302.2380700558984,\n        \"min\": 12.0,\n        \"max\": 1192.0,\n        \"num_unique_values\": 72,\n        \"samples\": [\n          963.0,\n          40.0,\n          383.0\n        ],\n        \"semantic_type\": \"\",\n        \"description\": \"\"\n      }\n    }\n  ]\n}",
              "type": "dataframe",
              "variable_name": "data"
            },
            "text/html": [
              "\n",
              "  <div id=\"df-608b1d36-4190-422c-9022-c513d6e04701\" class=\"colab-df-container\">\n",
              "    <div>\n",
              "<style scoped>\n",
              "    .dataframe tbody tr th:only-of-type {\n",
              "        vertical-align: middle;\n",
              "    }\n",
              "\n",
              "    .dataframe tbody tr th {\n",
              "        vertical-align: top;\n",
              "    }\n",
              "\n",
              "    .dataframe thead th {\n",
              "        text-align: right;\n",
              "    }\n",
              "</style>\n",
              "<table border=\"1\" class=\"dataframe\">\n",
              "  <thead>\n",
              "    <tr style=\"text-align: right;\">\n",
              "      <th></th>\n",
              "      <th>Item</th>\n",
              "      <th>Category</th>\n",
              "      <th>Calories</th>\n",
              "      <th>Fat Calories</th>\n",
              "      <th>Fat (g)</th>\n",
              "      <th>Saturated Fat (g)</th>\n",
              "      <th>Trans Fat (g)</th>\n",
              "      <th>Cholesterol (mg)</th>\n",
              "      <th>Sodium (mg)</th>\n",
              "      <th>Total Carb (g)</th>\n",
              "      <th>Dietary Fiber (g)</th>\n",
              "      <th>Sugars (g)</th>\n",
              "      <th>Protein (g)</th>\n",
              "      <th>Weight Watchers</th>\n",
              "    </tr>\n",
              "  </thead>\n",
              "  <tbody>\n",
              "    <tr>\n",
              "      <th>0</th>\n",
              "      <td>Whopper® Sandwich</td>\n",
              "      <td>Burgers</td>\n",
              "      <td>660.0</td>\n",
              "      <td>360.0</td>\n",
              "      <td>40.0</td>\n",
              "      <td>12.0</td>\n",
              "      <td>1.5</td>\n",
              "      <td>90.0</td>\n",
              "      <td>980.0</td>\n",
              "      <td>49.0</td>\n",
              "      <td>2.0</td>\n",
              "      <td>11.0</td>\n",
              "      <td>28.0</td>\n",
              "      <td>655.0</td>\n",
              "    </tr>\n",
              "    <tr>\n",
              "      <th>1</th>\n",
              "      <td>Whopper® Sandwich with Cheese</td>\n",
              "      <td>Burgers</td>\n",
              "      <td>740.0</td>\n",
              "      <td>420.0</td>\n",
              "      <td>46.0</td>\n",
              "      <td>16.0</td>\n",
              "      <td>2.0</td>\n",
              "      <td>115.0</td>\n",
              "      <td>1340.0</td>\n",
              "      <td>50.0</td>\n",
              "      <td>2.0</td>\n",
              "      <td>11.0</td>\n",
              "      <td>32.0</td>\n",
              "      <td>735.0</td>\n",
              "    </tr>\n",
              "    <tr>\n",
              "      <th>2</th>\n",
              "      <td>Bacon &amp; Cheese Whopper® Sandwich</td>\n",
              "      <td>Burgers</td>\n",
              "      <td>790.0</td>\n",
              "      <td>460.0</td>\n",
              "      <td>51.0</td>\n",
              "      <td>17.0</td>\n",
              "      <td>2.0</td>\n",
              "      <td>125.0</td>\n",
              "      <td>1560.0</td>\n",
              "      <td>50.0</td>\n",
              "      <td>2.0</td>\n",
              "      <td>11.0</td>\n",
              "      <td>35.0</td>\n",
              "      <td>783.0</td>\n",
              "    </tr>\n",
              "    <tr>\n",
              "      <th>3</th>\n",
              "      <td>Double Whopper® Sandwich</td>\n",
              "      <td>Burgers</td>\n",
              "      <td>900.0</td>\n",
              "      <td>520.0</td>\n",
              "      <td>58.0</td>\n",
              "      <td>20.0</td>\n",
              "      <td>3.0</td>\n",
              "      <td>175.0</td>\n",
              "      <td>1050.0</td>\n",
              "      <td>49.0</td>\n",
              "      <td>2.0</td>\n",
              "      <td>11.0</td>\n",
              "      <td>48.0</td>\n",
              "      <td>883.0</td>\n",
              "    </tr>\n",
              "    <tr>\n",
              "      <th>4</th>\n",
              "      <td>Double Whopper® Sandwich with Cheese</td>\n",
              "      <td>Burgers</td>\n",
              "      <td>980.0</td>\n",
              "      <td>580.0</td>\n",
              "      <td>64.0</td>\n",
              "      <td>24.0</td>\n",
              "      <td>3.0</td>\n",
              "      <td>195.0</td>\n",
              "      <td>1410.0</td>\n",
              "      <td>50.0</td>\n",
              "      <td>2.0</td>\n",
              "      <td>11.0</td>\n",
              "      <td>52.0</td>\n",
              "      <td>963.0</td>\n",
              "    </tr>\n",
              "  </tbody>\n",
              "</table>\n",
              "</div>\n",
              "    <div class=\"colab-df-buttons\">\n",
              "\n",
              "  <div class=\"colab-df-container\">\n",
              "    <button class=\"colab-df-convert\" onclick=\"convertToInteractive('df-608b1d36-4190-422c-9022-c513d6e04701')\"\n",
              "            title=\"Convert this dataframe to an interactive table.\"\n",
              "            style=\"display:none;\">\n",
              "\n",
              "  <svg xmlns=\"http://www.w3.org/2000/svg\" height=\"24px\" viewBox=\"0 -960 960 960\">\n",
              "    <path d=\"M120-120v-720h720v720H120Zm60-500h600v-160H180v160Zm220 220h160v-160H400v160Zm0 220h160v-160H400v160ZM180-400h160v-160H180v160Zm440 0h160v-160H620v160ZM180-180h160v-160H180v160Zm440 0h160v-160H620v160Z\"/>\n",
              "  </svg>\n",
              "    </button>\n",
              "\n",
              "  <style>\n",
              "    .colab-df-container {\n",
              "      display:flex;\n",
              "      gap: 12px;\n",
              "    }\n",
              "\n",
              "    .colab-df-convert {\n",
              "      background-color: #E8F0FE;\n",
              "      border: none;\n",
              "      border-radius: 50%;\n",
              "      cursor: pointer;\n",
              "      display: none;\n",
              "      fill: #1967D2;\n",
              "      height: 32px;\n",
              "      padding: 0 0 0 0;\n",
              "      width: 32px;\n",
              "    }\n",
              "\n",
              "    .colab-df-convert:hover {\n",
              "      background-color: #E2EBFA;\n",
              "      box-shadow: 0px 1px 2px rgba(60, 64, 67, 0.3), 0px 1px 3px 1px rgba(60, 64, 67, 0.15);\n",
              "      fill: #174EA6;\n",
              "    }\n",
              "\n",
              "    .colab-df-buttons div {\n",
              "      margin-bottom: 4px;\n",
              "    }\n",
              "\n",
              "    [theme=dark] .colab-df-convert {\n",
              "      background-color: #3B4455;\n",
              "      fill: #D2E3FC;\n",
              "    }\n",
              "\n",
              "    [theme=dark] .colab-df-convert:hover {\n",
              "      background-color: #434B5C;\n",
              "      box-shadow: 0px 1px 3px 1px rgba(0, 0, 0, 0.15);\n",
              "      filter: drop-shadow(0px 1px 2px rgba(0, 0, 0, 0.3));\n",
              "      fill: #FFFFFF;\n",
              "    }\n",
              "  </style>\n",
              "\n",
              "    <script>\n",
              "      const buttonEl =\n",
              "        document.querySelector('#df-608b1d36-4190-422c-9022-c513d6e04701 button.colab-df-convert');\n",
              "      buttonEl.style.display =\n",
              "        google.colab.kernel.accessAllowed ? 'block' : 'none';\n",
              "\n",
              "      async function convertToInteractive(key) {\n",
              "        const element = document.querySelector('#df-608b1d36-4190-422c-9022-c513d6e04701');\n",
              "        const dataTable =\n",
              "          await google.colab.kernel.invokeFunction('convertToInteractive',\n",
              "                                                    [key], {});\n",
              "        if (!dataTable) return;\n",
              "\n",
              "        const docLinkHtml = 'Like what you see? Visit the ' +\n",
              "          '<a target=\"_blank\" href=https://colab.research.google.com/notebooks/data_table.ipynb>data table notebook</a>'\n",
              "          + ' to learn more about interactive tables.';\n",
              "        element.innerHTML = '';\n",
              "        dataTable['output_type'] = 'display_data';\n",
              "        await google.colab.output.renderOutput(dataTable, element);\n",
              "        const docLink = document.createElement('div');\n",
              "        docLink.innerHTML = docLinkHtml;\n",
              "        element.appendChild(docLink);\n",
              "      }\n",
              "    </script>\n",
              "  </div>\n",
              "\n",
              "\n",
              "<div id=\"df-14801768-5cf2-473a-83e1-fd4867119395\">\n",
              "  <button class=\"colab-df-quickchart\" onclick=\"quickchart('df-14801768-5cf2-473a-83e1-fd4867119395')\"\n",
              "            title=\"Suggest charts\"\n",
              "            style=\"display:none;\">\n",
              "\n",
              "<svg xmlns=\"http://www.w3.org/2000/svg\" height=\"24px\"viewBox=\"0 0 24 24\"\n",
              "     width=\"24px\">\n",
              "    <g>\n",
              "        <path d=\"M19 3H5c-1.1 0-2 .9-2 2v14c0 1.1.9 2 2 2h14c1.1 0 2-.9 2-2V5c0-1.1-.9-2-2-2zM9 17H7v-7h2v7zm4 0h-2V7h2v10zm4 0h-2v-4h2v4z\"/>\n",
              "    </g>\n",
              "</svg>\n",
              "  </button>\n",
              "\n",
              "<style>\n",
              "  .colab-df-quickchart {\n",
              "      --bg-color: #E8F0FE;\n",
              "      --fill-color: #1967D2;\n",
              "      --hover-bg-color: #E2EBFA;\n",
              "      --hover-fill-color: #174EA6;\n",
              "      --disabled-fill-color: #AAA;\n",
              "      --disabled-bg-color: #DDD;\n",
              "  }\n",
              "\n",
              "  [theme=dark] .colab-df-quickchart {\n",
              "      --bg-color: #3B4455;\n",
              "      --fill-color: #D2E3FC;\n",
              "      --hover-bg-color: #434B5C;\n",
              "      --hover-fill-color: #FFFFFF;\n",
              "      --disabled-bg-color: #3B4455;\n",
              "      --disabled-fill-color: #666;\n",
              "  }\n",
              "\n",
              "  .colab-df-quickchart {\n",
              "    background-color: var(--bg-color);\n",
              "    border: none;\n",
              "    border-radius: 50%;\n",
              "    cursor: pointer;\n",
              "    display: none;\n",
              "    fill: var(--fill-color);\n",
              "    height: 32px;\n",
              "    padding: 0;\n",
              "    width: 32px;\n",
              "  }\n",
              "\n",
              "  .colab-df-quickchart:hover {\n",
              "    background-color: var(--hover-bg-color);\n",
              "    box-shadow: 0 1px 2px rgba(60, 64, 67, 0.3), 0 1px 3px 1px rgba(60, 64, 67, 0.15);\n",
              "    fill: var(--button-hover-fill-color);\n",
              "  }\n",
              "\n",
              "  .colab-df-quickchart-complete:disabled,\n",
              "  .colab-df-quickchart-complete:disabled:hover {\n",
              "    background-color: var(--disabled-bg-color);\n",
              "    fill: var(--disabled-fill-color);\n",
              "    box-shadow: none;\n",
              "  }\n",
              "\n",
              "  .colab-df-spinner {\n",
              "    border: 2px solid var(--fill-color);\n",
              "    border-color: transparent;\n",
              "    border-bottom-color: var(--fill-color);\n",
              "    animation:\n",
              "      spin 1s steps(1) infinite;\n",
              "  }\n",
              "\n",
              "  @keyframes spin {\n",
              "    0% {\n",
              "      border-color: transparent;\n",
              "      border-bottom-color: var(--fill-color);\n",
              "      border-left-color: var(--fill-color);\n",
              "    }\n",
              "    20% {\n",
              "      border-color: transparent;\n",
              "      border-left-color: var(--fill-color);\n",
              "      border-top-color: var(--fill-color);\n",
              "    }\n",
              "    30% {\n",
              "      border-color: transparent;\n",
              "      border-left-color: var(--fill-color);\n",
              "      border-top-color: var(--fill-color);\n",
              "      border-right-color: var(--fill-color);\n",
              "    }\n",
              "    40% {\n",
              "      border-color: transparent;\n",
              "      border-right-color: var(--fill-color);\n",
              "      border-top-color: var(--fill-color);\n",
              "    }\n",
              "    60% {\n",
              "      border-color: transparent;\n",
              "      border-right-color: var(--fill-color);\n",
              "    }\n",
              "    80% {\n",
              "      border-color: transparent;\n",
              "      border-right-color: var(--fill-color);\n",
              "      border-bottom-color: var(--fill-color);\n",
              "    }\n",
              "    90% {\n",
              "      border-color: transparent;\n",
              "      border-bottom-color: var(--fill-color);\n",
              "    }\n",
              "  }\n",
              "</style>\n",
              "\n",
              "  <script>\n",
              "    async function quickchart(key) {\n",
              "      const quickchartButtonEl =\n",
              "        document.querySelector('#' + key + ' button');\n",
              "      quickchartButtonEl.disabled = true;  // To prevent multiple clicks.\n",
              "      quickchartButtonEl.classList.add('colab-df-spinner');\n",
              "      try {\n",
              "        const charts = await google.colab.kernel.invokeFunction(\n",
              "            'suggestCharts', [key], {});\n",
              "      } catch (error) {\n",
              "        console.error('Error during call to suggestCharts:', error);\n",
              "      }\n",
              "      quickchartButtonEl.classList.remove('colab-df-spinner');\n",
              "      quickchartButtonEl.classList.add('colab-df-quickchart-complete');\n",
              "    }\n",
              "    (() => {\n",
              "      let quickchartButtonEl =\n",
              "        document.querySelector('#df-14801768-5cf2-473a-83e1-fd4867119395 button');\n",
              "      quickchartButtonEl.style.display =\n",
              "        google.colab.kernel.accessAllowed ? 'block' : 'none';\n",
              "    })();\n",
              "  </script>\n",
              "</div>\n",
              "\n",
              "    </div>\n",
              "  </div>\n"
            ],
            "text/plain": [
              "                                   Item Category  Calories  Fat Calories  \\\n",
              "0                     Whopper® Sandwich  Burgers     660.0         360.0   \n",
              "1         Whopper® Sandwich with Cheese  Burgers     740.0         420.0   \n",
              "2      Bacon & Cheese Whopper® Sandwich  Burgers     790.0         460.0   \n",
              "3              Double Whopper® Sandwich  Burgers     900.0         520.0   \n",
              "4  Double Whopper® Sandwich with Cheese  Burgers     980.0         580.0   \n",
              "\n",
              "   Fat (g)  Saturated Fat (g)  Trans Fat (g)  Cholesterol (mg)  Sodium (mg)  \\\n",
              "0     40.0               12.0            1.5              90.0        980.0   \n",
              "1     46.0               16.0            2.0             115.0       1340.0   \n",
              "2     51.0               17.0            2.0             125.0       1560.0   \n",
              "3     58.0               20.0            3.0             175.0       1050.0   \n",
              "4     64.0               24.0            3.0             195.0       1410.0   \n",
              "\n",
              "   Total Carb (g)  Dietary Fiber (g)  Sugars (g)  Protein (g)  Weight Watchers  \n",
              "0            49.0                2.0        11.0         28.0            655.0  \n",
              "1            50.0                2.0        11.0         32.0            735.0  \n",
              "2            50.0                2.0        11.0         35.0            783.0  \n",
              "3            49.0                2.0        11.0         48.0            883.0  \n",
              "4            50.0                2.0        11.0         52.0            963.0  "
            ]
          },
          "execution_count": 4,
          "metadata": {},
          "output_type": "execute_result"
        }
      ],
      "source": [
        "data.head()"
      ]
    },
    {
      "cell_type": "code",
      "execution_count": 5,
      "metadata": {
        "colab": {
          "base_uri": "https://localhost:8080/"
        },
        "id": "en9TXEd7NAys",
        "outputId": "9f75e193-14ee-4191-eb6a-315483702243"
      },
      "outputs": [
        {
          "data": {
            "text/plain": [
              "Item                 0\n",
              "Category             0\n",
              "Calories             0\n",
              "Fat Calories         0\n",
              "Fat (g)              0\n",
              "Saturated Fat (g)    0\n",
              "Trans Fat (g)        0\n",
              "Cholesterol (mg)     0\n",
              "Sodium (mg)          0\n",
              "Total Carb (g)       0\n",
              "Dietary Fiber (g)    0\n",
              "Sugars (g)           0\n",
              "Protein (g)          0\n",
              "Weight Watchers      0\n",
              "dtype: int64"
            ]
          },
          "execution_count": 5,
          "metadata": {},
          "output_type": "execute_result"
        }
      ],
      "source": [
        "#Preprocesamiento\n",
        "data.isnull().sum()"
      ]
    },
    {
      "cell_type": "code",
      "execution_count": 6,
      "metadata": {
        "colab": {
          "base_uri": "https://localhost:8080/",
          "height": 355
        },
        "id": "Ol_u1iHaNvOQ",
        "outputId": "1405fad9-b2c5-4dd0-ece8-b1c4077225d1"
      },
      "outputs": [
        {
          "data": {
            "application/vnd.google.colaboratory.intrinsic+json": {
              "summary": "{\n  \"name\": \"data\",\n  \"rows\": 8,\n  \"fields\": [\n    {\n      \"column\": \"Calories\",\n      \"properties\": {\n        \"dtype\": \"number\",\n        \"std\": 386.6420483326768,\n        \"min\": 10.0,\n        \"max\": 1220.0,\n        \"num_unique_values\": 8,\n        \"samples\": [\n          501.42857142857144,\n          430.0,\n          77.0\n        ],\n        \"semantic_type\": \"\",\n        \"description\": \"\"\n      }\n    },\n    {\n      \"column\": \"Fat Calories\",\n      \"properties\": {\n        \"dtype\": \"number\",\n        \"std\": 231.7908963943364,\n        \"min\": 0.0,\n        \"max\": 750.0,\n        \"num_unique_values\": 8,\n        \"samples\": [\n          278.31168831168833,\n          250.0,\n          77.0\n        ],\n        \"semantic_type\": \"\",\n        \"description\": \"\"\n      }\n    },\n    {\n      \"column\": \"Fat (g)\",\n      \"properties\": {\n        \"dtype\": \"number\",\n        \"std\": 29.354171368238646,\n        \"min\": 0.0,\n        \"max\": 84.0,\n        \"num_unique_values\": 8,\n        \"samples\": [\n          30.967532467532468,\n          28.0,\n          77.0\n        ],\n        \"semantic_type\": \"\",\n        \"description\": \"\"\n      }\n    },\n    {\n      \"column\": \"Saturated Fat (g)\",\n      \"properties\": {\n        \"dtype\": \"number\",\n        \"std\": 25.38264212922315,\n        \"min\": 0.0,\n        \"max\": 77.0,\n        \"num_unique_values\": 8,\n        \"samples\": [\n          9.805194805194805,\n          8.0,\n          77.0\n        ],\n        \"semantic_type\": \"\",\n        \"description\": \"\"\n      }\n    },\n    {\n      \"column\": \"Trans Fat (g)\",\n      \"properties\": {\n        \"dtype\": \"number\",\n        \"std\": 26.923452388781396,\n        \"min\": 0.0,\n        \"max\": 77.0,\n        \"num_unique_values\": 6,\n        \"samples\": [\n          77.0,\n          0.6363636363636364,\n          4.5\n        ],\n        \"semantic_type\": \"\",\n        \"description\": \"\"\n      }\n    },\n    {\n      \"column\": \"Cholesterol (mg)\",\n      \"properties\": {\n        \"dtype\": \"number\",\n        \"std\": 122.15328356926338,\n        \"min\": 0.0,\n        \"max\": 390.0,\n        \"num_unique_values\": 8,\n        \"samples\": [\n          101.75324675324676,\n          70.0,\n          77.0\n        ],\n        \"semantic_type\": \"\",\n        \"description\": \"\"\n      }\n    },\n    {\n      \"column\": \"Sodium (mg)\",\n      \"properties\": {\n        \"dtype\": \"number\",\n        \"std\": 910.4861082806912,\n        \"min\": 0.0,\n        \"max\": 2840.0,\n        \"num_unique_values\": 8,\n        \"samples\": [\n          993.2467532467532,\n          1010.0,\n          77.0\n        ],\n        \"semantic_type\": \"\",\n        \"description\": \"\"\n      }\n    },\n    {\n      \"column\": \"Total Carb (g)\",\n      \"properties\": {\n        \"dtype\": \"number\",\n        \"std\": 34.75973677093114,\n        \"min\": 1.0,\n        \"max\": 110.0,\n        \"num_unique_values\": 8,\n        \"samples\": [\n          35.18181818181818,\n          30.0,\n          77.0\n        ],\n        \"semantic_type\": \"\",\n        \"description\": \"\"\n      }\n    },\n    {\n      \"column\": \"Dietary Fiber (g)\",\n      \"properties\": {\n        \"dtype\": \"number\",\n        \"std\": 26.53823542179525,\n        \"min\": 0.0,\n        \"max\": 77.0,\n        \"num_unique_values\": 7,\n        \"samples\": [\n          77.0,\n          1.7792207792207793,\n          2.0\n        ],\n        \"semantic_type\": \"\",\n        \"description\": \"\"\n      }\n    },\n    {\n      \"column\": \"Sugars (g)\",\n      \"properties\": {\n        \"dtype\": \"number\",\n        \"std\": 26.819736583695004,\n        \"min\": 0.0,\n        \"max\": 77.0,\n        \"num_unique_values\": 8,\n        \"samples\": [\n          6.636363636363637,\n          6.0,\n          77.0\n        ],\n        \"semantic_type\": \"\",\n        \"description\": \"\"\n      }\n    },\n    {\n      \"column\": \"Protein (g)\",\n      \"properties\": {\n        \"dtype\": \"number\",\n        \"std\": 28.116413224398283,\n        \"min\": 0.0,\n        \"max\": 77.0,\n        \"num_unique_values\": 8,\n        \"samples\": [\n          20.90909090909091,\n          17.0,\n          77.0\n        ],\n        \"semantic_type\": \"\",\n        \"description\": \"\"\n      }\n    },\n    {\n      \"column\": \"Weight Watchers\",\n      \"properties\": {\n        \"dtype\": \"number\",\n        \"std\": 378.01690368182386,\n        \"min\": 12.0,\n        \"max\": 1192.0,\n        \"num_unique_values\": 8,\n        \"samples\": [\n          497.06493506493507,\n          416.0,\n          77.0\n        ],\n        \"semantic_type\": \"\",\n        \"description\": \"\"\n      }\n    }\n  ]\n}",
              "type": "dataframe"
            },
            "text/html": [
              "\n",
              "  <div id=\"df-13ad26c4-ac33-4d7e-a91b-ebe0760f2292\" class=\"colab-df-container\">\n",
              "    <div>\n",
              "<style scoped>\n",
              "    .dataframe tbody tr th:only-of-type {\n",
              "        vertical-align: middle;\n",
              "    }\n",
              "\n",
              "    .dataframe tbody tr th {\n",
              "        vertical-align: top;\n",
              "    }\n",
              "\n",
              "    .dataframe thead th {\n",
              "        text-align: right;\n",
              "    }\n",
              "</style>\n",
              "<table border=\"1\" class=\"dataframe\">\n",
              "  <thead>\n",
              "    <tr style=\"text-align: right;\">\n",
              "      <th></th>\n",
              "      <th>Calories</th>\n",
              "      <th>Fat Calories</th>\n",
              "      <th>Fat (g)</th>\n",
              "      <th>Saturated Fat (g)</th>\n",
              "      <th>Trans Fat (g)</th>\n",
              "      <th>Cholesterol (mg)</th>\n",
              "      <th>Sodium (mg)</th>\n",
              "      <th>Total Carb (g)</th>\n",
              "      <th>Dietary Fiber (g)</th>\n",
              "      <th>Sugars (g)</th>\n",
              "      <th>Protein (g)</th>\n",
              "      <th>Weight Watchers</th>\n",
              "    </tr>\n",
              "  </thead>\n",
              "  <tbody>\n",
              "    <tr>\n",
              "      <th>count</th>\n",
              "      <td>77.000000</td>\n",
              "      <td>77.000000</td>\n",
              "      <td>77.000000</td>\n",
              "      <td>77.000000</td>\n",
              "      <td>77.000000</td>\n",
              "      <td>77.000000</td>\n",
              "      <td>77.000000</td>\n",
              "      <td>77.000000</td>\n",
              "      <td>77.000000</td>\n",
              "      <td>77.000000</td>\n",
              "      <td>77.000000</td>\n",
              "      <td>77.000000</td>\n",
              "    </tr>\n",
              "    <tr>\n",
              "      <th>mean</th>\n",
              "      <td>501.428571</td>\n",
              "      <td>278.311688</td>\n",
              "      <td>30.967532</td>\n",
              "      <td>9.805195</td>\n",
              "      <td>0.636364</td>\n",
              "      <td>101.753247</td>\n",
              "      <td>993.246753</td>\n",
              "      <td>35.181818</td>\n",
              "      <td>1.779221</td>\n",
              "      <td>6.636364</td>\n",
              "      <td>20.909091</td>\n",
              "      <td>497.064935</td>\n",
              "    </tr>\n",
              "    <tr>\n",
              "      <th>std</th>\n",
              "      <td>307.612685</td>\n",
              "      <td>184.393762</td>\n",
              "      <td>20.535966</td>\n",
              "      <td>8.118431</td>\n",
              "      <td>1.128682</td>\n",
              "      <td>97.958659</td>\n",
              "      <td>613.426403</td>\n",
              "      <td>20.716588</td>\n",
              "      <td>1.690713</td>\n",
              "      <td>6.973463</td>\n",
              "      <td>17.145033</td>\n",
              "      <td>302.238070</td>\n",
              "    </tr>\n",
              "    <tr>\n",
              "      <th>min</th>\n",
              "      <td>10.000000</td>\n",
              "      <td>0.000000</td>\n",
              "      <td>0.000000</td>\n",
              "      <td>0.000000</td>\n",
              "      <td>0.000000</td>\n",
              "      <td>0.000000</td>\n",
              "      <td>0.000000</td>\n",
              "      <td>1.000000</td>\n",
              "      <td>0.000000</td>\n",
              "      <td>0.000000</td>\n",
              "      <td>0.000000</td>\n",
              "      <td>12.000000</td>\n",
              "    </tr>\n",
              "    <tr>\n",
              "      <th>25%</th>\n",
              "      <td>260.000000</td>\n",
              "      <td>140.000000</td>\n",
              "      <td>16.000000</td>\n",
              "      <td>3.500000</td>\n",
              "      <td>0.000000</td>\n",
              "      <td>25.000000</td>\n",
              "      <td>470.000000</td>\n",
              "      <td>26.000000</td>\n",
              "      <td>1.000000</td>\n",
              "      <td>1.000000</td>\n",
              "      <td>12.000000</td>\n",
              "      <td>252.000000</td>\n",
              "    </tr>\n",
              "    <tr>\n",
              "      <th>50%</th>\n",
              "      <td>430.000000</td>\n",
              "      <td>250.000000</td>\n",
              "      <td>28.000000</td>\n",
              "      <td>8.000000</td>\n",
              "      <td>0.000000</td>\n",
              "      <td>70.000000</td>\n",
              "      <td>1010.000000</td>\n",
              "      <td>30.000000</td>\n",
              "      <td>1.000000</td>\n",
              "      <td>6.000000</td>\n",
              "      <td>17.000000</td>\n",
              "      <td>416.000000</td>\n",
              "    </tr>\n",
              "    <tr>\n",
              "      <th>75%</th>\n",
              "      <td>700.000000</td>\n",
              "      <td>380.000000</td>\n",
              "      <td>42.000000</td>\n",
              "      <td>14.000000</td>\n",
              "      <td>0.500000</td>\n",
              "      <td>175.000000</td>\n",
              "      <td>1420.000000</td>\n",
              "      <td>49.000000</td>\n",
              "      <td>2.000000</td>\n",
              "      <td>10.000000</td>\n",
              "      <td>28.000000</td>\n",
              "      <td>690.000000</td>\n",
              "    </tr>\n",
              "    <tr>\n",
              "      <th>max</th>\n",
              "      <td>1220.000000</td>\n",
              "      <td>750.000000</td>\n",
              "      <td>84.000000</td>\n",
              "      <td>33.000000</td>\n",
              "      <td>4.500000</td>\n",
              "      <td>390.000000</td>\n",
              "      <td>2840.000000</td>\n",
              "      <td>110.000000</td>\n",
              "      <td>9.000000</td>\n",
              "      <td>40.000000</td>\n",
              "      <td>71.000000</td>\n",
              "      <td>1192.000000</td>\n",
              "    </tr>\n",
              "  </tbody>\n",
              "</table>\n",
              "</div>\n",
              "    <div class=\"colab-df-buttons\">\n",
              "\n",
              "  <div class=\"colab-df-container\">\n",
              "    <button class=\"colab-df-convert\" onclick=\"convertToInteractive('df-13ad26c4-ac33-4d7e-a91b-ebe0760f2292')\"\n",
              "            title=\"Convert this dataframe to an interactive table.\"\n",
              "            style=\"display:none;\">\n",
              "\n",
              "  <svg xmlns=\"http://www.w3.org/2000/svg\" height=\"24px\" viewBox=\"0 -960 960 960\">\n",
              "    <path d=\"M120-120v-720h720v720H120Zm60-500h600v-160H180v160Zm220 220h160v-160H400v160Zm0 220h160v-160H400v160ZM180-400h160v-160H180v160Zm440 0h160v-160H620v160ZM180-180h160v-160H180v160Zm440 0h160v-160H620v160Z\"/>\n",
              "  </svg>\n",
              "    </button>\n",
              "\n",
              "  <style>\n",
              "    .colab-df-container {\n",
              "      display:flex;\n",
              "      gap: 12px;\n",
              "    }\n",
              "\n",
              "    .colab-df-convert {\n",
              "      background-color: #E8F0FE;\n",
              "      border: none;\n",
              "      border-radius: 50%;\n",
              "      cursor: pointer;\n",
              "      display: none;\n",
              "      fill: #1967D2;\n",
              "      height: 32px;\n",
              "      padding: 0 0 0 0;\n",
              "      width: 32px;\n",
              "    }\n",
              "\n",
              "    .colab-df-convert:hover {\n",
              "      background-color: #E2EBFA;\n",
              "      box-shadow: 0px 1px 2px rgba(60, 64, 67, 0.3), 0px 1px 3px 1px rgba(60, 64, 67, 0.15);\n",
              "      fill: #174EA6;\n",
              "    }\n",
              "\n",
              "    .colab-df-buttons div {\n",
              "      margin-bottom: 4px;\n",
              "    }\n",
              "\n",
              "    [theme=dark] .colab-df-convert {\n",
              "      background-color: #3B4455;\n",
              "      fill: #D2E3FC;\n",
              "    }\n",
              "\n",
              "    [theme=dark] .colab-df-convert:hover {\n",
              "      background-color: #434B5C;\n",
              "      box-shadow: 0px 1px 3px 1px rgba(0, 0, 0, 0.15);\n",
              "      filter: drop-shadow(0px 1px 2px rgba(0, 0, 0, 0.3));\n",
              "      fill: #FFFFFF;\n",
              "    }\n",
              "  </style>\n",
              "\n",
              "    <script>\n",
              "      const buttonEl =\n",
              "        document.querySelector('#df-13ad26c4-ac33-4d7e-a91b-ebe0760f2292 button.colab-df-convert');\n",
              "      buttonEl.style.display =\n",
              "        google.colab.kernel.accessAllowed ? 'block' : 'none';\n",
              "\n",
              "      async function convertToInteractive(key) {\n",
              "        const element = document.querySelector('#df-13ad26c4-ac33-4d7e-a91b-ebe0760f2292');\n",
              "        const dataTable =\n",
              "          await google.colab.kernel.invokeFunction('convertToInteractive',\n",
              "                                                    [key], {});\n",
              "        if (!dataTable) return;\n",
              "\n",
              "        const docLinkHtml = 'Like what you see? Visit the ' +\n",
              "          '<a target=\"_blank\" href=https://colab.research.google.com/notebooks/data_table.ipynb>data table notebook</a>'\n",
              "          + ' to learn more about interactive tables.';\n",
              "        element.innerHTML = '';\n",
              "        dataTable['output_type'] = 'display_data';\n",
              "        await google.colab.output.renderOutput(dataTable, element);\n",
              "        const docLink = document.createElement('div');\n",
              "        docLink.innerHTML = docLinkHtml;\n",
              "        element.appendChild(docLink);\n",
              "      }\n",
              "    </script>\n",
              "  </div>\n",
              "\n",
              "\n",
              "<div id=\"df-38718b89-58a5-4414-a7a6-6e3008b55ecf\">\n",
              "  <button class=\"colab-df-quickchart\" onclick=\"quickchart('df-38718b89-58a5-4414-a7a6-6e3008b55ecf')\"\n",
              "            title=\"Suggest charts\"\n",
              "            style=\"display:none;\">\n",
              "\n",
              "<svg xmlns=\"http://www.w3.org/2000/svg\" height=\"24px\"viewBox=\"0 0 24 24\"\n",
              "     width=\"24px\">\n",
              "    <g>\n",
              "        <path d=\"M19 3H5c-1.1 0-2 .9-2 2v14c0 1.1.9 2 2 2h14c1.1 0 2-.9 2-2V5c0-1.1-.9-2-2-2zM9 17H7v-7h2v7zm4 0h-2V7h2v10zm4 0h-2v-4h2v4z\"/>\n",
              "    </g>\n",
              "</svg>\n",
              "  </button>\n",
              "\n",
              "<style>\n",
              "  .colab-df-quickchart {\n",
              "      --bg-color: #E8F0FE;\n",
              "      --fill-color: #1967D2;\n",
              "      --hover-bg-color: #E2EBFA;\n",
              "      --hover-fill-color: #174EA6;\n",
              "      --disabled-fill-color: #AAA;\n",
              "      --disabled-bg-color: #DDD;\n",
              "  }\n",
              "\n",
              "  [theme=dark] .colab-df-quickchart {\n",
              "      --bg-color: #3B4455;\n",
              "      --fill-color: #D2E3FC;\n",
              "      --hover-bg-color: #434B5C;\n",
              "      --hover-fill-color: #FFFFFF;\n",
              "      --disabled-bg-color: #3B4455;\n",
              "      --disabled-fill-color: #666;\n",
              "  }\n",
              "\n",
              "  .colab-df-quickchart {\n",
              "    background-color: var(--bg-color);\n",
              "    border: none;\n",
              "    border-radius: 50%;\n",
              "    cursor: pointer;\n",
              "    display: none;\n",
              "    fill: var(--fill-color);\n",
              "    height: 32px;\n",
              "    padding: 0;\n",
              "    width: 32px;\n",
              "  }\n",
              "\n",
              "  .colab-df-quickchart:hover {\n",
              "    background-color: var(--hover-bg-color);\n",
              "    box-shadow: 0 1px 2px rgba(60, 64, 67, 0.3), 0 1px 3px 1px rgba(60, 64, 67, 0.15);\n",
              "    fill: var(--button-hover-fill-color);\n",
              "  }\n",
              "\n",
              "  .colab-df-quickchart-complete:disabled,\n",
              "  .colab-df-quickchart-complete:disabled:hover {\n",
              "    background-color: var(--disabled-bg-color);\n",
              "    fill: var(--disabled-fill-color);\n",
              "    box-shadow: none;\n",
              "  }\n",
              "\n",
              "  .colab-df-spinner {\n",
              "    border: 2px solid var(--fill-color);\n",
              "    border-color: transparent;\n",
              "    border-bottom-color: var(--fill-color);\n",
              "    animation:\n",
              "      spin 1s steps(1) infinite;\n",
              "  }\n",
              "\n",
              "  @keyframes spin {\n",
              "    0% {\n",
              "      border-color: transparent;\n",
              "      border-bottom-color: var(--fill-color);\n",
              "      border-left-color: var(--fill-color);\n",
              "    }\n",
              "    20% {\n",
              "      border-color: transparent;\n",
              "      border-left-color: var(--fill-color);\n",
              "      border-top-color: var(--fill-color);\n",
              "    }\n",
              "    30% {\n",
              "      border-color: transparent;\n",
              "      border-left-color: var(--fill-color);\n",
              "      border-top-color: var(--fill-color);\n",
              "      border-right-color: var(--fill-color);\n",
              "    }\n",
              "    40% {\n",
              "      border-color: transparent;\n",
              "      border-right-color: var(--fill-color);\n",
              "      border-top-color: var(--fill-color);\n",
              "    }\n",
              "    60% {\n",
              "      border-color: transparent;\n",
              "      border-right-color: var(--fill-color);\n",
              "    }\n",
              "    80% {\n",
              "      border-color: transparent;\n",
              "      border-right-color: var(--fill-color);\n",
              "      border-bottom-color: var(--fill-color);\n",
              "    }\n",
              "    90% {\n",
              "      border-color: transparent;\n",
              "      border-bottom-color: var(--fill-color);\n",
              "    }\n",
              "  }\n",
              "</style>\n",
              "\n",
              "  <script>\n",
              "    async function quickchart(key) {\n",
              "      const quickchartButtonEl =\n",
              "        document.querySelector('#' + key + ' button');\n",
              "      quickchartButtonEl.disabled = true;  // To prevent multiple clicks.\n",
              "      quickchartButtonEl.classList.add('colab-df-spinner');\n",
              "      try {\n",
              "        const charts = await google.colab.kernel.invokeFunction(\n",
              "            'suggestCharts', [key], {});\n",
              "      } catch (error) {\n",
              "        console.error('Error during call to suggestCharts:', error);\n",
              "      }\n",
              "      quickchartButtonEl.classList.remove('colab-df-spinner');\n",
              "      quickchartButtonEl.classList.add('colab-df-quickchart-complete');\n",
              "    }\n",
              "    (() => {\n",
              "      let quickchartButtonEl =\n",
              "        document.querySelector('#df-38718b89-58a5-4414-a7a6-6e3008b55ecf button');\n",
              "      quickchartButtonEl.style.display =\n",
              "        google.colab.kernel.accessAllowed ? 'block' : 'none';\n",
              "    })();\n",
              "  </script>\n",
              "</div>\n",
              "\n",
              "    </div>\n",
              "  </div>\n"
            ],
            "text/plain": [
              "          Calories  Fat Calories    Fat (g)  Saturated Fat (g)  Trans Fat (g)  \\\n",
              "count    77.000000     77.000000  77.000000          77.000000      77.000000   \n",
              "mean    501.428571    278.311688  30.967532           9.805195       0.636364   \n",
              "std     307.612685    184.393762  20.535966           8.118431       1.128682   \n",
              "min      10.000000      0.000000   0.000000           0.000000       0.000000   \n",
              "25%     260.000000    140.000000  16.000000           3.500000       0.000000   \n",
              "50%     430.000000    250.000000  28.000000           8.000000       0.000000   \n",
              "75%     700.000000    380.000000  42.000000          14.000000       0.500000   \n",
              "max    1220.000000    750.000000  84.000000          33.000000       4.500000   \n",
              "\n",
              "       Cholesterol (mg)  Sodium (mg)  Total Carb (g)  Dietary Fiber (g)  \\\n",
              "count         77.000000    77.000000       77.000000          77.000000   \n",
              "mean         101.753247   993.246753       35.181818           1.779221   \n",
              "std           97.958659   613.426403       20.716588           1.690713   \n",
              "min            0.000000     0.000000        1.000000           0.000000   \n",
              "25%           25.000000   470.000000       26.000000           1.000000   \n",
              "50%           70.000000  1010.000000       30.000000           1.000000   \n",
              "75%          175.000000  1420.000000       49.000000           2.000000   \n",
              "max          390.000000  2840.000000      110.000000           9.000000   \n",
              "\n",
              "       Sugars (g)  Protein (g)  Weight Watchers  \n",
              "count   77.000000    77.000000        77.000000  \n",
              "mean     6.636364    20.909091       497.064935  \n",
              "std      6.973463    17.145033       302.238070  \n",
              "min      0.000000     0.000000        12.000000  \n",
              "25%      1.000000    12.000000       252.000000  \n",
              "50%      6.000000    17.000000       416.000000  \n",
              "75%     10.000000    28.000000       690.000000  \n",
              "max     40.000000    71.000000      1192.000000  "
            ]
          },
          "execution_count": 6,
          "metadata": {},
          "output_type": "execute_result"
        }
      ],
      "source": [
        "data.describe()"
      ]
    },
    {
      "cell_type": "code",
      "execution_count": 28,
      "metadata": {
        "colab": {
          "base_uri": "https://localhost:8080/"
        },
        "id": "zCtuRP5wODZS",
        "outputId": "7ce0f5bd-1044-4178-837e-1533e92ef862"
      },
      "outputs": [
        {
          "data": {
            "text/plain": [
              "Index(['Item', 'Category', 'Calories', 'Fat Calories', 'Fat (g)',\n",
              "       'Saturated Fat (g)', 'Trans Fat (g)', 'Cholesterol (mg)', 'Sodium (mg)',\n",
              "       'Total Carb (g)', 'Dietary Fiber (g)', 'Sugars (g)', 'Protein (g)',\n",
              "       'Weight Watchers', 'cluster'],\n",
              "      dtype='object')"
            ]
          },
          "execution_count": 28,
          "metadata": {},
          "output_type": "execute_result"
        }
      ],
      "source": [
        "data.columns"
      ]
    },
    {
      "cell_type": "code",
      "execution_count": 29,
      "metadata": {
        "colab": {
          "base_uri": "https://localhost:8080/"
        },
        "id": "-jrdHBM7o7Jr",
        "outputId": "70739ba1-e168-4d04-ecc6-cbfce4f6918c"
      },
      "outputs": [
        {
          "data": {
            "text/plain": [
              "array([[40., 49.],\n",
              "       [46., 50.],\n",
              "       [51., 50.],\n",
              "       [58., 49.],\n",
              "       [64., 50.]])"
            ]
          },
          "execution_count": 29,
          "metadata": {},
          "output_type": "execute_result"
        }
      ],
      "source": [
        "#Seleccione las columnas de Grasas totales y total de carbohidratos .\n",
        "X =  data.iloc[:, [4, 9]].values\n",
        "X[0:5]\n"
      ]
    },
    {
      "cell_type": "code",
      "execution_count": 32,
      "metadata": {
        "colab": {
          "base_uri": "https://localhost:8080/"
        },
        "id": "VgnbKJSslbyA",
        "outputId": "ce49588d-1293-4ad5-8ed3-740505b51019"
      },
      "outputs": [
        {
          "data": {
            "text/plain": [
              "array([[0.44272071, 0.67138438],\n",
              "       [0.73680693, 0.71997141],\n",
              "       [0.98187878, 0.71997141],\n",
              "       [1.32497937, 0.67138438],\n",
              "       [1.61906559, 0.71997141]])"
            ]
          },
          "execution_count": 32,
          "metadata": {},
          "output_type": "execute_result"
        }
      ],
      "source": [
        "#Estandarización de datos\n",
        "X_s = StandardScaler()\n",
        "X_std=X_s.fit_transform(X)\n",
        "X_std[0:5]"
      ]
    },
    {
      "cell_type": "markdown",
      "metadata": {
        "id": "8h8fSGbChAm4"
      },
      "source": [
        "## **Algoritmo K-means**"
      ]
    },
    {
      "cell_type": "markdown",
      "metadata": {
        "id": "y2tIac1RlpoA"
      },
      "source": [
        "# **Con Dask**"
      ]
    },
    {
      "cell_type": "code",
      "execution_count": 10,
      "metadata": {
        "id": "fiql_U8hlbyB"
      },
      "outputs": [],
      "source": [
        "#Convertir a Dask array\n",
        "X_std_dask = da.from_array(X_std,chunks=(1000,2))"
      ]
    },
    {
      "cell_type": "code",
      "execution_count": 12,
      "metadata": {
        "colab": {
          "base_uri": "https://localhost:8080/"
        },
        "id": "X3BgNapYlbyC",
        "outputId": "45f17a26-bcd9-435b-965b-aaa481d94345"
      },
      "outputs": [
        {
          "name": "stdout",
          "output_type": "stream",
          "text": [
            "Tiempo de ejecución en Dask: 0.54 segundos\n",
            "CPU usage: 54.8%\n",
            "Memory usage: 13.1%\n"
          ]
        }
      ],
      "source": [
        "import psutil\n",
        "#K-means con Dask-ML\n",
        "kmeans = KMeans(n_clusters=5,init='k-means||',max_iter=300,n_init=10,random_state=0)\n",
        "\n",
        "#Medir el tiempo de ejecución\n",
        "start_time1 = time.time()\n",
        "\n",
        "kmeans.fit(X_std_dask)\n",
        "\n",
        "# Calcular el tiempo de ejecución\n",
        "end_time = time.time()\n",
        "execution_time = end_time - start_time1\n",
        "print(\"Tiempo de ejecución en Dask: {:.2f} segundos\".format(execution_time))\n",
        "\n",
        "# Uso de recursos\n",
        "print(f'CPU usage: {psutil.cpu_percent()}%')\n",
        "print(f'Memory usage: {psutil.virtual_memory().percent}%')"
      ]
    },
    {
      "cell_type": "code",
      "execution_count": 13,
      "metadata": {
        "colab": {
          "base_uri": "https://localhost:8080/"
        },
        "id": "dm8kAfZClbyD",
        "outputId": "9a5cd8ea-e838-4d55-de4c-c8992af9a2c7"
      },
      "outputs": [
        {
          "data": {
            "text/plain": [
              "array([2, 2, 2, 2, 1, 1, 1, 0, 1, 1, 2, 2, 2, 1, 2, 4, 4, 0, 0, 2, 0, 0,\n",
              "       2, 2, 2, 2, 2, 0, 0, 4, 4, 0, 2, 4, 4, 0, 1, 4, 4, 2, 4, 4, 4, 4,\n",
              "       0, 0, 0, 0, 0, 0, 2, 0, 0, 0, 0, 0, 0, 0, 2, 3, 3, 2, 4, 2, 2, 4,\n",
              "       0, 4, 4, 4, 4, 4, 4, 4, 4, 4, 4], dtype=int32)"
            ]
          },
          "execution_count": 13,
          "metadata": {},
          "output_type": "execute_result"
        }
      ],
      "source": [
        "#Predicciones de los clusters\n",
        "y_kmeans=kmeans.predict(X_std_dask).compute()\n",
        "y_kmeans"
      ]
    },
    {
      "cell_type": "code",
      "execution_count": 14,
      "metadata": {
        "id": "lAj8Z7rAlbyD"
      },
      "outputs": [],
      "source": [
        "#Obtener los centroides estandarizados\n",
        "centroides_estandarizados=kmeans.cluster_centers_"
      ]
    },
    {
      "cell_type": "code",
      "execution_count": 15,
      "metadata": {
        "colab": {
          "base_uri": "https://localhost:8080/"
        },
        "id": "zB5ZZ6trlbyD",
        "outputId": "e6e4b0d8-2e9f-4f64-bb23-44fb1083164f"
      },
      "outputs": [
        {
          "data": {
            "text/plain": [
              "array([[-0.19020399, -0.24331922],\n",
              "       [ 2.16522572,  0.74079442],\n",
              "       [ 0.58042775,  0.85879148],\n",
              "       [ 0.68779256,  3.27079035],\n",
              "       [-1.01443567, -1.00689253]])"
            ]
          },
          "execution_count": 15,
          "metadata": {},
          "output_type": "execute_result"
        }
      ],
      "source": [
        "centroides_estandarizados"
      ]
    },
    {
      "cell_type": "code",
      "execution_count": 16,
      "metadata": {
        "colab": {
          "base_uri": "https://localhost:8080/",
          "height": 466
        },
        "id": "q23OrdjLlbyE",
        "outputId": "014fcbf8-86f1-4205-e535-c94ed66cc2c3"
      },
      "outputs": [
        {
          "data": {
            "application/vnd.google.colaboratory.intrinsic+json": {
              "summary": "{\n  \"name\": \"data\",\n  \"rows\": 77,\n  \"fields\": [\n    {\n      \"column\": \"Item\",\n      \"properties\": {\n        \"dtype\": \"string\",\n        \"num_unique_values\": 73,\n        \"samples\": [\n          \"Double Whopper\\u00ae Sandwich with Cheese\",\n          \"American Cheese (slice)\",\n          \"Double Cheeseburger\"\n        ],\n        \"semantic_type\": \"\",\n        \"description\": \"\"\n      }\n    },\n    {\n      \"column\": \"Category\",\n      \"properties\": {\n        \"dtype\": \"category\",\n        \"num_unique_values\": 3,\n        \"samples\": [\n          \"Burgers\",\n          \"Chicken\",\n          \"Breakfast\"\n        ],\n        \"semantic_type\": \"\",\n        \"description\": \"\"\n      }\n    },\n    {\n      \"column\": \"Calories\",\n      \"properties\": {\n        \"dtype\": \"number\",\n        \"std\": 307.6126848973794,\n        \"min\": 10.0,\n        \"max\": 1220.0,\n        \"num_unique_values\": 50,\n        \"samples\": [\n          630.0,\n          250.0,\n          340.0\n        ],\n        \"semantic_type\": \"\",\n        \"description\": \"\"\n      }\n    },\n    {\n      \"column\": \"Fat Calories\",\n      \"properties\": {\n        \"dtype\": \"number\",\n        \"std\": 184.3937620063351,\n        \"min\": 0.0,\n        \"max\": 750.0,\n        \"num_unique_values\": 46,\n        \"samples\": [\n          390.0,\n          150.0,\n          240.0\n        ],\n        \"semantic_type\": \"\",\n        \"description\": \"\"\n      }\n    },\n    {\n      \"column\": \"Fat (g)\",\n      \"properties\": {\n        \"dtype\": \"number\",\n        \"std\": 20.535966149009745,\n        \"min\": 0.0,\n        \"max\": 84.0,\n        \"num_unique_values\": 45,\n        \"samples\": [\n          44.0,\n          11.0,\n          27.0\n        ],\n        \"semantic_type\": \"\",\n        \"description\": \"\"\n      }\n    },\n    {\n      \"column\": \"Saturated Fat (g)\",\n      \"properties\": {\n        \"dtype\": \"number\",\n        \"std\": 8.118430884557744,\n        \"min\": 0.0,\n        \"max\": 33.0,\n        \"num_unique_values\": 29,\n        \"samples\": [\n          0.5,\n          9.0,\n          11.0\n        ],\n        \"semantic_type\": \"\",\n        \"description\": \"\"\n      }\n    },\n    {\n      \"column\": \"Trans Fat (g)\",\n      \"properties\": {\n        \"dtype\": \"number\",\n        \"std\": 1.1286821718163518,\n        \"min\": 0.0,\n        \"max\": 4.5,\n        \"num_unique_values\": 9,\n        \"samples\": [\n          0.0,\n          2.0,\n          0.5\n        ],\n        \"semantic_type\": \"\",\n        \"description\": \"\"\n      }\n    },\n    {\n      \"column\": \"Cholesterol (mg)\",\n      \"properties\": {\n        \"dtype\": \"number\",\n        \"std\": 97.95865882097459,\n        \"min\": 0.0,\n        \"max\": 390.0,\n        \"num_unique_values\": 39,\n        \"samples\": [\n          150.0,\n          380.0,\n          195.0\n        ],\n        \"semantic_type\": \"\",\n        \"description\": \"\"\n      }\n    },\n    {\n      \"column\": \"Sodium (mg)\",\n      \"properties\": {\n        \"dtype\": \"number\",\n        \"std\": 613.4264026511926,\n        \"min\": 0.0,\n        \"max\": 2840.0,\n        \"num_unique_values\": 60,\n        \"samples\": [\n          980.0,\n          1120.0,\n          1030.0\n        ],\n        \"semantic_type\": \"\",\n        \"description\": \"\"\n      }\n    },\n    {\n      \"column\": \"Total Carb (g)\",\n      \"properties\": {\n        \"dtype\": \"number\",\n        \"std\": 20.716588365192347,\n        \"min\": 1.0,\n        \"max\": 110.0,\n        \"num_unique_values\": 36,\n        \"samples\": [\n          8.0,\n          11.0,\n          110.0\n        ],\n        \"semantic_type\": \"\",\n        \"description\": \"\"\n      }\n    },\n    {\n      \"column\": \"Dietary Fiber (g)\",\n      \"properties\": {\n        \"dtype\": \"number\",\n        \"std\": 1.6907128411239711,\n        \"min\": 0.0,\n        \"max\": 9.0,\n        \"num_unique_values\": 8,\n        \"samples\": [\n          1.0,\n          5.0,\n          2.0\n        ],\n        \"semantic_type\": \"\",\n        \"description\": \"\"\n      }\n    },\n    {\n      \"column\": \"Sugars (g)\",\n      \"properties\": {\n        \"dtype\": \"number\",\n        \"std\": 6.973463027999131,\n        \"min\": 0.0,\n        \"max\": 40.0,\n        \"num_unique_values\": 18,\n        \"samples\": [\n          11.0,\n          7.0,\n          13.0\n        ],\n        \"semantic_type\": \"\",\n        \"description\": \"\"\n      }\n    },\n    {\n      \"column\": \"Protein (g)\",\n      \"properties\": {\n        \"dtype\": \"number\",\n        \"std\": 17.14503289906578,\n        \"min\": 0.0,\n        \"max\": 71.0,\n        \"num_unique_values\": 34,\n        \"samples\": [\n          29.0,\n          8.0,\n          27.0\n        ],\n        \"semantic_type\": \"\",\n        \"description\": \"\"\n      }\n    },\n    {\n      \"column\": \"Weight Watchers\",\n      \"properties\": {\n        \"dtype\": \"number\",\n        \"std\": 302.2380700558984,\n        \"min\": 12.0,\n        \"max\": 1192.0,\n        \"num_unique_values\": 72,\n        \"samples\": [\n          963.0,\n          40.0,\n          383.0\n        ],\n        \"semantic_type\": \"\",\n        \"description\": \"\"\n      }\n    },\n    {\n      \"column\": \"cluster\",\n      \"properties\": {\n        \"dtype\": \"int32\",\n        \"num_unique_values\": 5,\n        \"samples\": [\n          1,\n          3,\n          0\n        ],\n        \"semantic_type\": \"\",\n        \"description\": \"\"\n      }\n    }\n  ]\n}",
              "type": "dataframe",
              "variable_name": "data"
            },
            "text/html": [
              "\n",
              "  <div id=\"df-69238380-e19b-465a-8169-0c277ca75701\" class=\"colab-df-container\">\n",
              "    <div>\n",
              "<style scoped>\n",
              "    .dataframe tbody tr th:only-of-type {\n",
              "        vertical-align: middle;\n",
              "    }\n",
              "\n",
              "    .dataframe tbody tr th {\n",
              "        vertical-align: top;\n",
              "    }\n",
              "\n",
              "    .dataframe thead th {\n",
              "        text-align: right;\n",
              "    }\n",
              "</style>\n",
              "<table border=\"1\" class=\"dataframe\">\n",
              "  <thead>\n",
              "    <tr style=\"text-align: right;\">\n",
              "      <th></th>\n",
              "      <th>Item</th>\n",
              "      <th>Category</th>\n",
              "      <th>Calories</th>\n",
              "      <th>Fat Calories</th>\n",
              "      <th>Fat (g)</th>\n",
              "      <th>Saturated Fat (g)</th>\n",
              "      <th>Trans Fat (g)</th>\n",
              "      <th>Cholesterol (mg)</th>\n",
              "      <th>Sodium (mg)</th>\n",
              "      <th>Total Carb (g)</th>\n",
              "      <th>Dietary Fiber (g)</th>\n",
              "      <th>Sugars (g)</th>\n",
              "      <th>Protein (g)</th>\n",
              "      <th>Weight Watchers</th>\n",
              "      <th>cluster</th>\n",
              "    </tr>\n",
              "  </thead>\n",
              "  <tbody>\n",
              "    <tr>\n",
              "      <th>0</th>\n",
              "      <td>Whopper® Sandwich</td>\n",
              "      <td>Burgers</td>\n",
              "      <td>660.0</td>\n",
              "      <td>360.0</td>\n",
              "      <td>40.0</td>\n",
              "      <td>12.0</td>\n",
              "      <td>1.5</td>\n",
              "      <td>90.0</td>\n",
              "      <td>980.0</td>\n",
              "      <td>49.0</td>\n",
              "      <td>2.0</td>\n",
              "      <td>11.0</td>\n",
              "      <td>28.0</td>\n",
              "      <td>655.0</td>\n",
              "      <td>2</td>\n",
              "    </tr>\n",
              "    <tr>\n",
              "      <th>1</th>\n",
              "      <td>Whopper® Sandwich with Cheese</td>\n",
              "      <td>Burgers</td>\n",
              "      <td>740.0</td>\n",
              "      <td>420.0</td>\n",
              "      <td>46.0</td>\n",
              "      <td>16.0</td>\n",
              "      <td>2.0</td>\n",
              "      <td>115.0</td>\n",
              "      <td>1340.0</td>\n",
              "      <td>50.0</td>\n",
              "      <td>2.0</td>\n",
              "      <td>11.0</td>\n",
              "      <td>32.0</td>\n",
              "      <td>735.0</td>\n",
              "      <td>2</td>\n",
              "    </tr>\n",
              "    <tr>\n",
              "      <th>2</th>\n",
              "      <td>Bacon &amp; Cheese Whopper® Sandwich</td>\n",
              "      <td>Burgers</td>\n",
              "      <td>790.0</td>\n",
              "      <td>460.0</td>\n",
              "      <td>51.0</td>\n",
              "      <td>17.0</td>\n",
              "      <td>2.0</td>\n",
              "      <td>125.0</td>\n",
              "      <td>1560.0</td>\n",
              "      <td>50.0</td>\n",
              "      <td>2.0</td>\n",
              "      <td>11.0</td>\n",
              "      <td>35.0</td>\n",
              "      <td>783.0</td>\n",
              "      <td>2</td>\n",
              "    </tr>\n",
              "    <tr>\n",
              "      <th>3</th>\n",
              "      <td>Double Whopper® Sandwich</td>\n",
              "      <td>Burgers</td>\n",
              "      <td>900.0</td>\n",
              "      <td>520.0</td>\n",
              "      <td>58.0</td>\n",
              "      <td>20.0</td>\n",
              "      <td>3.0</td>\n",
              "      <td>175.0</td>\n",
              "      <td>1050.0</td>\n",
              "      <td>49.0</td>\n",
              "      <td>2.0</td>\n",
              "      <td>11.0</td>\n",
              "      <td>48.0</td>\n",
              "      <td>883.0</td>\n",
              "      <td>2</td>\n",
              "    </tr>\n",
              "    <tr>\n",
              "      <th>4</th>\n",
              "      <td>Double Whopper® Sandwich with Cheese</td>\n",
              "      <td>Burgers</td>\n",
              "      <td>980.0</td>\n",
              "      <td>580.0</td>\n",
              "      <td>64.0</td>\n",
              "      <td>24.0</td>\n",
              "      <td>3.0</td>\n",
              "      <td>195.0</td>\n",
              "      <td>1410.0</td>\n",
              "      <td>50.0</td>\n",
              "      <td>2.0</td>\n",
              "      <td>11.0</td>\n",
              "      <td>52.0</td>\n",
              "      <td>963.0</td>\n",
              "      <td>1</td>\n",
              "    </tr>\n",
              "  </tbody>\n",
              "</table>\n",
              "</div>\n",
              "    <div class=\"colab-df-buttons\">\n",
              "\n",
              "  <div class=\"colab-df-container\">\n",
              "    <button class=\"colab-df-convert\" onclick=\"convertToInteractive('df-69238380-e19b-465a-8169-0c277ca75701')\"\n",
              "            title=\"Convert this dataframe to an interactive table.\"\n",
              "            style=\"display:none;\">\n",
              "\n",
              "  <svg xmlns=\"http://www.w3.org/2000/svg\" height=\"24px\" viewBox=\"0 -960 960 960\">\n",
              "    <path d=\"M120-120v-720h720v720H120Zm60-500h600v-160H180v160Zm220 220h160v-160H400v160Zm0 220h160v-160H400v160ZM180-400h160v-160H180v160Zm440 0h160v-160H620v160ZM180-180h160v-160H180v160Zm440 0h160v-160H620v160Z\"/>\n",
              "  </svg>\n",
              "    </button>\n",
              "\n",
              "  <style>\n",
              "    .colab-df-container {\n",
              "      display:flex;\n",
              "      gap: 12px;\n",
              "    }\n",
              "\n",
              "    .colab-df-convert {\n",
              "      background-color: #E8F0FE;\n",
              "      border: none;\n",
              "      border-radius: 50%;\n",
              "      cursor: pointer;\n",
              "      display: none;\n",
              "      fill: #1967D2;\n",
              "      height: 32px;\n",
              "      padding: 0 0 0 0;\n",
              "      width: 32px;\n",
              "    }\n",
              "\n",
              "    .colab-df-convert:hover {\n",
              "      background-color: #E2EBFA;\n",
              "      box-shadow: 0px 1px 2px rgba(60, 64, 67, 0.3), 0px 1px 3px 1px rgba(60, 64, 67, 0.15);\n",
              "      fill: #174EA6;\n",
              "    }\n",
              "\n",
              "    .colab-df-buttons div {\n",
              "      margin-bottom: 4px;\n",
              "    }\n",
              "\n",
              "    [theme=dark] .colab-df-convert {\n",
              "      background-color: #3B4455;\n",
              "      fill: #D2E3FC;\n",
              "    }\n",
              "\n",
              "    [theme=dark] .colab-df-convert:hover {\n",
              "      background-color: #434B5C;\n",
              "      box-shadow: 0px 1px 3px 1px rgba(0, 0, 0, 0.15);\n",
              "      filter: drop-shadow(0px 1px 2px rgba(0, 0, 0, 0.3));\n",
              "      fill: #FFFFFF;\n",
              "    }\n",
              "  </style>\n",
              "\n",
              "    <script>\n",
              "      const buttonEl =\n",
              "        document.querySelector('#df-69238380-e19b-465a-8169-0c277ca75701 button.colab-df-convert');\n",
              "      buttonEl.style.display =\n",
              "        google.colab.kernel.accessAllowed ? 'block' : 'none';\n",
              "\n",
              "      async function convertToInteractive(key) {\n",
              "        const element = document.querySelector('#df-69238380-e19b-465a-8169-0c277ca75701');\n",
              "        const dataTable =\n",
              "          await google.colab.kernel.invokeFunction('convertToInteractive',\n",
              "                                                    [key], {});\n",
              "        if (!dataTable) return;\n",
              "\n",
              "        const docLinkHtml = 'Like what you see? Visit the ' +\n",
              "          '<a target=\"_blank\" href=https://colab.research.google.com/notebooks/data_table.ipynb>data table notebook</a>'\n",
              "          + ' to learn more about interactive tables.';\n",
              "        element.innerHTML = '';\n",
              "        dataTable['output_type'] = 'display_data';\n",
              "        await google.colab.output.renderOutput(dataTable, element);\n",
              "        const docLink = document.createElement('div');\n",
              "        docLink.innerHTML = docLinkHtml;\n",
              "        element.appendChild(docLink);\n",
              "      }\n",
              "    </script>\n",
              "  </div>\n",
              "\n",
              "\n",
              "<div id=\"df-540d62af-dee4-4cb6-8924-862fbde96f59\">\n",
              "  <button class=\"colab-df-quickchart\" onclick=\"quickchart('df-540d62af-dee4-4cb6-8924-862fbde96f59')\"\n",
              "            title=\"Suggest charts\"\n",
              "            style=\"display:none;\">\n",
              "\n",
              "<svg xmlns=\"http://www.w3.org/2000/svg\" height=\"24px\"viewBox=\"0 0 24 24\"\n",
              "     width=\"24px\">\n",
              "    <g>\n",
              "        <path d=\"M19 3H5c-1.1 0-2 .9-2 2v14c0 1.1.9 2 2 2h14c1.1 0 2-.9 2-2V5c0-1.1-.9-2-2-2zM9 17H7v-7h2v7zm4 0h-2V7h2v10zm4 0h-2v-4h2v4z\"/>\n",
              "    </g>\n",
              "</svg>\n",
              "  </button>\n",
              "\n",
              "<style>\n",
              "  .colab-df-quickchart {\n",
              "      --bg-color: #E8F0FE;\n",
              "      --fill-color: #1967D2;\n",
              "      --hover-bg-color: #E2EBFA;\n",
              "      --hover-fill-color: #174EA6;\n",
              "      --disabled-fill-color: #AAA;\n",
              "      --disabled-bg-color: #DDD;\n",
              "  }\n",
              "\n",
              "  [theme=dark] .colab-df-quickchart {\n",
              "      --bg-color: #3B4455;\n",
              "      --fill-color: #D2E3FC;\n",
              "      --hover-bg-color: #434B5C;\n",
              "      --hover-fill-color: #FFFFFF;\n",
              "      --disabled-bg-color: #3B4455;\n",
              "      --disabled-fill-color: #666;\n",
              "  }\n",
              "\n",
              "  .colab-df-quickchart {\n",
              "    background-color: var(--bg-color);\n",
              "    border: none;\n",
              "    border-radius: 50%;\n",
              "    cursor: pointer;\n",
              "    display: none;\n",
              "    fill: var(--fill-color);\n",
              "    height: 32px;\n",
              "    padding: 0;\n",
              "    width: 32px;\n",
              "  }\n",
              "\n",
              "  .colab-df-quickchart:hover {\n",
              "    background-color: var(--hover-bg-color);\n",
              "    box-shadow: 0 1px 2px rgba(60, 64, 67, 0.3), 0 1px 3px 1px rgba(60, 64, 67, 0.15);\n",
              "    fill: var(--button-hover-fill-color);\n",
              "  }\n",
              "\n",
              "  .colab-df-quickchart-complete:disabled,\n",
              "  .colab-df-quickchart-complete:disabled:hover {\n",
              "    background-color: var(--disabled-bg-color);\n",
              "    fill: var(--disabled-fill-color);\n",
              "    box-shadow: none;\n",
              "  }\n",
              "\n",
              "  .colab-df-spinner {\n",
              "    border: 2px solid var(--fill-color);\n",
              "    border-color: transparent;\n",
              "    border-bottom-color: var(--fill-color);\n",
              "    animation:\n",
              "      spin 1s steps(1) infinite;\n",
              "  }\n",
              "\n",
              "  @keyframes spin {\n",
              "    0% {\n",
              "      border-color: transparent;\n",
              "      border-bottom-color: var(--fill-color);\n",
              "      border-left-color: var(--fill-color);\n",
              "    }\n",
              "    20% {\n",
              "      border-color: transparent;\n",
              "      border-left-color: var(--fill-color);\n",
              "      border-top-color: var(--fill-color);\n",
              "    }\n",
              "    30% {\n",
              "      border-color: transparent;\n",
              "      border-left-color: var(--fill-color);\n",
              "      border-top-color: var(--fill-color);\n",
              "      border-right-color: var(--fill-color);\n",
              "    }\n",
              "    40% {\n",
              "      border-color: transparent;\n",
              "      border-right-color: var(--fill-color);\n",
              "      border-top-color: var(--fill-color);\n",
              "    }\n",
              "    60% {\n",
              "      border-color: transparent;\n",
              "      border-right-color: var(--fill-color);\n",
              "    }\n",
              "    80% {\n",
              "      border-color: transparent;\n",
              "      border-right-color: var(--fill-color);\n",
              "      border-bottom-color: var(--fill-color);\n",
              "    }\n",
              "    90% {\n",
              "      border-color: transparent;\n",
              "      border-bottom-color: var(--fill-color);\n",
              "    }\n",
              "  }\n",
              "</style>\n",
              "\n",
              "  <script>\n",
              "    async function quickchart(key) {\n",
              "      const quickchartButtonEl =\n",
              "        document.querySelector('#' + key + ' button');\n",
              "      quickchartButtonEl.disabled = true;  // To prevent multiple clicks.\n",
              "      quickchartButtonEl.classList.add('colab-df-spinner');\n",
              "      try {\n",
              "        const charts = await google.colab.kernel.invokeFunction(\n",
              "            'suggestCharts', [key], {});\n",
              "      } catch (error) {\n",
              "        console.error('Error during call to suggestCharts:', error);\n",
              "      }\n",
              "      quickchartButtonEl.classList.remove('colab-df-spinner');\n",
              "      quickchartButtonEl.classList.add('colab-df-quickchart-complete');\n",
              "    }\n",
              "    (() => {\n",
              "      let quickchartButtonEl =\n",
              "        document.querySelector('#df-540d62af-dee4-4cb6-8924-862fbde96f59 button');\n",
              "      quickchartButtonEl.style.display =\n",
              "        google.colab.kernel.accessAllowed ? 'block' : 'none';\n",
              "    })();\n",
              "  </script>\n",
              "</div>\n",
              "\n",
              "    </div>\n",
              "  </div>\n"
            ],
            "text/plain": [
              "                                   Item Category  Calories  Fat Calories  \\\n",
              "0                     Whopper® Sandwich  Burgers     660.0         360.0   \n",
              "1         Whopper® Sandwich with Cheese  Burgers     740.0         420.0   \n",
              "2      Bacon & Cheese Whopper® Sandwich  Burgers     790.0         460.0   \n",
              "3              Double Whopper® Sandwich  Burgers     900.0         520.0   \n",
              "4  Double Whopper® Sandwich with Cheese  Burgers     980.0         580.0   \n",
              "\n",
              "   Fat (g)  Saturated Fat (g)  Trans Fat (g)  Cholesterol (mg)  Sodium (mg)  \\\n",
              "0     40.0               12.0            1.5              90.0        980.0   \n",
              "1     46.0               16.0            2.0             115.0       1340.0   \n",
              "2     51.0               17.0            2.0             125.0       1560.0   \n",
              "3     58.0               20.0            3.0             175.0       1050.0   \n",
              "4     64.0               24.0            3.0             195.0       1410.0   \n",
              "\n",
              "   Total Carb (g)  Dietary Fiber (g)  Sugars (g)  Protein (g)  \\\n",
              "0            49.0                2.0        11.0         28.0   \n",
              "1            50.0                2.0        11.0         32.0   \n",
              "2            50.0                2.0        11.0         35.0   \n",
              "3            49.0                2.0        11.0         48.0   \n",
              "4            50.0                2.0        11.0         52.0   \n",
              "\n",
              "   Weight Watchers  cluster  \n",
              "0            655.0        2  \n",
              "1            735.0        2  \n",
              "2            783.0        2  \n",
              "3            883.0        2  \n",
              "4            963.0        1  "
            ]
          },
          "execution_count": 16,
          "metadata": {},
          "output_type": "execute_result"
        }
      ],
      "source": [
        "#Añadir la información de los clusters a los datos originales\n",
        "data['cluster']=y_kmeans\n",
        "data.head()"
      ]
    },
    {
      "cell_type": "code",
      "execution_count": 17,
      "metadata": {
        "id": "QFHpetwIlbyF"
      },
      "outputs": [],
      "source": [
        "# Transformación inversa de los centroides para obtener los valores originales\n",
        "centroides_originales = X_s.inverse_transform(centroides_estandarizados)"
      ]
    },
    {
      "cell_type": "code",
      "execution_count": 18,
      "metadata": {
        "colab": {
          "base_uri": "https://localhost:8080/",
          "height": 472
        },
        "id": "kb7dTpVllbyF",
        "outputId": "d99070aa-c62c-4668-b3bc-ad432c5a4083"
      },
      "outputs": [
        {
          "data": {
            "image/png": "[encoded data removed]",
            "text/plain": [
              "<Figure size 640x480 with 1 Axes>"
            ]
          },
          "metadata": {},
          "output_type": "display_data"
        }
      ],
      "source": [
        "# Visualizando los clusters\n",
        "plt.scatter(X[y_kmeans == 0, 0], X[y_kmeans == 0, 1], s=100, c='red', label='Cluster 1')\n",
        "plt.scatter(X[y_kmeans == 1, 0], X[y_kmeans == 1, 1], s=100, c='blue', label='Cluster 2')\n",
        "plt.scatter(X[y_kmeans == 2, 0], X[y_kmeans == 2, 1], s=100, c='green', label='Cluster 3')\n",
        "plt.scatter(X[y_kmeans == 3, 0], X[y_kmeans == 3, 1], s=100, c='gray', label='Cluster 4')\n",
        "plt.scatter(X[y_kmeans == 4, 0], X[y_kmeans == 4, 1], s=100, c='pink', label='Cluster 5')\n",
        "# Traza el centroide\n",
        "plt.scatter(centroides_originales[:, 0], centroides_originales[:, 1], s=300, c='yellow', label='Centroides')\n",
        "plt.title('Clusters de menú de Burger King (grasas totales - carbohidratos totales)')\n",
        "plt.xlabel('Grasas Total (g)')\n",
        "plt.ylabel('Carbohidratos totales (g)')\n",
        "plt.legend()\n",
        "plt.show()"
      ]
    },
    {
      "cell_type": "markdown",
      "metadata": {
        "id": "PSbCjiLicqNe"
      },
      "source": [
        "### **Métrica Silhouette Score**\n",
        "https://scikit-learn.org/stable/modules/generated/sklearn.metrics.silhouette_score.html\n",
        "\n",
        "Calcule el coeficiente de silueta medio de todas las muestras."
      ]
    },
    {
      "cell_type": "code",
      "execution_count": 19,
      "metadata": {
        "colab": {
          "base_uri": "https://localhost:8080/"
        },
        "id": "6Oj1VfZgbLii",
        "outputId": "707d1be8-321b-4875-ff25-981e7f27bfff"
      },
      "outputs": [
        {
          "data": {
            "text/plain": [
              "0.42543368368174217"
            ]
          },
          "execution_count": 19,
          "metadata": {},
          "output_type": "execute_result"
        }
      ],
      "source": [
        "silhouette_score(X_std_dask, y_kmeans)"
      ]
    },
    {
      "cell_type": "markdown",
      "metadata": {
        "id": "KIAitqsPc21l"
      },
      "source": [
        "### **Métrica  Davies-Bouldin Index**\n",
        "\n",
        "Es una métrica de validación que se utiliza para evaluar modelos de agrupación.\n",
        "\n",
        "https://www.geeksforgeeks.org/davies-bouldin-index/"
      ]
    },
    {
      "cell_type": "code",
      "execution_count": null,
      "metadata": {
        "colab": {
          "base_uri": "https://localhost:8080/"
        },
        "id": "z2G4xs_MYyNT",
        "outputId": "c4c53546-d9b8-465d-a12b-39bfda4659bc"
      },
      "outputs": [
        {
          "data": {
            "text/plain": [
              "0.6569043750286175"
            ]
          },
          "execution_count": 13,
          "metadata": {},
          "output_type": "execute_result"
        }
      ],
      "source": [
        "from sklearn.metrics import davies_bouldin_score\n",
        "davies_bouldin_score(X_std_dask, y_kmeans)"
      ]
    },
    {
      "cell_type": "markdown",
      "metadata": {
        "id": "pWS9z68Ll-jG"
      },
      "source": [
        "# **Con Pyspark**"
      ]
    },
    {
      "cell_type": "code",
      "execution_count": 20,
      "metadata": {
        "colab": {
          "base_uri": "https://localhost:8080/"
        },
        "id": "-xusPEqHg2KF",
        "outputId": "71ac101e-9963-417e-a7a5-1cdc00608ea1"
      },
      "outputs": [
        {
          "name": "stdout",
          "output_type": "stream",
          "text": [
            "Spark Version: 3.5.1\n"
          ]
        }
      ],
      "source": [
        "#Iniciar el servidor PySpark\n",
        "spark = SparkSession.builder.appName('cluster').getOrCreate()\n",
        "print('Spark Version: {}'.format(spark.version))"
      ]
    },
    {
      "cell_type": "code",
      "execution_count": 21,
      "metadata": {
        "colab": {
          "base_uri": "https://localhost:8080/"
        },
        "id": "psaAfVrBqjUu",
        "outputId": "9aada38f-0386-4c2c-de2c-6bff6f1cbe53"
      },
      "outputs": [
        {
          "name": "stdout",
          "output_type": "stream",
          "text": [
            "+--------------------+--------+--------+------------+-------+-----------------+-------------+----------------+-----------+--------------+-----------------+----------+-----------+---------------+\n",
            "|                Item|Category|Calories|Fat Calories|Fat (g)|Saturated Fat (g)|Trans Fat (g)|Cholesterol (mg)|Sodium (mg)|Total Carb (g)|Dietary Fiber (g)|Sugars (g)|Protein (g)|Weight Watchers|\n",
            "+--------------------+--------+--------+------------+-------+-----------------+-------------+----------------+-----------+--------------+-----------------+----------+-----------+---------------+\n",
            "|   Whopper® Sandwich| Burgers|   660.0|       360.0|   40.0|             12.0|          1.5|            90.0|      980.0|          49.0|              2.0|      11.0|       28.0|          655.0|\n",
            "|Whopper® Sandwich...| Burgers|   740.0|       420.0|   46.0|             16.0|          2.0|           115.0|     1340.0|          50.0|              2.0|      11.0|       32.0|          735.0|\n",
            "|Bacon & Cheese Wh...| Burgers|   790.0|       460.0|   51.0|             17.0|          2.0|           125.0|     1560.0|          50.0|              2.0|      11.0|       35.0|          783.0|\n",
            "|Double Whopper® S...| Burgers|   900.0|       520.0|   58.0|             20.0|          3.0|           175.0|     1050.0|          49.0|              2.0|      11.0|       48.0|          883.0|\n",
            "|Double Whopper® S...| Burgers|   980.0|       580.0|   64.0|             24.0|          3.0|           195.0|     1410.0|          50.0|              2.0|      11.0|       52.0|          963.0|\n",
            "+--------------------+--------+--------+------------+-------+-----------------+-------------+----------------+-----------+--------------+-----------------+----------+-----------+---------------+\n",
            "only showing top 5 rows\n",
            "\n"
          ]
        }
      ],
      "source": [
        "#Cargar los datos\n",
        "dataset = spark.read.csv(\"/content/burger-king-menu.csv\",header=True,inferSchema=True)\n",
        "\n",
        "#show permite mostrar los datos del archivo\n",
        "dataset.show(5)"
      ]
    },
    {
      "cell_type": "code",
      "execution_count": 22,
      "metadata": {
        "colab": {
          "base_uri": "https://localhost:8080/"
        },
        "id": "eT73jkr1n-il",
        "outputId": "5dd19c8f-2659-4e9a-e962-27bb1d123793"
      },
      "outputs": [
        {
          "name": "stdout",
          "output_type": "stream",
          "text": [
            "+---------------+\n",
            "|Caracteristicas|\n",
            "+---------------+\n",
            "|    [40.0,49.0]|\n",
            "|    [46.0,50.0]|\n",
            "|    [51.0,50.0]|\n",
            "|    [58.0,49.0]|\n",
            "|    [64.0,50.0]|\n",
            "+---------------+\n",
            "only showing top 5 rows\n",
            "\n"
          ]
        }
      ],
      "source": [
        "# VectorAssembler para convertir las columnas de características en un solo vector\n",
        "from pyspark.ml.feature import VectorAssembler\n",
        "\n",
        "vec_assembler = VectorAssembler(inputCols = ['Fat (g)', 'Total Carb (g)'],\n",
        "                                outputCol='Caracteristicas')\n",
        "\n",
        "data_final = vec_assembler.transform(dataset)\n",
        "data_final.select('Caracteristicas').show(5)"
      ]
    },
    {
      "cell_type": "code",
      "execution_count": 23,
      "metadata": {
        "colab": {
          "base_uri": "https://localhost:8080/"
        },
        "id": "mEWIhmpgqqfg",
        "outputId": "f800baf9-de66-4ba8-c565-b45a6727c145"
      },
      "outputs": [
        {
          "name": "stdout",
          "output_type": "stream",
          "text": [
            "+--------------------+\n",
            "|     scaled_features|\n",
            "+--------------------+\n",
            "|[0.43983650279356...|\n",
            "|[0.73200683247096...|\n",
            "|[0.97548210720212...|\n",
            "|[1.31634749182575...|\n",
            "|[1.60851782150314...|\n",
            "+--------------------+\n",
            "only showing top 5 rows\n",
            "\n"
          ]
        }
      ],
      "source": [
        "from pyspark.ml.feature import StandardScaler\n",
        "X_s = StandardScaler()\n",
        "scaler = StandardScaler(inputCol='Caracteristicas', outputCol='scaled_features', withStd=True, withMean=True)\n",
        "scaler_model = scaler.fit(data_final)\n",
        "scaled_data = scaler_model.transform(data_final)\n",
        "scaled_data.select('scaled_features').show(5)"
      ]
    },
    {
      "cell_type": "code",
      "execution_count": 24,
      "metadata": {
        "colab": {
          "base_uri": "https://localhost:8080/"
        },
        "id": "O5nWUkmYlbyI",
        "outputId": "8e6071c5-0b03-4111-8e7f-f8e32b1f0754"
      },
      "outputs": [
        {
          "name": "stdout",
          "output_type": "stream",
          "text": [
            "Tiempo de ejecución en PySpark: 6.94 segundos\n",
            "CPU usage: 14.8%\n",
            "Memory usage: 18.4%\n"
          ]
        }
      ],
      "source": [
        "from pyspark.ml.clustering import KMeans\n",
        "from pyspark.ml.evaluation import ClusteringEvaluator\n",
        "import time\n",
        "# Medir el tiempo de ejecución\n",
        "start_time2 = time.time()\n",
        "\n",
        "\n",
        "# Configurar el modelo KMeans en PySpark\n",
        "kmeans1 = KMeans(featuresCol='scaled_features',k=5, initMode='k-means||',maxIter=300,seed=0)\n",
        "# Entrenar el modelo KMeans\n",
        "model = kmeans1.fit(scaled_data)\n",
        "\n",
        "# Calcular el tiempo de ejecución\n",
        "end_time = time.time()\n",
        "execution_time = end_time - start_time2\n",
        "\n",
        "print(\"Tiempo de ejecución en PySpark: {:.2f} segundos\".format(execution_time))\n",
        "\n",
        "# Uso de recursos\n",
        "print(f'CPU usage: {psutil.cpu_percent()}%')\n",
        "print(f'Memory usage: {psutil.virtual_memory().percent}%')\n",
        "\n",
        "# Obtener predicciones\n",
        "predictions = model.transform(scaled_data)"
      ]
    },
    {
      "cell_type": "code",
      "execution_count": 25,
      "metadata": {
        "colab": {
          "base_uri": "https://localhost:8080/"
        },
        "id": "_Brg-q5gwg39",
        "outputId": "35f546d5-385e-41dd-9879-a050fe6a9b76"
      },
      "outputs": [
        {
          "name": "stdout",
          "output_type": "stream",
          "text": [
            "Cluster Centros: \n",
            "[-1.12855006 -1.41666593]\n",
            "[0.54209612 1.1738507 ]\n",
            "[2.04677332 0.72734861]\n",
            "[ 0.34244639 -0.16675262]\n",
            "[-0.67078533 -0.40236665]\n"
          ]
        }
      ],
      "source": [
        "#Imprimir los centros\n",
        "centroides = model.clusterCenters()\n",
        "print(\"Cluster Centros: \")\n",
        "for center in centroides:\n",
        "    print(center)"
      ]
    },
    {
      "cell_type": "code",
      "execution_count": 26,
      "metadata": {
        "colab": {
          "base_uri": "https://localhost:8080/"
        },
        "id": "L_EU6iK9yTIZ",
        "outputId": "a029b9fb-b68b-4385-faaf-5461a7c8ed68"
      },
      "outputs": [
        {
          "name": "stdout",
          "output_type": "stream",
          "text": [
            "+----------+\n",
            "|prediction|\n",
            "+----------+\n",
            "|         1|\n",
            "|         1|\n",
            "|         1|\n",
            "|         2|\n",
            "|         2|\n",
            "+----------+\n",
            "only showing top 5 rows\n",
            "\n"
          ]
        }
      ],
      "source": [
        "predictions.select('prediction').show(5)"
      ]
    },
    {
      "cell_type": "markdown",
      "metadata": {
        "id": "GlgSklcFOgAt"
      },
      "source": [
        "### **Métrica Silhouette Score**\n",
        "https://spark.apache.org/docs/latest/api/python/reference/api/pyspark.ml.evaluation.ClusteringEvaluator.html\n",
        "\n",
        "Calcule el coeficiente de silueta medio de todas las muestras."
      ]
    },
    {
      "cell_type": "code",
      "execution_count": 27,
      "metadata": {
        "colab": {
          "base_uri": "https://localhost:8080/"
        },
        "id": "vhQ6kwQkxAAL",
        "outputId": "db7a6420-990a-46dc-b84b-0909f6c1e21b"
      },
      "outputs": [
        {
          "data": {
            "text/plain": [
              "0.5398231679067336"
            ]
          },
          "execution_count": 27,
          "metadata": {},
          "output_type": "execute_result"
        }
      ],
      "source": [
        "evaluacion = ClusteringEvaluator(predictionCol='prediction',\n",
        "                                featuresCol='scaled_features',\n",
        "                                metricName='silhouette',\n",
        "                                distanceMeasure='squaredEuclidean')\n",
        "score=evaluacion.evaluate(predictions)\n",
        "score"
      ]
    },
    {
      "cell_type": "code",
      "execution_count": null,
      "metadata": {
        "id": "J3fy8ioUlfUU"
      },
      "outputs": [],
      "source": []
    },
    {
      "cell_type": "markdown",
      "metadata": {
        "id": "qlrSL3mR7UwI"
      },
      "source": [
        "# **Con sklearn**"
      ]
    },
    {
      "cell_type": "code",
      "execution_count": 34,
      "metadata": {
        "colab": {
          "base_uri": "https://localhost:8080/"
        },
        "id": "S7Iqu-8Xlgib",
        "outputId": "2cb85bc4-29bf-45aa-d127-6e5d022949f6"
      },
      "outputs": [
        {
          "name": "stdout",
          "output_type": "stream",
          "text": [
            "Tiempo de ejecución: 0.02 segundos\n",
            "CPU usage: 25.8%\n",
            "Memory usage: 18.8%\n"
          ]
        }
      ],
      "source": [
        "# Clase KMeans de la biblioteca sklearn.\n",
        "from sklearn.cluster import KMeans\n",
        "#En lugar de seleccionar los centroides iniciales de forma aleatoria, \"k-means++\"\n",
        "#utiliza un enfoque más sofisticado basado en una distribución de probabilidad.\n",
        "# n_init=10 :Número de veces que se ejecuta el algoritmo k-means con diferentes semillas de centroide.\n",
        "import time\n",
        "\n",
        "\n",
        "kmeans = KMeans(n_clusters=5, init ='k-means++', max_iter=300, n_init=10, random_state=0 )\n",
        "# Medir el tiempo de ejecución\n",
        "start_time0 = time.time()\n",
        "\n",
        "#Entrenar el modelo\n",
        "y_kmeans = kmeans.fit_predict(X_std)\n",
        "\n",
        "# Calcular el tiempo de ejecución\n",
        "end_time = time.time()\n",
        "execution_time = end_time - start_time0\n",
        "\n",
        "print(\"Tiempo de ejecución: {:.2f} segundos\".format(execution_time))\n",
        "\n",
        "# Uso de recursos\n",
        "print(f'CPU usage: {psutil.cpu_percent()}%')\n",
        "print(f'Memory usage: {psutil.virtual_memory().percent}%')"
      ]
    },
    {
      "cell_type": "code",
      "execution_count": 35,
      "metadata": {
        "colab": {
          "base_uri": "https://localhost:8080/"
        },
        "id": "5k85dzLF71PA",
        "outputId": "027e5186-2185-4976-efc1-dae61ccfb282"
      },
      "outputs": [
        {
          "data": {
            "text/plain": [
              "0.4547101203631183"
            ]
          },
          "execution_count": 35,
          "metadata": {},
          "output_type": "execute_result"
        }
      ],
      "source": [
        "silhouette_score(X_std, y_kmeans)"
      ]
    },
    {
      "cell_type": "code",
      "execution_count": 36,
      "metadata": {
        "colab": {
          "base_uri": "https://localhost:8080/"
        },
        "id": "yeaVamqS8Dmp",
        "outputId": "49ddb43d-2eb9-432c-c16b-3f8a32d274f4"
      },
      "outputs": [
        {
          "data": {
            "text/plain": [
              "0.607111020536463"
            ]
          },
          "execution_count": 36,
          "metadata": {},
          "output_type": "execute_result"
        }
      ],
      "source": [
        "from sklearn.metrics import davies_bouldin_score\n",
        "davies_bouldin_score(X_std, y_kmeans)"
      ]
    }
  ],
  "metadata": {
    "colab": {
      "provenance": []
    },
    "kernelspec": {
      "display_name": "Python 3",
      "name": "python3"
    },
    "language_info": {
      "codemirror_mode": {
        "name": "ipython",
        "version": 3
      },
      "file_extension": ".py",
      "mimetype": "text/x-python",
      "name": "python",
      "nbconvert_exporter": "python",
      "pygments_lexer": "ipython3",
      "version": "3.11.7"
    }
  },
  "nbformat": 4,
  "nbformat_minor": 0
}
