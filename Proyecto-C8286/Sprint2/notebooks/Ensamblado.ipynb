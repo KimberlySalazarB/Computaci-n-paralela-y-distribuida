{
  "cells": [
    {
      "cell_type": "markdown",
      "metadata": {},
      "source": [
        "### Desarrollo de algoritmos de ensamblado"
      ]
    },
    {
      "cell_type": "markdown",
      "metadata": {},
      "source": [
        "## Implementación de paralelismo con Dask"
      ]
    },
    {
      "cell_type": "markdown",
      "metadata": {},
      "source": [
        "## **Conjunto de datos sobre diabetes**\n",
        "Este conjunto de datos proviene del Instituto Nacional de Diabetes y\n",
        "Enfermedades Digestivas y Renales. El objetivo del conjunto de datos es predecir de forma diagnóstica si un paciente tiene diabetes,\n",
        "basándose en ciertas mediciones de diagnóstico incluidas en el conjunto de datos.\n",
        "En particular, todos los pacientes aquí son mujeres de al menos 21 años de edad de ascendencia india \n",
        "\n",
        "Información sobre los atributos del conjunto de datos -\n",
        "\n",
        "Embarazos: Para expresar el Número de embarazos\n",
        "\n",
        "Glucosa: Para expresar el nivel de glucosa en sangre.\n",
        "\n",
        "BloodPressure: Para expresar la medición de la presión arterial.\n",
        "\n",
        "SkinThickness: Para expresar el grosor de la piel.\n",
        "\n",
        "Insulina: Para expresar el nivel de insulina en sangre.\n",
        "\n",
        "IMC: Para expresar el índice de masa corporal.\n",
        "\n",
        "DiabetesPedigreeFunción: Expresar el porcentaje de Diabetes.\n",
        "\n",
        "Edad: Para expresar la edad.\n",
        "\n",
        "Resultado: Para expresar el resultado final 1 es Sí y 0 es No\n",
        "\n",
        "https://www.kaggle.com/datasets/akshaydattatraykhare/diabetes-dataset"
      ]
    },
    {
      "cell_type": "markdown",
      "metadata": {},
      "source": [
        "#### Predice si tiene diabetes sabiendo su nivel de glucosa,  índice de masa corporal y edad"
      ]
    },
    {
      "cell_type": "code",
      "execution_count": 29,
      "metadata": {},
      "outputs": [
        {
          "name": "stderr",
          "output_type": "stream",
          "text": [
            "c:\\Users\\Asus\\AppData\\Local\\Programs\\Python\\Python39\\lib\\site-packages\\distributed\\node.py:182: UserWarning: Port 8787 is already in use.\n",
            "Perhaps you already have a cluster running?\n",
            "Hosting the HTTP server on port 54286 instead\n",
            "  warnings.warn(\n",
            "c:\\Users\\Asus\\AppData\\Local\\Programs\\Python\\Python39\\lib\\contextlib.py:124: UserWarning: Creating scratch directories is taking a surprisingly long time. (1.16s) This is often due to running workers on a network file system. Consider specifying a local-directory to point workers to write scratch data to a local disk.\n",
            "  next(self.gen)\n"
          ]
        },
        {
          "data": {
            "text/html": [
              "<div>\n",
              "    <div style=\"width: 24px; height: 24px; background-color: #e1e1e1; border: 3px solid #9D9D9D; border-radius: 5px; position: absolute;\"> </div>\n",
              "    <div style=\"margin-left: 48px;\">\n",
              "        <h3 style=\"margin-bottom: 0px;\">Client</h3>\n",
              "        <p style=\"color: #9D9D9D; margin-bottom: 0px;\">Client-e14fd4aa-3049-11ef-8e30-b5adbf9c655a</p>\n",
              "        <table style=\"width: 100%; text-align: left;\">\n",
              "\n",
              "        <tr>\n",
              "        \n",
              "            <td style=\"text-align: left;\"><strong>Connection method:</strong> Cluster object</td>\n",
              "            <td style=\"text-align: left;\"><strong>Cluster type:</strong> distributed.LocalCluster</td>\n",
              "        \n",
              "        </tr>\n",
              "\n",
              "        \n",
              "            <tr>\n",
              "                <td style=\"text-align: left;\">\n",
              "                    <strong>Dashboard: </strong> <a href=\"http://127.0.0.1:54286/status\" target=\"_blank\">http://127.0.0.1:54286/status</a>\n",
              "                </td>\n",
              "                <td style=\"text-align: left;\"></td>\n",
              "            </tr>\n",
              "        \n",
              "\n",
              "        </table>\n",
              "\n",
              "        \n",
              "\n",
              "        \n",
              "            <details>\n",
              "            <summary style=\"margin-bottom: 20px;\"><h3 style=\"display: inline;\">Cluster Info</h3></summary>\n",
              "            <div class=\"jp-RenderedHTMLCommon jp-RenderedHTML jp-mod-trusted jp-OutputArea-output\">\n",
              "    <div style=\"width: 24px; height: 24px; background-color: #e1e1e1; border: 3px solid #9D9D9D; border-radius: 5px; position: absolute;\">\n",
              "    </div>\n",
              "    <div style=\"margin-left: 48px;\">\n",
              "        <h3 style=\"margin-bottom: 0px; margin-top: 0px;\">LocalCluster</h3>\n",
              "        <p style=\"color: #9D9D9D; margin-bottom: 0px;\">cd5e3b8b</p>\n",
              "        <table style=\"width: 100%; text-align: left;\">\n",
              "            <tr>\n",
              "                <td style=\"text-align: left;\">\n",
              "                    <strong>Dashboard:</strong> <a href=\"http://127.0.0.1:54286/status\" target=\"_blank\">http://127.0.0.1:54286/status</a>\n",
              "                </td>\n",
              "                <td style=\"text-align: left;\">\n",
              "                    <strong>Workers:</strong> 4\n",
              "                </td>\n",
              "            </tr>\n",
              "            <tr>\n",
              "                <td style=\"text-align: left;\">\n",
              "                    <strong>Total threads:</strong> 8\n",
              "                </td>\n",
              "                <td style=\"text-align: left;\">\n",
              "                    <strong>Total memory:</strong> 5.95 GiB\n",
              "                </td>\n",
              "            </tr>\n",
              "            \n",
              "            <tr>\n",
              "    <td style=\"text-align: left;\"><strong>Status:</strong> running</td>\n",
              "    <td style=\"text-align: left;\"><strong>Using processes:</strong> True</td>\n",
              "</tr>\n",
              "\n",
              "            \n",
              "        </table>\n",
              "\n",
              "        <details>\n",
              "            <summary style=\"margin-bottom: 20px;\">\n",
              "                <h3 style=\"display: inline;\">Scheduler Info</h3>\n",
              "            </summary>\n",
              "\n",
              "            <div style=\"\">\n",
              "    <div>\n",
              "        <div style=\"width: 24px; height: 24px; background-color: #FFF7E5; border: 3px solid #FF6132; border-radius: 5px; position: absolute;\"> </div>\n",
              "        <div style=\"margin-left: 48px;\">\n",
              "            <h3 style=\"margin-bottom: 0px;\">Scheduler</h3>\n",
              "            <p style=\"color: #9D9D9D; margin-bottom: 0px;\">Scheduler-16305222-79ef-4d9d-9bc3-f2d967733077</p>\n",
              "            <table style=\"width: 100%; text-align: left;\">\n",
              "                <tr>\n",
              "                    <td style=\"text-align: left;\">\n",
              "                        <strong>Comm:</strong> tcp://127.0.0.1:54292\n",
              "                    </td>\n",
              "                    <td style=\"text-align: left;\">\n",
              "                        <strong>Workers:</strong> 4\n",
              "                    </td>\n",
              "                </tr>\n",
              "                <tr>\n",
              "                    <td style=\"text-align: left;\">\n",
              "                        <strong>Dashboard:</strong> <a href=\"http://127.0.0.1:54286/status\" target=\"_blank\">http://127.0.0.1:54286/status</a>\n",
              "                    </td>\n",
              "                    <td style=\"text-align: left;\">\n",
              "                        <strong>Total threads:</strong> 8\n",
              "                    </td>\n",
              "                </tr>\n",
              "                <tr>\n",
              "                    <td style=\"text-align: left;\">\n",
              "                        <strong>Started:</strong> Just now\n",
              "                    </td>\n",
              "                    <td style=\"text-align: left;\">\n",
              "                        <strong>Total memory:</strong> 5.95 GiB\n",
              "                    </td>\n",
              "                </tr>\n",
              "            </table>\n",
              "        </div>\n",
              "    </div>\n",
              "\n",
              "    <details style=\"margin-left: 48px;\">\n",
              "        <summary style=\"margin-bottom: 20px;\">\n",
              "            <h3 style=\"display: inline;\">Workers</h3>\n",
              "        </summary>\n",
              "\n",
              "        \n",
              "        <div style=\"margin-bottom: 20px;\">\n",
              "            <div style=\"width: 24px; height: 24px; background-color: #DBF5FF; border: 3px solid #4CC9FF; border-radius: 5px; position: absolute;\"> </div>\n",
              "            <div style=\"margin-left: 48px;\">\n",
              "            <details>\n",
              "                <summary>\n",
              "                    <h4 style=\"margin-bottom: 0px; display: inline;\">Worker: 0</h4>\n",
              "                </summary>\n",
              "                <table style=\"width: 100%; text-align: left;\">\n",
              "                    <tr>\n",
              "                        <td style=\"text-align: left;\">\n",
              "                            <strong>Comm: </strong> tcp://127.0.0.1:54326\n",
              "                        </td>\n",
              "                        <td style=\"text-align: left;\">\n",
              "                            <strong>Total threads: </strong> 2\n",
              "                        </td>\n",
              "                    </tr>\n",
              "                    <tr>\n",
              "                        <td style=\"text-align: left;\">\n",
              "                            <strong>Dashboard: </strong> <a href=\"http://127.0.0.1:54327/status\" target=\"_blank\">http://127.0.0.1:54327/status</a>\n",
              "                        </td>\n",
              "                        <td style=\"text-align: left;\">\n",
              "                            <strong>Memory: </strong> 1.49 GiB\n",
              "                        </td>\n",
              "                    </tr>\n",
              "                    <tr>\n",
              "                        <td style=\"text-align: left;\">\n",
              "                            <strong>Nanny: </strong> tcp://127.0.0.1:54295\n",
              "                        </td>\n",
              "                        <td style=\"text-align: left;\"></td>\n",
              "                    </tr>\n",
              "                    <tr>\n",
              "                        <td colspan=\"2\" style=\"text-align: left;\">\n",
              "                            <strong>Local directory: </strong> C:\\Users\\Asus\\AppData\\Local\\Temp\\dask-scratch-space\\worker-19_1ht3l\n",
              "                        </td>\n",
              "                    </tr>\n",
              "\n",
              "                    \n",
              "\n",
              "                    \n",
              "\n",
              "                </table>\n",
              "            </details>\n",
              "            </div>\n",
              "        </div>\n",
              "        \n",
              "        <div style=\"margin-bottom: 20px;\">\n",
              "            <div style=\"width: 24px; height: 24px; background-color: #DBF5FF; border: 3px solid #4CC9FF; border-radius: 5px; position: absolute;\"> </div>\n",
              "            <div style=\"margin-left: 48px;\">\n",
              "            <details>\n",
              "                <summary>\n",
              "                    <h4 style=\"margin-bottom: 0px; display: inline;\">Worker: 1</h4>\n",
              "                </summary>\n",
              "                <table style=\"width: 100%; text-align: left;\">\n",
              "                    <tr>\n",
              "                        <td style=\"text-align: left;\">\n",
              "                            <strong>Comm: </strong> tcp://127.0.0.1:54323\n",
              "                        </td>\n",
              "                        <td style=\"text-align: left;\">\n",
              "                            <strong>Total threads: </strong> 2\n",
              "                        </td>\n",
              "                    </tr>\n",
              "                    <tr>\n",
              "                        <td style=\"text-align: left;\">\n",
              "                            <strong>Dashboard: </strong> <a href=\"http://127.0.0.1:54324/status\" target=\"_blank\">http://127.0.0.1:54324/status</a>\n",
              "                        </td>\n",
              "                        <td style=\"text-align: left;\">\n",
              "                            <strong>Memory: </strong> 1.49 GiB\n",
              "                        </td>\n",
              "                    </tr>\n",
              "                    <tr>\n",
              "                        <td style=\"text-align: left;\">\n",
              "                            <strong>Nanny: </strong> tcp://127.0.0.1:54296\n",
              "                        </td>\n",
              "                        <td style=\"text-align: left;\"></td>\n",
              "                    </tr>\n",
              "                    <tr>\n",
              "                        <td colspan=\"2\" style=\"text-align: left;\">\n",
              "                            <strong>Local directory: </strong> C:\\Users\\Asus\\AppData\\Local\\Temp\\dask-scratch-space\\worker-ma687b74\n",
              "                        </td>\n",
              "                    </tr>\n",
              "\n",
              "                    \n",
              "\n",
              "                    \n",
              "\n",
              "                </table>\n",
              "            </details>\n",
              "            </div>\n",
              "        </div>\n",
              "        \n",
              "        <div style=\"margin-bottom: 20px;\">\n",
              "            <div style=\"width: 24px; height: 24px; background-color: #DBF5FF; border: 3px solid #4CC9FF; border-radius: 5px; position: absolute;\"> </div>\n",
              "            <div style=\"margin-left: 48px;\">\n",
              "            <details>\n",
              "                <summary>\n",
              "                    <h4 style=\"margin-bottom: 0px; display: inline;\">Worker: 2</h4>\n",
              "                </summary>\n",
              "                <table style=\"width: 100%; text-align: left;\">\n",
              "                    <tr>\n",
              "                        <td style=\"text-align: left;\">\n",
              "                            <strong>Comm: </strong> tcp://127.0.0.1:54316\n",
              "                        </td>\n",
              "                        <td style=\"text-align: left;\">\n",
              "                            <strong>Total threads: </strong> 2\n",
              "                        </td>\n",
              "                    </tr>\n",
              "                    <tr>\n",
              "                        <td style=\"text-align: left;\">\n",
              "                            <strong>Dashboard: </strong> <a href=\"http://127.0.0.1:54320/status\" target=\"_blank\">http://127.0.0.1:54320/status</a>\n",
              "                        </td>\n",
              "                        <td style=\"text-align: left;\">\n",
              "                            <strong>Memory: </strong> 1.49 GiB\n",
              "                        </td>\n",
              "                    </tr>\n",
              "                    <tr>\n",
              "                        <td style=\"text-align: left;\">\n",
              "                            <strong>Nanny: </strong> tcp://127.0.0.1:54297\n",
              "                        </td>\n",
              "                        <td style=\"text-align: left;\"></td>\n",
              "                    </tr>\n",
              "                    <tr>\n",
              "                        <td colspan=\"2\" style=\"text-align: left;\">\n",
              "                            <strong>Local directory: </strong> C:\\Users\\Asus\\AppData\\Local\\Temp\\dask-scratch-space\\worker-og540cgo\n",
              "                        </td>\n",
              "                    </tr>\n",
              "\n",
              "                    \n",
              "\n",
              "                    \n",
              "\n",
              "                </table>\n",
              "            </details>\n",
              "            </div>\n",
              "        </div>\n",
              "        \n",
              "        <div style=\"margin-bottom: 20px;\">\n",
              "            <div style=\"width: 24px; height: 24px; background-color: #DBF5FF; border: 3px solid #4CC9FF; border-radius: 5px; position: absolute;\"> </div>\n",
              "            <div style=\"margin-left: 48px;\">\n",
              "            <details>\n",
              "                <summary>\n",
              "                    <h4 style=\"margin-bottom: 0px; display: inline;\">Worker: 3</h4>\n",
              "                </summary>\n",
              "                <table style=\"width: 100%; text-align: left;\">\n",
              "                    <tr>\n",
              "                        <td style=\"text-align: left;\">\n",
              "                            <strong>Comm: </strong> tcp://127.0.0.1:54318\n",
              "                        </td>\n",
              "                        <td style=\"text-align: left;\">\n",
              "                            <strong>Total threads: </strong> 2\n",
              "                        </td>\n",
              "                    </tr>\n",
              "                    <tr>\n",
              "                        <td style=\"text-align: left;\">\n",
              "                            <strong>Dashboard: </strong> <a href=\"http://127.0.0.1:54319/status\" target=\"_blank\">http://127.0.0.1:54319/status</a>\n",
              "                        </td>\n",
              "                        <td style=\"text-align: left;\">\n",
              "                            <strong>Memory: </strong> 1.49 GiB\n",
              "                        </td>\n",
              "                    </tr>\n",
              "                    <tr>\n",
              "                        <td style=\"text-align: left;\">\n",
              "                            <strong>Nanny: </strong> tcp://127.0.0.1:54298\n",
              "                        </td>\n",
              "                        <td style=\"text-align: left;\"></td>\n",
              "                    </tr>\n",
              "                    <tr>\n",
              "                        <td colspan=\"2\" style=\"text-align: left;\">\n",
              "                            <strong>Local directory: </strong> C:\\Users\\Asus\\AppData\\Local\\Temp\\dask-scratch-space\\worker-e6gngyzm\n",
              "                        </td>\n",
              "                    </tr>\n",
              "\n",
              "                    \n",
              "\n",
              "                    \n",
              "\n",
              "                </table>\n",
              "            </details>\n",
              "            </div>\n",
              "        </div>\n",
              "        \n",
              "\n",
              "    </details>\n",
              "</div>\n",
              "\n",
              "        </details>\n",
              "    </div>\n",
              "</div>\n",
              "            </details>\n",
              "        \n",
              "\n",
              "    </div>\n",
              "</div>"
            ],
            "text/plain": [
              "<Client: 'tcp://127.0.0.1:54292' processes=4 threads=8, memory=5.95 GiB>"
            ]
          },
          "execution_count": 29,
          "metadata": {},
          "output_type": "execute_result"
        }
      ],
      "source": [
        "# Iniciar un cliente Dask\n",
        "from dask.distributed import Client\n",
        "client = Client(n_workers=4)\n",
        "client\n",
        "\n"
      ]
    },
    {
      "cell_type": "code",
      "execution_count": 30,
      "metadata": {},
      "outputs": [
        {
          "data": {
            "text/html": [
              "<div>\n",
              "<style scoped>\n",
              "    .dataframe tbody tr th:only-of-type {\n",
              "        vertical-align: middle;\n",
              "    }\n",
              "\n",
              "    .dataframe tbody tr th {\n",
              "        vertical-align: top;\n",
              "    }\n",
              "\n",
              "    .dataframe thead th {\n",
              "        text-align: right;\n",
              "    }\n",
              "</style>\n",
              "<table border=\"1\" class=\"dataframe\">\n",
              "  <thead>\n",
              "    <tr style=\"text-align: right;\">\n",
              "      <th></th>\n",
              "      <th>Pregnancies</th>\n",
              "      <th>Glucose</th>\n",
              "      <th>BloodPressure</th>\n",
              "      <th>SkinThickness</th>\n",
              "      <th>Insulin</th>\n",
              "      <th>BMI</th>\n",
              "      <th>DiabetesPedigreeFunction</th>\n",
              "      <th>Age</th>\n",
              "      <th>Outcome</th>\n",
              "    </tr>\n",
              "  </thead>\n",
              "  <tbody>\n",
              "    <tr>\n",
              "      <th>0</th>\n",
              "      <td>6</td>\n",
              "      <td>148</td>\n",
              "      <td>72</td>\n",
              "      <td>35</td>\n",
              "      <td>0</td>\n",
              "      <td>33.6</td>\n",
              "      <td>0.627</td>\n",
              "      <td>50</td>\n",
              "      <td>1</td>\n",
              "    </tr>\n",
              "    <tr>\n",
              "      <th>1</th>\n",
              "      <td>1</td>\n",
              "      <td>85</td>\n",
              "      <td>66</td>\n",
              "      <td>29</td>\n",
              "      <td>0</td>\n",
              "      <td>26.6</td>\n",
              "      <td>0.351</td>\n",
              "      <td>31</td>\n",
              "      <td>0</td>\n",
              "    </tr>\n",
              "    <tr>\n",
              "      <th>2</th>\n",
              "      <td>8</td>\n",
              "      <td>183</td>\n",
              "      <td>64</td>\n",
              "      <td>0</td>\n",
              "      <td>0</td>\n",
              "      <td>23.3</td>\n",
              "      <td>0.672</td>\n",
              "      <td>32</td>\n",
              "      <td>1</td>\n",
              "    </tr>\n",
              "    <tr>\n",
              "      <th>3</th>\n",
              "      <td>1</td>\n",
              "      <td>89</td>\n",
              "      <td>66</td>\n",
              "      <td>23</td>\n",
              "      <td>94</td>\n",
              "      <td>28.1</td>\n",
              "      <td>0.167</td>\n",
              "      <td>21</td>\n",
              "      <td>0</td>\n",
              "    </tr>\n",
              "    <tr>\n",
              "      <th>4</th>\n",
              "      <td>0</td>\n",
              "      <td>137</td>\n",
              "      <td>40</td>\n",
              "      <td>35</td>\n",
              "      <td>168</td>\n",
              "      <td>43.1</td>\n",
              "      <td>2.288</td>\n",
              "      <td>33</td>\n",
              "      <td>1</td>\n",
              "    </tr>\n",
              "  </tbody>\n",
              "</table>\n",
              "</div>"
            ],
            "text/plain": [
              "   Pregnancies  Glucose  BloodPressure  SkinThickness  Insulin   BMI  \\\n",
              "0            6      148             72             35        0  33.6   \n",
              "1            1       85             66             29        0  26.6   \n",
              "2            8      183             64              0        0  23.3   \n",
              "3            1       89             66             23       94  28.1   \n",
              "4            0      137             40             35      168  43.1   \n",
              "\n",
              "   DiabetesPedigreeFunction  Age  Outcome  \n",
              "0                     0.627   50        1  \n",
              "1                     0.351   31        0  \n",
              "2                     0.672   32        1  \n",
              "3                     0.167   21        0  \n",
              "4                     2.288   33        1  "
            ]
          },
          "execution_count": 30,
          "metadata": {},
          "output_type": "execute_result"
        }
      ],
      "source": [
        "#Revisamos el contenido de la data\n",
        "import dask.dataframe as dd\n",
        "\n",
        "data1 = dd.read_csv('diabetes.csv')\n",
        "data1.head()"
      ]
    },
    {
      "cell_type": "code",
      "execution_count": 31,
      "metadata": {},
      "outputs": [
        {
          "name": "stdout",
          "output_type": "stream",
          "text": [
            "Tiempo de ejecución: 0.08 segundos\n"
          ]
        },
        {
          "name": "stderr",
          "output_type": "stream",
          "text": [
            "c:\\Users\\Asus\\AppData\\Local\\Programs\\Python\\Python39\\lib\\site-packages\\dask_ml\\model_selection\\_split.py:464: FutureWarning: The default value for 'shuffle' must be specified when splitting DataFrames. In the future DataFrames will automatically be shuffled within blocks prior to splitting. Specify 'shuffle=True' to adopt the future behavior now, or 'shuffle=False' to retain the previous behavior.\n",
            "  warnings.warn(\n"
          ]
        }
      ],
      "source": [
        "from dask_ml.model_selection import train_test_split\n",
        "import time\n",
        "X = data1[['Glucose','BMI','Age']]  # Seleccionamos las características adecuadas\n",
        "y = data1['Outcome']\n",
        "\n",
        "\n",
        "# Medir el tiempo de ejecución\n",
        "start_time0 = time.time()\n",
        "\n",
        "# Divide tus datos en conjuntos de entrenamiento y prueba, utilizamos stratify para distribuir bien la cantidades de datos para las clases\n",
        "X_train, X_test, y_train, y_test = train_test_split(X, y, test_size=0.2, random_state=42)#,stratify=y\n",
        "\n",
        "\n",
        "# Calcular el tiempo de ejecución\n",
        "end_time = time.time()\n",
        "execution_time = end_time - start_time0\n",
        "\n",
        "print(\"Tiempo de ejecución: {:.2f} segundos\".format(execution_time))#,stratify=y"
      ]
    },
    {
      "cell_type": "code",
      "execution_count": 32,
      "metadata": {},
      "outputs": [
        {
          "data": {
            "text/plain": [
              "((<dask_expr.expr.Scalar: expr=(SplitTake(frame=Split(frame=ReadCSV(38c3c0c)[['Glucose', 'BMI', 'Age']], frac=[0.8, 0.2], random_state=1608637542, shuffle=False), i=0, ndim=2)).size() // 3, dtype=int32>,\n",
              "  3),\n",
              " (<dask_expr.expr.Scalar: expr=(SplitTake(frame=Split(frame=ReadCSV(38c3c0c)['Outcome'], frac=[0.8, 0.2], random_state=1608637542, shuffle=False), i=0, ndim=1)).size(), dtype=int32>,),\n",
              " (<dask_expr.expr.Scalar: expr=(SplitTake(frame=Split(frame=ReadCSV(38c3c0c)[['Glucose', 'BMI', 'Age']], frac=[0.8, 0.2], random_state=1608637542, shuffle=False), i=1, ndim=2)).size() // 3, dtype=int32>,\n",
              "  3),\n",
              " (<dask_expr.expr.Scalar: expr=(SplitTake(frame=Split(frame=ReadCSV(38c3c0c)['Outcome'], frac=[0.8, 0.2], random_state=1608637542, shuffle=False), i=1, ndim=1)).size(), dtype=int32>,))"
            ]
          },
          "execution_count": 32,
          "metadata": {},
          "output_type": "execute_result"
        }
      ],
      "source": [
        "X_train.shape, y_train.shape, X_test.shape, y_test.shape"
      ]
    },
    {
      "cell_type": "code",
      "execution_count": 40,
      "metadata": {},
      "outputs": [
        {
          "name": "stdout",
          "output_type": "stream",
          "text": [
            "Requirement already satisfied: dask-xgboost in c:\\users\\asus\\appdata\\local\\programs\\python\\python39\\lib\\site-packages (0.2.0)Note: you may need to restart the kernel to use updated packages.\n",
            "\n",
            "Requirement already satisfied: xgboost<=0.90 in c:\\users\\asus\\appdata\\local\\programs\\python\\python39\\lib\\site-packages (from dask-xgboost) (0.90)\n",
            "Requirement already satisfied: dask in c:\\users\\asus\\appdata\\local\\programs\\python\\python39\\lib\\site-packages (from dask-xgboost) (2024.5.1)\n",
            "Requirement already satisfied: distributed>=1.15.2 in c:\\users\\asus\\appdata\\local\\programs\\python\\python39\\lib\\site-packages (from dask-xgboost) (2024.5.1)\n",
            "Requirement already satisfied: click>=8.0 in c:\\users\\asus\\appdata\\local\\programs\\python\\python39\\lib\\site-packages (from distributed>=1.15.2->dask-xgboost) (8.1.7)\n",
            "Requirement already satisfied: cloudpickle>=1.5.0 in c:\\users\\asus\\appdata\\local\\programs\\python\\python39\\lib\\site-packages (from distributed>=1.15.2->dask-xgboost) (3.0.0)\n",
            "Requirement already satisfied: jinja2>=2.10.3 in c:\\users\\asus\\appdata\\local\\programs\\python\\python39\\lib\\site-packages (from distributed>=1.15.2->dask-xgboost) (3.1.3)\n",
            "Requirement already satisfied: locket>=1.0.0 in c:\\users\\asus\\appdata\\local\\programs\\python\\python39\\lib\\site-packages (from distributed>=1.15.2->dask-xgboost) (1.0.0)\n",
            "Requirement already satisfied: msgpack>=1.0.0 in c:\\users\\asus\\appdata\\local\\programs\\python\\python39\\lib\\site-packages (from distributed>=1.15.2->dask-xgboost) (1.0.8)\n",
            "Requirement already satisfied: packaging>=20.0 in c:\\users\\asus\\appdata\\local\\programs\\python\\python39\\lib\\site-packages (from distributed>=1.15.2->dask-xgboost) (23.2)\n",
            "Requirement already satisfied: psutil>=5.7.2 in c:\\users\\asus\\appdata\\roaming\\python\\python39\\site-packages (from distributed>=1.15.2->dask-xgboost) (5.9.8)\n",
            "Requirement already satisfied: pyyaml>=5.3.1 in c:\\users\\asus\\appdata\\local\\programs\\python\\python39\\lib\\site-packages (from distributed>=1.15.2->dask-xgboost) (6.0.1)\n",
            "Requirement already satisfied: sortedcontainers>=2.0.5 in c:\\users\\asus\\appdata\\local\\programs\\python\\python39\\lib\\site-packages (from distributed>=1.15.2->dask-xgboost) (2.4.0)\n",
            "Requirement already satisfied: tblib>=1.6.0 in c:\\users\\asus\\appdata\\local\\programs\\python\\python39\\lib\\site-packages (from distributed>=1.15.2->dask-xgboost) (3.0.0)\n",
            "Requirement already satisfied: toolz>=0.10.0 in c:\\users\\asus\\appdata\\local\\programs\\python\\python39\\lib\\site-packages (from distributed>=1.15.2->dask-xgboost) (0.12.1)\n",
            "Requirement already satisfied: tornado>=6.0.4 in c:\\users\\asus\\appdata\\local\\programs\\python\\python39\\lib\\site-packages (from distributed>=1.15.2->dask-xgboost) (6.4)\n",
            "Requirement already satisfied: urllib3>=1.24.3 in c:\\users\\asus\\appdata\\local\\programs\\python\\python39\\lib\\site-packages (from distributed>=1.15.2->dask-xgboost) (2.2.0)\n",
            "Requirement already satisfied: zict>=3.0.0 in c:\\users\\asus\\appdata\\local\\programs\\python\\python39\\lib\\site-packages (from distributed>=1.15.2->dask-xgboost) (3.0.0)\n",
            "Requirement already satisfied: fsspec>=2021.09.0 in c:\\users\\asus\\appdata\\local\\programs\\python\\python39\\lib\\site-packages (from dask->dask-xgboost) (2024.5.0)\n",
            "Requirement already satisfied: partd>=1.2.0 in c:\\users\\asus\\appdata\\local\\programs\\python\\python39\\lib\\site-packages (from dask->dask-xgboost) (1.4.2)\n",
            "Requirement already satisfied: importlib-metadata>=4.13.0 in c:\\users\\asus\\appdata\\local\\programs\\python\\python39\\lib\\site-packages (from dask->dask-xgboost) (7.0.1)\n",
            "Requirement already satisfied: numpy in c:\\users\\asus\\appdata\\local\\programs\\python\\python39\\lib\\site-packages (from xgboost<=0.90->dask-xgboost) (1.26.4)\n",
            "Requirement already satisfied: scipy in c:\\users\\asus\\appdata\\local\\programs\\python\\python39\\lib\\site-packages (from xgboost<=0.90->dask-xgboost) (1.12.0)\n",
            "Requirement already satisfied: colorama in c:\\users\\asus\\appdata\\local\\programs\\python\\python39\\lib\\site-packages (from click>=8.0->distributed>=1.15.2->dask-xgboost) (0.4.6)\n",
            "Requirement already satisfied: zipp>=0.5 in c:\\users\\asus\\appdata\\local\\programs\\python\\python39\\lib\\site-packages (from importlib-metadata>=4.13.0->dask->dask-xgboost) (3.17.0)\n",
            "Requirement already satisfied: MarkupSafe>=2.0 in c:\\users\\asus\\appdata\\local\\programs\\python\\python39\\lib\\site-packages (from jinja2>=2.10.3->distributed>=1.15.2->dask-xgboost) (2.1.5)\n"
          ]
        }
      ],
      "source": [
        "pip install --upgrade dask-xgboost"
      ]
    },
    {
      "cell_type": "code",
      "execution_count": 44,
      "metadata": {},
      "outputs": [
        {
          "name": "stdout",
          "output_type": "stream",
          "text": [
            "<class 'dask.array.core.Array'>\n"
          ]
        },
        {
          "ename": "AttributeError",
          "evalue": "'Array' object has no attribute 'head'",
          "output_type": "error",
          "traceback": [
            "\u001b[1;31m---------------------------------------------------------------------------\u001b[0m",
            "\u001b[1;31mAttributeError\u001b[0m                            Traceback (most recent call last)",
            "Cell \u001b[1;32mIn[44], line 13\u001b[0m\n\u001b[0;32m     10\u001b[0m \u001b[38;5;28mprint\u001b[39m(\u001b[38;5;28mtype\u001b[39m(X_test_dask_array))  \u001b[38;5;66;03m# Check the type after conversion\u001b[39;00m\n\u001b[0;32m     12\u001b[0m \u001b[38;5;66;03m# Inspect Dask array contents (optional)\u001b[39;00m\n\u001b[1;32m---> 13\u001b[0m \u001b[38;5;28mprint\u001b[39m(\u001b[43mX_test_dask_array\u001b[49m\u001b[38;5;241;43m.\u001b[39;49m\u001b[43mhead\u001b[49m())  \u001b[38;5;66;03m# View a few samples\u001b[39;00m\n\u001b[0;32m     15\u001b[0m \u001b[38;5;66;03m# Try alternative prediction methods if necessary\u001b[39;00m\n\u001b[0;32m     16\u001b[0m \u001b[38;5;66;03m# Refer to dask_xgboost documentation for specific methods\u001b[39;00m\n\u001b[0;32m     18\u001b[0m predictions \u001b[38;5;241m=\u001b[39m gb\u001b[38;5;241m.\u001b[39mpredict(X_test_dask_array)\u001b[38;5;241m.\u001b[39mcompute()\n",
            "\u001b[1;31mAttributeError\u001b[0m: 'Array' object has no attribute 'head'"
          ]
        }
      ],
      "source": [
        "from dask_ml.xgboost import XGBClassifier\n",
        "\n",
        "# Crear y entrenar el modelo\n",
        "gb = XGBClassifier(objective='binary:logistic', random_state=42)\n",
        "gb.fit(X_train, y_train)\n",
        "\n",
        "X_test_dask_array = X_test.to_dask_array()\n",
        "\n",
        "# Ensure type conversion is successful (optional)\n",
        "print(type(X_test_dask_array))  # Check the type after conversion\n",
        "\n",
        "# Inspect Dask array contents (optional)\n",
        "print(X_test_dask_array.head())  # View a few samples\n",
        "\n",
        "# Try alternative prediction methods if necessary\n",
        "# Refer to dask_xgboost documentation for specific methods\n",
        "\n",
        "predictions = gb.predict(X_test_dask_array).compute()\n",
        "# Realizar predicciones\n",
        "#gb.predict(X_test).compute()"
      ]
    },
    {
      "cell_type": "code",
      "execution_count": 47,
      "metadata": {},
      "outputs": [],
      "source": [
        "X_test_dask_array = X_test_dask_array.compute_chunk_sizes()\n",
        "sample = X_test_dask_array[:2].compute()  # Now it might work\n",
        "print(sample)\n"
      ]
    },
    {
      "cell_type": "code",
      "execution_count": 36,
      "metadata": {},
      "outputs": [
        {
          "name": "stdout",
          "output_type": "stream",
          "text": [
            "<class 'dask_xgboost.core.XGBClassifier'>\n"
          ]
        }
      ],
      "source": [
        "print(type(gb))"
      ]
    },
    {
      "cell_type": "code",
      "execution_count": 10,
      "metadata": {},
      "outputs": [
        {
          "ename": "AttributeError",
          "evalue": "module 'dask_xgboost' has no attribute 'DaskDMatrix'",
          "output_type": "error",
          "traceback": [
            "\u001b[1;31m---------------------------------------------------------------------------\u001b[0m",
            "\u001b[1;31mAttributeError\u001b[0m                            Traceback (most recent call last)",
            "Cell \u001b[1;32mIn[10], line 30\u001b[0m\n\u001b[0;32m     24\u001b[0m params \u001b[38;5;241m=\u001b[39m {\n\u001b[0;32m     25\u001b[0m     \u001b[38;5;124m'\u001b[39m\u001b[38;5;124mobjective\u001b[39m\u001b[38;5;124m'\u001b[39m: \u001b[38;5;124m'\u001b[39m\u001b[38;5;124mbinary:logistic\u001b[39m\u001b[38;5;124m'\u001b[39m,\n\u001b[0;32m     26\u001b[0m     \u001b[38;5;124m'\u001b[39m\u001b[38;5;124mrandom_state\u001b[39m\u001b[38;5;124m'\u001b[39m: \u001b[38;5;241m42\u001b[39m\n\u001b[0;32m     27\u001b[0m }\n\u001b[0;32m     29\u001b[0m \u001b[38;5;66;03m# Entrenar el modelo con dask-xgboost\u001b[39;00m\n\u001b[1;32m---> 30\u001b[0m dtrain \u001b[38;5;241m=\u001b[39m \u001b[43mdxgb\u001b[49m\u001b[38;5;241;43m.\u001b[39;49m\u001b[43mDaskDMatrix\u001b[49m(client, X_train, y_train)\n\u001b[0;32m     31\u001b[0m model \u001b[38;5;241m=\u001b[39m dxgb\u001b[38;5;241m.\u001b[39mtrain(client, params, dtrain, num_boost_round\u001b[38;5;241m=\u001b[39m\u001b[38;5;241m100\u001b[39m)\n\u001b[0;32m     33\u001b[0m \u001b[38;5;66;03m# Predecir con el modelo entrenado\u001b[39;00m\n",
            "\u001b[1;31mAttributeError\u001b[0m: module 'dask_xgboost' has no attribute 'DaskDMatrix'"
          ]
        }
      ],
      "source": [
        "import dask.dataframe as dd\n",
        "import dask.array as da\n",
        "from dask_ml.model_selection import train_test_split\n",
        "import dask_xgboost as dxgb\n",
        "import xgboost as xgb\n",
        "\n",
        "# Leer los datos en un DataFrame de Dask\n",
        "df_dask = dd.read_csv('diabetes.csv')\n",
        "\n",
        "# Separar características y etiquetas\n",
        "X = df_dask[['Glucose','BMI','Age']]  # Seleccionamos las características adecuadas\n",
        "y = df_dask['Outcome']\n",
        "\n",
        "# Dividir los datos en conjuntos de entrenamiento y prueba\n",
        "X_train, X_test, y_train, y_test = train_test_split(X, y, test_size=0.2, random_state=42, shuffle=True)\n",
        "\n",
        "# Convertir los datos a Dask Arrays\n",
        "X_train = X_train.to_dask_array(lengths=True)\n",
        "X_test = X_test.to_dask_array(lengths=True)\n",
        "y_train = y_train.to_dask_array(lengths=True)\n",
        "y_test = y_test.to_dask_array(lengths=True)\n",
        "\n",
        "# Configurar parámetros de XGBoost\n",
        "params = {\n",
        "    'objective': 'binary:logistic',\n",
        "    'random_state': 42\n",
        "}\n",
        "\n",
        "# Entrenar el modelo con dask-xgboost\n",
        "dtrain = dxgb.DaskDMatrix(client, X_train, y_train)\n",
        "model = dxgb.train(client, params, dtrain, num_boost_round=100)\n",
        "\n",
        "# Predecir con el modelo entrenado\n",
        "dtest = dxgb.DaskDMatrix(client, X_test)\n",
        "predictions = dxgb.predict(client, model, dtest)\n",
        "predictions = predictions.compute()\n"
      ]
    },
    {
      "cell_type": "code",
      "execution_count": 7,
      "metadata": {},
      "outputs": [
        {
          "ename": "TypeError",
          "evalue": "isinstance() arg 2 must be a type or tuple of types",
          "output_type": "error",
          "traceback": [
            "\u001b[1;31m---------------------------------------------------------------------------\u001b[0m",
            "\u001b[1;31mTypeError\u001b[0m                                 Traceback (most recent call last)",
            "Cell \u001b[1;32mIn[7], line 1\u001b[0m\n\u001b[1;32m----> 1\u001b[0m predictions_xg \u001b[38;5;241m=\u001b[39m \u001b[43mmodel\u001b[49m\u001b[38;5;241;43m.\u001b[39;49m\u001b[43mpredict\u001b[49m\u001b[43m(\u001b[49m\u001b[43mX_test\u001b[49m\u001b[43m)\u001b[49m\u001b[38;5;241m.\u001b[39mcompute()\n",
            "File \u001b[1;32mc:\\Users\\Asus\\AppData\\Local\\Programs\\Python\\Python39\\lib\\site-packages\\dask_xgboost\\core.py:619\u001b[0m, in \u001b[0;36mXGBClassifier.predict\u001b[1;34m(self, X)\u001b[0m\n\u001b[0;32m    617\u001b[0m \u001b[38;5;28;01mdef\u001b[39;00m \u001b[38;5;21mpredict\u001b[39m(\u001b[38;5;28mself\u001b[39m, X):\n\u001b[0;32m    618\u001b[0m     client \u001b[38;5;241m=\u001b[39m default_client()\n\u001b[1;32m--> 619\u001b[0m     class_probs \u001b[38;5;241m=\u001b[39m \u001b[43mpredict\u001b[49m\u001b[43m(\u001b[49m\u001b[43mclient\u001b[49m\u001b[43m,\u001b[49m\u001b[43m \u001b[49m\u001b[38;5;28;43mself\u001b[39;49m\u001b[38;5;241;43m.\u001b[39;49m\u001b[43m_Booster\u001b[49m\u001b[43m,\u001b[49m\u001b[43m \u001b[49m\u001b[43mX\u001b[49m\u001b[43m)\u001b[49m\n\u001b[0;32m    620\u001b[0m     \u001b[38;5;28;01mif\u001b[39;00m class_probs\u001b[38;5;241m.\u001b[39mndim \u001b[38;5;241m>\u001b[39m \u001b[38;5;241m1\u001b[39m:\n\u001b[0;32m    621\u001b[0m         cidx \u001b[38;5;241m=\u001b[39m da\u001b[38;5;241m.\u001b[39margmax(class_probs, axis\u001b[38;5;241m=\u001b[39m\u001b[38;5;241m1\u001b[39m)\n",
            "File \u001b[1;32mc:\\Users\\Asus\\AppData\\Local\\Programs\\Python\\Python39\\lib\\site-packages\\dask_xgboost\\core.py:366\u001b[0m, in \u001b[0;36mpredict\u001b[1;34m(client, model, data)\u001b[0m\n\u001b[0;32m    340\u001b[0m \u001b[38;5;28;01mdef\u001b[39;00m \u001b[38;5;21mpredict\u001b[39m(client, model, data):\n\u001b[0;32m    341\u001b[0m \u001b[38;5;250m    \u001b[39m\u001b[38;5;124;03m\"\"\" Distributed prediction with XGBoost\u001b[39;00m\n\u001b[0;32m    342\u001b[0m \n\u001b[0;32m    343\u001b[0m \u001b[38;5;124;03m    Parameters\u001b[39;00m\n\u001b[1;32m   (...)\u001b[0m\n\u001b[0;32m    364\u001b[0m \u001b[38;5;124;03m    train\u001b[39;00m\n\u001b[0;32m    365\u001b[0m \u001b[38;5;124;03m    \"\"\"\u001b[39;00m\n\u001b[1;32m--> 366\u001b[0m     \u001b[38;5;28;01mif\u001b[39;00m \u001b[38;5;28;43misinstance\u001b[39;49m\u001b[43m(\u001b[49m\u001b[43mdata\u001b[49m\u001b[43m,\u001b[49m\u001b[43m \u001b[49m\u001b[43mdd\u001b[49m\u001b[38;5;241;43m.\u001b[39;49m\u001b[43m_Frame\u001b[49m\u001b[43m)\u001b[49m:\n\u001b[0;32m    367\u001b[0m         result \u001b[38;5;241m=\u001b[39m data\u001b[38;5;241m.\u001b[39mmap_partitions(_predict_part, model\u001b[38;5;241m=\u001b[39mmodel)\n\u001b[0;32m    368\u001b[0m         result \u001b[38;5;241m=\u001b[39m result\u001b[38;5;241m.\u001b[39mvalues\n",
            "\u001b[1;31mTypeError\u001b[0m: isinstance() arg 2 must be a type or tuple of types"
          ]
        }
      ],
      "source": [
        "predictions_xg = model.predict(X_test).compute()"
      ]
    },
    {
      "cell_type": "markdown",
      "metadata": {},
      "source": [
        "### **Random Forest:**"
      ]
    },
    {
      "cell_type": "code",
      "execution_count": null,
      "metadata": {},
      "outputs": [],
      "source": [
        "from sklearn.ensemble import RandomForestClassifier\n",
        "\n",
        "# Crear el clasificador de Random Forest\n",
        "rf_classifier = RandomForestClassifier(n_estimators=100, random_state=42)\n",
        "\n",
        "# Entrenar el modelo\n",
        "rf_classifier.fit(X_train, y_train)\n",
        "\n",
        "# Predicción en el conjunto de prueba\n",
        "predictions_rf = rf_classifier.predict(X_test)"
      ]
    },
    {
      "cell_type": "code",
      "execution_count": null,
      "metadata": {},
      "outputs": [],
      "source": [
        "y_test.head(10)"
      ]
    },
    {
      "cell_type": "code",
      "execution_count": null,
      "metadata": {},
      "outputs": [],
      "source": [
        "predictions_rf[:10]"
      ]
    },
    {
      "cell_type": "code",
      "execution_count": null,
      "metadata": {},
      "outputs": [],
      "source": [
        "from sklearn.metrics import accuracy_score\n",
        "accuracy = accuracy_score(y_test, predictions_rf)\n",
        "accuracy"
      ]
    },
    {
      "cell_type": "code",
      "execution_count": null,
      "metadata": {},
      "outputs": [],
      "source": [
        "from sklearn.metrics import precision_score\n",
        "#Calcula la precisión para cada clase individualmente y luego toma la media.\n",
        "precision = precision_score(y_test, predictions_rf, average='macro')\n",
        "print(precision)\n"
      ]
    },
    {
      "cell_type": "markdown",
      "metadata": {},
      "source": [
        "### **Gradient Boosting:**"
      ]
    },
    {
      "cell_type": "code",
      "execution_count": null,
      "metadata": {},
      "outputs": [],
      "source": [
        "from sklearn.ensemble import GradientBoostingClassifier\n",
        "\n",
        "# Crear el clasificador de Gradient Boosting\n",
        "gb_classifier = GradientBoostingClassifier(n_estimators=100, learning_rate=0.1, random_state=42)\n",
        "\n",
        "# Entrenar el modelo\n",
        "gb_classifier.fit(X_train, y_train)\n",
        "\n",
        "# Predicción en el conjunto de prueba\n",
        "predictions_gb = gb_classifier.predict(X_test)\n"
      ]
    },
    {
      "cell_type": "code",
      "execution_count": null,
      "metadata": {},
      "outputs": [],
      "source": [
        "y_test.head(10)"
      ]
    },
    {
      "cell_type": "code",
      "execution_count": null,
      "metadata": {},
      "outputs": [],
      "source": [
        "predictions_gb[:10]"
      ]
    },
    {
      "cell_type": "code",
      "execution_count": null,
      "metadata": {},
      "outputs": [],
      "source": [
        "from sklearn.metrics import accuracy_score\n",
        "accuracy = accuracy_score(y_test, predictions_gb)\n",
        "accuracy"
      ]
    },
    {
      "cell_type": "code",
      "execution_count": null,
      "metadata": {},
      "outputs": [],
      "source": [
        "from sklearn.metrics import precision_score\n",
        "#Calcula la precisión para cada clase individualmente y luego toma la media.\n",
        "precision = precision_score(y_test, predictions_gb, average='macro')\n",
        "print(precision)"
      ]
    },
    {
      "cell_type": "markdown",
      "metadata": {},
      "source": [
        "### **XGBoost:**"
      ]
    },
    {
      "cell_type": "markdown",
      "metadata": {},
      "source": [
        "https://ml.dask.org/joblib.html"
      ]
    },
    {
      "cell_type": "code",
      "execution_count": 69,
      "metadata": {},
      "outputs": [
        {
          "name": "stdout",
          "output_type": "stream",
          "text": [
            "Tiempo de ejecución: 7.98 segundos\n"
          ]
        }
      ],
      "source": [
        "import xgboost as xgb\n",
        "\n",
        "# Crear el clasificador de XGBoost\n",
        "xgb_classifier = xgb.XGBClassifier(objective=\"binary:logistic\", random_state=42)\n",
        "\n",
        "# Medir el tiempo de ejecución\n",
        "start_time0 = time.time()\n",
        "# Entrenar el modelo\n",
        "xgb_classifier.fit(X_train, y_train)\n",
        "\n",
        "# Calcular el tiempo de ejecución\n",
        "end_time = time.time()\n",
        "execution_time = end_time - start_time0\n",
        "\n",
        "print(\"Tiempo de ejecución: {:.2f} segundos\".format(execution_time))\n",
        "# Predicción en el conjunto de prueba\n",
        "predictions_xgb = xgb_classifier.predict(X_test)"
      ]
    },
    {
      "cell_type": "code",
      "execution_count": null,
      "metadata": {},
      "outputs": [],
      "source": [
        "predictions_xgb"
      ]
    },
    {
      "cell_type": "code",
      "execution_count": null,
      "metadata": {},
      "outputs": [],
      "source": [
        "from sklearn.metrics import accuracy_score\n",
        "accuracy = accuracy_score(y_test, predictions_xgb)\n",
        "accuracy"
      ]
    },
    {
      "cell_type": "code",
      "execution_count": null,
      "metadata": {},
      "outputs": [],
      "source": [
        "client.close()"
      ]
    },
    {
      "cell_type": "code",
      "execution_count": null,
      "metadata": {},
      "outputs": [],
      "source": [
        "#import xgboost as xgb\n",
        "from dask_ml.xgboost import XGBClassifier\n",
        "# Crear el clasificador de XGBoost\n",
        "xgb_classifier = XGBClassifier(objective=\"binary:logistic\", random_state=42)\n",
        "\n",
        "# Entrenar el modelo\n",
        "xgb_classifier.fit(X_train, y_train)\n",
        "\n",
        "# Predicción en el conjunto de prueba\n",
        "predictions_xgb = xgb_classifier.predict(X_test)\n"
      ]
    },
    {
      "cell_type": "code",
      "execution_count": null,
      "metadata": {},
      "outputs": [],
      "source": [
        "import dask.dataframe as dd\n",
        "from dask_ml.model_selection import train_test_split\n",
        "from dask_ml.xgboost import XGBClassifier\n",
        "from dask.distributed import Client, wait\n",
        "import webbrowser\n",
        "import numpy as np\n",
        "import dask.array as da\n",
        "\n",
        "# Iniciar un cliente Dask\n",
        "client = Client()\n",
        "\n",
        "# Abrir automáticamente el tablero en el navegador\n",
        "webbrowser.open_new_tab(client.dashboard_link)\n",
        "\n",
        "# Leer el archivo CSV con Dask\n",
        "data1 = dd.read_csv('diabetes.csv')\n",
        "\n",
        "# Dividir los datos en características (X) y etiquetas (y)\n",
        "X = data1[['Glucose', 'BMI', 'Age']]\n",
        "y = data1['Outcome']\n",
        "\n",
        "# Dividir los datos en entrenamiento y prueba usando Dask-ML\n",
        "X_train, X_test, y_train, y_test = train_test_split(X, y, test_size=0.2, random_state=42, shuffle=True)\n",
        "\n",
        "# Crear el clasificador de XGBoost\n",
        "xgb_classifier = XGBClassifier(objective=\"binary:logistic\", random_state=42)\n",
        "\n",
        "# Entrenar el modelo\n",
        "xgb_classifier.fit(X_train, y_train)\n",
        "\n",
        "# Predicción en el conjunto de prueba\n",
        "predictions_xgb = xgb_classifier.predict(X_test)\n",
        "\n",
        "predictions_xgb \n",
        "# Cerrar el cliente Dask al finalizar\n",
        "client.close()\n"
      ]
    },
    {
      "cell_type": "code",
      "execution_count": null,
      "metadata": {},
      "outputs": [],
      "source": [
        "y_test.head(10)"
      ]
    },
    {
      "cell_type": "code",
      "execution_count": null,
      "metadata": {},
      "outputs": [],
      "source": [
        "predictions_xgb[:10]"
      ]
    },
    {
      "cell_type": "code",
      "execution_count": null,
      "metadata": {},
      "outputs": [],
      "source": [
        "from sklearn.metrics import accuracy_score\n",
        "accuracy = accuracy_score(y_test, predictions_xgb)\n",
        "accuracy"
      ]
    },
    {
      "cell_type": "code",
      "execution_count": null,
      "metadata": {},
      "outputs": [],
      "source": [
        "from sklearn.metrics import precision_score\n",
        "#Calcula la precisión para cada clase individualmente y luego toma la media.\n",
        "precision = precision_score(y_test, predictions_xgb, average='macro')\n",
        "print(precision)\n"
      ]
    },
    {
      "cell_type": "markdown",
      "metadata": {},
      "source": [
        "### **Combinar múltiples modelos**\n",
        "\n",
        "https://inteligencia-artificial.dev/ensemble-learning-python/"
      ]
    },
    {
      "cell_type": "code",
      "execution_count": null,
      "metadata": {},
      "outputs": [],
      "source": [
        "from sklearn.ensemble import VotingClassifier\n",
        "\n",
        "# Crear un clasificador de votación suave\n",
        "voting_classifier = VotingClassifier(estimators=[\n",
        "    ('rf', rf_classifier), ('xgb', xgb_classifier)], voting='soft')\n",
        "\n",
        "# Entrenar el modelo de votación\n",
        "voting_classifier.fit(X_train, y_train)\n",
        "\n",
        "# Predicción en el conjunto de prueba\n",
        "predictions_voting = voting_classifier.predict(X_test)\n"
      ]
    },
    {
      "cell_type": "code",
      "execution_count": null,
      "metadata": {},
      "outputs": [],
      "source": [
        "y_test.head(14)"
      ]
    },
    {
      "cell_type": "code",
      "execution_count": null,
      "metadata": {},
      "outputs": [],
      "source": [
        "predictions_voting[:14]"
      ]
    },
    {
      "cell_type": "code",
      "execution_count": null,
      "metadata": {},
      "outputs": [],
      "source": [
        "from sklearn.metrics import accuracy_score\n",
        "accuracy = accuracy_score(y_test, predictions_voting)\n",
        "accuracy"
      ]
    },
    {
      "cell_type": "code",
      "execution_count": null,
      "metadata": {},
      "outputs": [],
      "source": [
        "from sklearn.metrics import precision_score\n",
        "#Calcula la precisión para cada clase individualmente y luego toma la media.\n",
        "precision = precision_score(y_test, predictions_voting, average='macro')\n",
        "print(precision)"
      ]
    }
  ],
  "metadata": {
    "colab": {
      "provenance": []
    },
    "kernelspec": {
      "display_name": "Python 3",
      "name": "python3"
    },
    "language_info": {
      "codemirror_mode": {
        "name": "ipython",
        "version": 3
      },
      "file_extension": ".py",
      "mimetype": "text/x-python",
      "name": "python",
      "nbconvert_exporter": "python",
      "pygments_lexer": "ipython3",
      "version": "3.9.6"
    }
  },
  "nbformat": 4,
  "nbformat_minor": 0
}
