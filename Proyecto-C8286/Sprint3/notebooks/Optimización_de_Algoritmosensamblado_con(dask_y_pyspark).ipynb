{
  "cells": [
    {
      "cell_type": "markdown",
      "metadata": {
        "id": "VURupFlqPqeU"
      },
      "source": [
        "### Desarrollo de algoritmos de ensamblado"
      ]
    },
    {
      "cell_type": "markdown",
      "metadata": {
        "id": "on8kYtNjPqeW"
      },
      "source": [
        "## Implementación de paralelismo con Dask"
      ]
    },
    {
      "cell_type": "markdown",
      "metadata": {
        "id": "7OSk5xqsPqeX"
      },
      "source": [
        "## **Conjunto de datos sobre diabetes**\n",
        "Este conjunto de datos proviene del Instituto Nacional de Diabetes y\n",
        "Enfermedades Digestivas y Renales. El objetivo del conjunto de datos es predecir de forma diagnóstica si un paciente tiene diabetes,\n",
        "basándose en ciertas mediciones de diagnóstico incluidas en el conjunto de datos.\n",
        "En particular, todos los pacientes aquí son mujeres de al menos 21 años de edad de ascendencia india\n",
        "\n",
        "Información sobre los atributos del conjunto de datos -\n",
        "\n",
        "Embarazos: Para expresar el Número de embarazos\n",
        "\n",
        "Glucosa: Para expresar el nivel de glucosa en sangre.\n",
        "\n",
        "BloodPressure: Para expresar la medición de la presión arterial.\n",
        "\n",
        "SkinThickness: Para expresar el grosor de la piel.\n",
        "\n",
        "Insulina: Para expresar el nivel de insulina en sangre.\n",
        "\n",
        "IMC: Para expresar el índice de masa corporal.\n",
        "\n",
        "DiabetesPedigreeFunción: Expresar el porcentaje de Diabetes.\n",
        "\n",
        "Edad: Para expresar la edad.\n",
        "\n",
        "Resultado: Para expresar el resultado final 1 es Sí y 0 es No\n",
        "\n",
        "https://www.kaggle.com/datasets/akshaydattatraykhare/diabetes-dataset"
      ]
    },
    {
      "cell_type": "code",
      "source": [
        "!pip install xgboost"
      ],
      "metadata": {
        "colab": {
          "base_uri": "https://localhost:8080/"
        },
        "id": "Z7TLO8hyuNRO",
        "outputId": "bdc7374e-fc31-4a0f-cebb-4f1eff1346ec"
      },
      "execution_count": 25,
      "outputs": [
        {
          "output_type": "stream",
          "name": "stdout",
          "text": [
            "Requirement already satisfied: xgboost in /usr/local/lib/python3.10/dist-packages (0.90)\n",
            "Requirement already satisfied: numpy in /usr/local/lib/python3.10/dist-packages (from xgboost) (1.25.2)\n",
            "Requirement already satisfied: scipy in /usr/local/lib/python3.10/dist-packages (from xgboost) (1.11.4)\n"
          ]
        }
      ]
    },
    {
      "cell_type": "code",
      "source": [
        "from sklearn.model_selection import GridSearchCV\n",
        "import xgboost as xgb\n",
        "from sklearn.model_selection import train_test_split\n",
        "from sklearn.metrics import accuracy_score\n",
        "from sklearn.metrics import make_scorer\n",
        "from sklearn.model_selection import RandomizedSearchCV\n",
        "import pandas as pd\n",
        "import numpy as np\n",
        "import time\n",
        "import psutil\n",
        "import cProfile\n",
        "import pstats"
      ],
      "metadata": {
        "id": "Kgcbyj6vtVfc"
      },
      "execution_count": 46,
      "outputs": []
    },
    {
      "cell_type": "code",
      "source": [
        "#Revisamos el contenido de la data\n",
        "import pandas as pd\n",
        "data2=pd.read_csv('diabetes.csv')\n",
        "data2.head()"
      ],
      "metadata": {
        "colab": {
          "base_uri": "https://localhost:8080/",
          "height": 206
        },
        "id": "6a5y3ijgu1BT",
        "outputId": "1afddfad-3744-4d8e-d1b2-192ee23fc670"
      },
      "execution_count": 28,
      "outputs": [
        {
          "output_type": "execute_result",
          "data": {
            "text/plain": [
              "   Pregnancies  Glucose  BloodPressure  SkinThickness  Insulin   BMI  \\\n",
              "0            6      148             72             35        0  33.6   \n",
              "1            1       85             66             29        0  26.6   \n",
              "2            8      183             64              0        0  23.3   \n",
              "3            1       89             66             23       94  28.1   \n",
              "4            0      137             40             35      168  43.1   \n",
              "\n",
              "   DiabetesPedigreeFunction  Age  Outcome  \n",
              "0                     0.627   50        1  \n",
              "1                     0.351   31        0  \n",
              "2                     0.672   32        1  \n",
              "3                     0.167   21        0  \n",
              "4                     2.288   33        1  "
            ],
            "text/html": [
              "\n",
              "  <div id=\"df-639b4b1d-fb50-4992-b4e2-9e6bc1c6515d\" class=\"colab-df-container\">\n",
              "    <div>\n",
              "<style scoped>\n",
              "    .dataframe tbody tr th:only-of-type {\n",
              "        vertical-align: middle;\n",
              "    }\n",
              "\n",
              "    .dataframe tbody tr th {\n",
              "        vertical-align: top;\n",
              "    }\n",
              "\n",
              "    .dataframe thead th {\n",
              "        text-align: right;\n",
              "    }\n",
              "</style>\n",
              "<table border=\"1\" class=\"dataframe\">\n",
              "  <thead>\n",
              "    <tr style=\"text-align: right;\">\n",
              "      <th></th>\n",
              "      <th>Pregnancies</th>\n",
              "      <th>Glucose</th>\n",
              "      <th>BloodPressure</th>\n",
              "      <th>SkinThickness</th>\n",
              "      <th>Insulin</th>\n",
              "      <th>BMI</th>\n",
              "      <th>DiabetesPedigreeFunction</th>\n",
              "      <th>Age</th>\n",
              "      <th>Outcome</th>\n",
              "    </tr>\n",
              "  </thead>\n",
              "  <tbody>\n",
              "    <tr>\n",
              "      <th>0</th>\n",
              "      <td>6</td>\n",
              "      <td>148</td>\n",
              "      <td>72</td>\n",
              "      <td>35</td>\n",
              "      <td>0</td>\n",
              "      <td>33.6</td>\n",
              "      <td>0.627</td>\n",
              "      <td>50</td>\n",
              "      <td>1</td>\n",
              "    </tr>\n",
              "    <tr>\n",
              "      <th>1</th>\n",
              "      <td>1</td>\n",
              "      <td>85</td>\n",
              "      <td>66</td>\n",
              "      <td>29</td>\n",
              "      <td>0</td>\n",
              "      <td>26.6</td>\n",
              "      <td>0.351</td>\n",
              "      <td>31</td>\n",
              "      <td>0</td>\n",
              "    </tr>\n",
              "    <tr>\n",
              "      <th>2</th>\n",
              "      <td>8</td>\n",
              "      <td>183</td>\n",
              "      <td>64</td>\n",
              "      <td>0</td>\n",
              "      <td>0</td>\n",
              "      <td>23.3</td>\n",
              "      <td>0.672</td>\n",
              "      <td>32</td>\n",
              "      <td>1</td>\n",
              "    </tr>\n",
              "    <tr>\n",
              "      <th>3</th>\n",
              "      <td>1</td>\n",
              "      <td>89</td>\n",
              "      <td>66</td>\n",
              "      <td>23</td>\n",
              "      <td>94</td>\n",
              "      <td>28.1</td>\n",
              "      <td>0.167</td>\n",
              "      <td>21</td>\n",
              "      <td>0</td>\n",
              "    </tr>\n",
              "    <tr>\n",
              "      <th>4</th>\n",
              "      <td>0</td>\n",
              "      <td>137</td>\n",
              "      <td>40</td>\n",
              "      <td>35</td>\n",
              "      <td>168</td>\n",
              "      <td>43.1</td>\n",
              "      <td>2.288</td>\n",
              "      <td>33</td>\n",
              "      <td>1</td>\n",
              "    </tr>\n",
              "  </tbody>\n",
              "</table>\n",
              "</div>\n",
              "    <div class=\"colab-df-buttons\">\n",
              "\n",
              "  <div class=\"colab-df-container\">\n",
              "    <button class=\"colab-df-convert\" onclick=\"convertToInteractive('df-639b4b1d-fb50-4992-b4e2-9e6bc1c6515d')\"\n",
              "            title=\"Convert this dataframe to an interactive table.\"\n",
              "            style=\"display:none;\">\n",
              "\n",
              "  <svg xmlns=\"http://www.w3.org/2000/svg\" height=\"24px\" viewBox=\"0 -960 960 960\">\n",
              "    <path d=\"M120-120v-720h720v720H120Zm60-500h600v-160H180v160Zm220 220h160v-160H400v160Zm0 220h160v-160H400v160ZM180-400h160v-160H180v160Zm440 0h160v-160H620v160ZM180-180h160v-160H180v160Zm440 0h160v-160H620v160Z\"/>\n",
              "  </svg>\n",
              "    </button>\n",
              "\n",
              "  <style>\n",
              "    .colab-df-container {\n",
              "      display:flex;\n",
              "      gap: 12px;\n",
              "    }\n",
              "\n",
              "    .colab-df-convert {\n",
              "      background-color: #E8F0FE;\n",
              "      border: none;\n",
              "      border-radius: 50%;\n",
              "      cursor: pointer;\n",
              "      display: none;\n",
              "      fill: #1967D2;\n",
              "      height: 32px;\n",
              "      padding: 0 0 0 0;\n",
              "      width: 32px;\n",
              "    }\n",
              "\n",
              "    .colab-df-convert:hover {\n",
              "      background-color: #E2EBFA;\n",
              "      box-shadow: 0px 1px 2px rgba(60, 64, 67, 0.3), 0px 1px 3px 1px rgba(60, 64, 67, 0.15);\n",
              "      fill: #174EA6;\n",
              "    }\n",
              "\n",
              "    .colab-df-buttons div {\n",
              "      margin-bottom: 4px;\n",
              "    }\n",
              "\n",
              "    [theme=dark] .colab-df-convert {\n",
              "      background-color: #3B4455;\n",
              "      fill: #D2E3FC;\n",
              "    }\n",
              "\n",
              "    [theme=dark] .colab-df-convert:hover {\n",
              "      background-color: #434B5C;\n",
              "      box-shadow: 0px 1px 3px 1px rgba(0, 0, 0, 0.15);\n",
              "      filter: drop-shadow(0px 1px 2px rgba(0, 0, 0, 0.3));\n",
              "      fill: #FFFFFF;\n",
              "    }\n",
              "  </style>\n",
              "\n",
              "    <script>\n",
              "      const buttonEl =\n",
              "        document.querySelector('#df-639b4b1d-fb50-4992-b4e2-9e6bc1c6515d button.colab-df-convert');\n",
              "      buttonEl.style.display =\n",
              "        google.colab.kernel.accessAllowed ? 'block' : 'none';\n",
              "\n",
              "      async function convertToInteractive(key) {\n",
              "        const element = document.querySelector('#df-639b4b1d-fb50-4992-b4e2-9e6bc1c6515d');\n",
              "        const dataTable =\n",
              "          await google.colab.kernel.invokeFunction('convertToInteractive',\n",
              "                                                    [key], {});\n",
              "        if (!dataTable) return;\n",
              "\n",
              "        const docLinkHtml = 'Like what you see? Visit the ' +\n",
              "          '<a target=\"_blank\" href=https://colab.research.google.com/notebooks/data_table.ipynb>data table notebook</a>'\n",
              "          + ' to learn more about interactive tables.';\n",
              "        element.innerHTML = '';\n",
              "        dataTable['output_type'] = 'display_data';\n",
              "        await google.colab.output.renderOutput(dataTable, element);\n",
              "        const docLink = document.createElement('div');\n",
              "        docLink.innerHTML = docLinkHtml;\n",
              "        element.appendChild(docLink);\n",
              "      }\n",
              "    </script>\n",
              "  </div>\n",
              "\n",
              "\n",
              "<div id=\"df-e2dc4929-c6c9-4767-8f41-1bf2f04b6918\">\n",
              "  <button class=\"colab-df-quickchart\" onclick=\"quickchart('df-e2dc4929-c6c9-4767-8f41-1bf2f04b6918')\"\n",
              "            title=\"Suggest charts\"\n",
              "            style=\"display:none;\">\n",
              "\n",
              "<svg xmlns=\"http://www.w3.org/2000/svg\" height=\"24px\"viewBox=\"0 0 24 24\"\n",
              "     width=\"24px\">\n",
              "    <g>\n",
              "        <path d=\"M19 3H5c-1.1 0-2 .9-2 2v14c0 1.1.9 2 2 2h14c1.1 0 2-.9 2-2V5c0-1.1-.9-2-2-2zM9 17H7v-7h2v7zm4 0h-2V7h2v10zm4 0h-2v-4h2v4z\"/>\n",
              "    </g>\n",
              "</svg>\n",
              "  </button>\n",
              "\n",
              "<style>\n",
              "  .colab-df-quickchart {\n",
              "      --bg-color: #E8F0FE;\n",
              "      --fill-color: #1967D2;\n",
              "      --hover-bg-color: #E2EBFA;\n",
              "      --hover-fill-color: #174EA6;\n",
              "      --disabled-fill-color: #AAA;\n",
              "      --disabled-bg-color: #DDD;\n",
              "  }\n",
              "\n",
              "  [theme=dark] .colab-df-quickchart {\n",
              "      --bg-color: #3B4455;\n",
              "      --fill-color: #D2E3FC;\n",
              "      --hover-bg-color: #434B5C;\n",
              "      --hover-fill-color: #FFFFFF;\n",
              "      --disabled-bg-color: #3B4455;\n",
              "      --disabled-fill-color: #666;\n",
              "  }\n",
              "\n",
              "  .colab-df-quickchart {\n",
              "    background-color: var(--bg-color);\n",
              "    border: none;\n",
              "    border-radius: 50%;\n",
              "    cursor: pointer;\n",
              "    display: none;\n",
              "    fill: var(--fill-color);\n",
              "    height: 32px;\n",
              "    padding: 0;\n",
              "    width: 32px;\n",
              "  }\n",
              "\n",
              "  .colab-df-quickchart:hover {\n",
              "    background-color: var(--hover-bg-color);\n",
              "    box-shadow: 0 1px 2px rgba(60, 64, 67, 0.3), 0 1px 3px 1px rgba(60, 64, 67, 0.15);\n",
              "    fill: var(--button-hover-fill-color);\n",
              "  }\n",
              "\n",
              "  .colab-df-quickchart-complete:disabled,\n",
              "  .colab-df-quickchart-complete:disabled:hover {\n",
              "    background-color: var(--disabled-bg-color);\n",
              "    fill: var(--disabled-fill-color);\n",
              "    box-shadow: none;\n",
              "  }\n",
              "\n",
              "  .colab-df-spinner {\n",
              "    border: 2px solid var(--fill-color);\n",
              "    border-color: transparent;\n",
              "    border-bottom-color: var(--fill-color);\n",
              "    animation:\n",
              "      spin 1s steps(1) infinite;\n",
              "  }\n",
              "\n",
              "  @keyframes spin {\n",
              "    0% {\n",
              "      border-color: transparent;\n",
              "      border-bottom-color: var(--fill-color);\n",
              "      border-left-color: var(--fill-color);\n",
              "    }\n",
              "    20% {\n",
              "      border-color: transparent;\n",
              "      border-left-color: var(--fill-color);\n",
              "      border-top-color: var(--fill-color);\n",
              "    }\n",
              "    30% {\n",
              "      border-color: transparent;\n",
              "      border-left-color: var(--fill-color);\n",
              "      border-top-color: var(--fill-color);\n",
              "      border-right-color: var(--fill-color);\n",
              "    }\n",
              "    40% {\n",
              "      border-color: transparent;\n",
              "      border-right-color: var(--fill-color);\n",
              "      border-top-color: var(--fill-color);\n",
              "    }\n",
              "    60% {\n",
              "      border-color: transparent;\n",
              "      border-right-color: var(--fill-color);\n",
              "    }\n",
              "    80% {\n",
              "      border-color: transparent;\n",
              "      border-right-color: var(--fill-color);\n",
              "      border-bottom-color: var(--fill-color);\n",
              "    }\n",
              "    90% {\n",
              "      border-color: transparent;\n",
              "      border-bottom-color: var(--fill-color);\n",
              "    }\n",
              "  }\n",
              "</style>\n",
              "\n",
              "  <script>\n",
              "    async function quickchart(key) {\n",
              "      const quickchartButtonEl =\n",
              "        document.querySelector('#' + key + ' button');\n",
              "      quickchartButtonEl.disabled = true;  // To prevent multiple clicks.\n",
              "      quickchartButtonEl.classList.add('colab-df-spinner');\n",
              "      try {\n",
              "        const charts = await google.colab.kernel.invokeFunction(\n",
              "            'suggestCharts', [key], {});\n",
              "      } catch (error) {\n",
              "        console.error('Error during call to suggestCharts:', error);\n",
              "      }\n",
              "      quickchartButtonEl.classList.remove('colab-df-spinner');\n",
              "      quickchartButtonEl.classList.add('colab-df-quickchart-complete');\n",
              "    }\n",
              "    (() => {\n",
              "      let quickchartButtonEl =\n",
              "        document.querySelector('#df-e2dc4929-c6c9-4767-8f41-1bf2f04b6918 button');\n",
              "      quickchartButtonEl.style.display =\n",
              "        google.colab.kernel.accessAllowed ? 'block' : 'none';\n",
              "    })();\n",
              "  </script>\n",
              "</div>\n",
              "\n",
              "    </div>\n",
              "  </div>\n"
            ],
            "application/vnd.google.colaboratory.intrinsic+json": {
              "type": "dataframe",
              "variable_name": "data2",
              "summary": "{\n  \"name\": \"data2\",\n  \"rows\": 768,\n  \"fields\": [\n    {\n      \"column\": \"Pregnancies\",\n      \"properties\": {\n        \"dtype\": \"number\",\n        \"std\": 3,\n        \"min\": 0,\n        \"max\": 17,\n        \"num_unique_values\": 17,\n        \"samples\": [\n          6,\n          1,\n          3\n        ],\n        \"semantic_type\": \"\",\n        \"description\": \"\"\n      }\n    },\n    {\n      \"column\": \"Glucose\",\n      \"properties\": {\n        \"dtype\": \"number\",\n        \"std\": 31,\n        \"min\": 0,\n        \"max\": 199,\n        \"num_unique_values\": 136,\n        \"samples\": [\n          151,\n          101,\n          112\n        ],\n        \"semantic_type\": \"\",\n        \"description\": \"\"\n      }\n    },\n    {\n      \"column\": \"BloodPressure\",\n      \"properties\": {\n        \"dtype\": \"number\",\n        \"std\": 19,\n        \"min\": 0,\n        \"max\": 122,\n        \"num_unique_values\": 47,\n        \"samples\": [\n          86,\n          46,\n          85\n        ],\n        \"semantic_type\": \"\",\n        \"description\": \"\"\n      }\n    },\n    {\n      \"column\": \"SkinThickness\",\n      \"properties\": {\n        \"dtype\": \"number\",\n        \"std\": 15,\n        \"min\": 0,\n        \"max\": 99,\n        \"num_unique_values\": 51,\n        \"samples\": [\n          7,\n          12,\n          48\n        ],\n        \"semantic_type\": \"\",\n        \"description\": \"\"\n      }\n    },\n    {\n      \"column\": \"Insulin\",\n      \"properties\": {\n        \"dtype\": \"number\",\n        \"std\": 115,\n        \"min\": 0,\n        \"max\": 846,\n        \"num_unique_values\": 186,\n        \"samples\": [\n          52,\n          41,\n          183\n        ],\n        \"semantic_type\": \"\",\n        \"description\": \"\"\n      }\n    },\n    {\n      \"column\": \"BMI\",\n      \"properties\": {\n        \"dtype\": \"number\",\n        \"std\": 7.884160320375446,\n        \"min\": 0.0,\n        \"max\": 67.1,\n        \"num_unique_values\": 248,\n        \"samples\": [\n          19.9,\n          31.0,\n          38.1\n        ],\n        \"semantic_type\": \"\",\n        \"description\": \"\"\n      }\n    },\n    {\n      \"column\": \"DiabetesPedigreeFunction\",\n      \"properties\": {\n        \"dtype\": \"number\",\n        \"std\": 0.3313285950127749,\n        \"min\": 0.078,\n        \"max\": 2.42,\n        \"num_unique_values\": 517,\n        \"samples\": [\n          1.731,\n          0.426,\n          0.138\n        ],\n        \"semantic_type\": \"\",\n        \"description\": \"\"\n      }\n    },\n    {\n      \"column\": \"Age\",\n      \"properties\": {\n        \"dtype\": \"number\",\n        \"std\": 11,\n        \"min\": 21,\n        \"max\": 81,\n        \"num_unique_values\": 52,\n        \"samples\": [\n          60,\n          47,\n          72\n        ],\n        \"semantic_type\": \"\",\n        \"description\": \"\"\n      }\n    },\n    {\n      \"column\": \"Outcome\",\n      \"properties\": {\n        \"dtype\": \"number\",\n        \"std\": 0,\n        \"min\": 0,\n        \"max\": 1,\n        \"num_unique_values\": 2,\n        \"samples\": [\n          0,\n          1\n        ],\n        \"semantic_type\": \"\",\n        \"description\": \"\"\n      }\n    }\n  ]\n}"
            }
          },
          "metadata": {},
          "execution_count": 28
        }
      ]
    },
    {
      "cell_type": "code",
      "source": [
        "from sklearn.model_selection import train_test_split\n",
        "X = data2[['Glucose','BMI','Age']]  # Seleccionamos las características adecuadas\n",
        "y = data2['Outcome']\n",
        "import time\n",
        "# Medir el tiempo de ejecución\n",
        "start_time0 = time.time()\n",
        "\n",
        "# Divide tus datos en conjuntos de entrenamiento y prueba, utilizamos stratify para distribuir bien la cantidades de datos para las clases\n",
        "X_train, X_test, y_train, y_test = train_test_split(X, y, test_size=0.2, random_state=42,stratify=y)\n",
        "\n",
        "# Calcular el tiempo de ejecución\n",
        "end_time = time.time()\n",
        "execution_time = end_time - start_time0\n",
        "\n",
        "print(\"Tiempo de ejecución: {:.2f} segundos\".format(execution_time))"
      ],
      "metadata": {
        "colab": {
          "base_uri": "https://localhost:8080/"
        },
        "id": "auzSzYn8unwQ",
        "outputId": "fad1bc8b-6e5b-426f-84c8-332ce920ede0"
      },
      "execution_count": 29,
      "outputs": [
        {
          "output_type": "stream",
          "name": "stdout",
          "text": [
            "Tiempo de ejecución: 0.05 segundos\n"
          ]
        }
      ]
    },
    {
      "cell_type": "code",
      "source": [
        "X_train.shape, y_train.shape, X_test.shape, y_test.shape"
      ],
      "metadata": {
        "colab": {
          "base_uri": "https://localhost:8080/"
        },
        "id": "PPtxfi2Gu5c8",
        "outputId": "5c94e3c2-38c9-4022-a221-6dc8818d56ac"
      },
      "execution_count": 30,
      "outputs": [
        {
          "output_type": "execute_result",
          "data": {
            "text/plain": [
              "((614, 3), (614,), (154, 3), (154,))"
            ]
          },
          "metadata": {},
          "execution_count": 30
        }
      ]
    },
    {
      "cell_type": "code",
      "source": [
        "# Crear el clasificador de XGBoost\n",
        "xgb_classifier = xgb.XGBClassifier(objective=\"binary:logistic\", random_state=42)\n",
        "\n",
        "\n",
        "# Medir el tiempo de ejecución\n",
        "start_time0 = time.time()\n",
        "# Entrenar el modelo\n",
        "xgb_classifier.fit(X_train, y_train)\n",
        "\n",
        "# Calcular el tiempo de ejecución\n",
        "end_time = time.time()\n",
        "execution_time = end_time - start_time0\n",
        "\n",
        "print(\"Tiempo de ejecución: {:.2f} segundos\".format(execution_time))\n",
        "\n",
        "# Predicción en el conjunto de prueba\n",
        "predictions_xgb = xgb_classifier.predict(X_test)\n",
        "# Uso de recursos\n",
        "print(f'CPU usada: {psutil.cpu_percent()}%')\n",
        "print(f'Memory usada: {psutil.virtual_memory().percent}%')"
      ],
      "metadata": {
        "colab": {
          "base_uri": "https://localhost:8080/"
        },
        "id": "D8unv84ju9Sr",
        "outputId": "38b4258b-034f-4592-a4b8-16fd7e9a8620"
      },
      "execution_count": 32,
      "outputs": [
        {
          "output_type": "stream",
          "name": "stdout",
          "text": [
            "Tiempo de ejecución: 0.12 segundos\n",
            "CPU usada: 49.6%\n",
            "Memory usada: 19.3%\n"
          ]
        }
      ]
    },
    {
      "cell_type": "markdown",
      "source": [
        "**Métricas**"
      ],
      "metadata": {
        "id": "kl84O3P0vPYj"
      }
    },
    {
      "cell_type": "code",
      "source": [
        "accuracy = accuracy_score(y_test, predictions_xgb)\n",
        "accuracy"
      ],
      "metadata": {
        "colab": {
          "base_uri": "https://localhost:8080/"
        },
        "id": "aC3Ka_Jtu9NE",
        "outputId": "1774ffd3-9383-441c-aa59-cb0255a05c21"
      },
      "execution_count": 33,
      "outputs": [
        {
          "output_type": "execute_result",
          "data": {
            "text/plain": [
              "0.7532467532467533"
            ]
          },
          "metadata": {},
          "execution_count": 33
        }
      ]
    },
    {
      "cell_type": "markdown",
      "source": [
        "**Buscar buenos parametros en paralelo con sklearn GridSearchCV**"
      ],
      "metadata": {
        "id": "M4QvRIMKvcI8"
      }
    },
    {
      "cell_type": "code",
      "source": [
        "parametros = {\n",
        "    'max_depth': [3, 4, 5],\n",
        "    'eta': [ 1, 0.1, 0.2],\n",
        "    'subsample': [0.5, 0.7, 1.0],\n",
        "    'objective': ['binary:logistic']\n",
        "}\n",
        "scoring = {\n",
        "    'accuracy': make_scorer(accuracy_score)\n",
        "}\n",
        "grid_search = GridSearchCV(\n",
        "estimator=xgb.XGBClassifier(),\n",
        "    param_grid=parametros,\n",
        "scoring=scoring,  # Métrica de evaluación\n",
        "    refit='accuracy',\n",
        "    return_train_score=True,\n",
        "    n_jobs=-1\n",
        ")"
      ],
      "metadata": {
        "id": "e1rFKiVrvbrF"
      },
      "execution_count": 41,
      "outputs": []
    },
    {
      "cell_type": "markdown",
      "source": [
        "**n_jobs=-1:** Utiliza todos los procesadores disponibles para realizar la búsqueda de hiperparámetros en paralelo, lo cual puede acelerar significativamente el proceso."
      ],
      "metadata": {
        "id": "k-Nq8swbvhX9"
      }
    },
    {
      "cell_type": "code",
      "source": [
        "%%time\n",
        "grid_search.fit(X_train, y_train)"
      ],
      "metadata": {
        "colab": {
          "base_uri": "https://localhost:8080/",
          "height": 174
        },
        "id": "Bj6NGmyuu9G1",
        "outputId": "9b3a8030-4316-4540-ca45-243deb51bdb6"
      },
      "execution_count": 42,
      "outputs": [
        {
          "output_type": "stream",
          "name": "stdout",
          "text": [
            "CPU times: user 2.99 s, sys: 605 ms, total: 3.59 s\n",
            "Wall time: 13.9 s\n"
          ]
        },
        {
          "output_type": "execute_result",
          "data": {
            "text/plain": [
              "GridSearchCV(estimator=XGBClassifier(), n_jobs=-1,\n",
              "             param_grid={'eta': [1, 0.1, 0.2], 'max_depth': [3, 4, 5],\n",
              "                         'objective': ['binary:logistic'],\n",
              "                         'subsample': [0.5, 0.7, 1.0]},\n",
              "             refit='accuracy', return_train_score=True,\n",
              "             scoring={'accuracy': make_scorer(accuracy_score)})"
            ],
            "text/html": [
              "<style>#sk-container-id-1 {color: black;background-color: white;}#sk-container-id-1 pre{padding: 0;}#sk-container-id-1 div.sk-toggleable {background-color: white;}#sk-container-id-1 label.sk-toggleable__label {cursor: pointer;display: block;width: 100%;margin-bottom: 0;padding: 0.3em;box-sizing: border-box;text-align: center;}#sk-container-id-1 label.sk-toggleable__label-arrow:before {content: \"▸\";float: left;margin-right: 0.25em;color: #696969;}#sk-container-id-1 label.sk-toggleable__label-arrow:hover:before {color: black;}#sk-container-id-1 div.sk-estimator:hover label.sk-toggleable__label-arrow:before {color: black;}#sk-container-id-1 div.sk-toggleable__content {max-height: 0;max-width: 0;overflow: hidden;text-align: left;background-color: #f0f8ff;}#sk-container-id-1 div.sk-toggleable__content pre {margin: 0.2em;color: black;border-radius: 0.25em;background-color: #f0f8ff;}#sk-container-id-1 input.sk-toggleable__control:checked~div.sk-toggleable__content {max-height: 200px;max-width: 100%;overflow: auto;}#sk-container-id-1 input.sk-toggleable__control:checked~label.sk-toggleable__label-arrow:before {content: \"▾\";}#sk-container-id-1 div.sk-estimator input.sk-toggleable__control:checked~label.sk-toggleable__label {background-color: #d4ebff;}#sk-container-id-1 div.sk-label input.sk-toggleable__control:checked~label.sk-toggleable__label {background-color: #d4ebff;}#sk-container-id-1 input.sk-hidden--visually {border: 0;clip: rect(1px 1px 1px 1px);clip: rect(1px, 1px, 1px, 1px);height: 1px;margin: -1px;overflow: hidden;padding: 0;position: absolute;width: 1px;}#sk-container-id-1 div.sk-estimator {font-family: monospace;background-color: #f0f8ff;border: 1px dotted black;border-radius: 0.25em;box-sizing: border-box;margin-bottom: 0.5em;}#sk-container-id-1 div.sk-estimator:hover {background-color: #d4ebff;}#sk-container-id-1 div.sk-parallel-item::after {content: \"\";width: 100%;border-bottom: 1px solid gray;flex-grow: 1;}#sk-container-id-1 div.sk-label:hover label.sk-toggleable__label {background-color: #d4ebff;}#sk-container-id-1 div.sk-serial::before {content: \"\";position: absolute;border-left: 1px solid gray;box-sizing: border-box;top: 0;bottom: 0;left: 50%;z-index: 0;}#sk-container-id-1 div.sk-serial {display: flex;flex-direction: column;align-items: center;background-color: white;padding-right: 0.2em;padding-left: 0.2em;position: relative;}#sk-container-id-1 div.sk-item {position: relative;z-index: 1;}#sk-container-id-1 div.sk-parallel {display: flex;align-items: stretch;justify-content: center;background-color: white;position: relative;}#sk-container-id-1 div.sk-item::before, #sk-container-id-1 div.sk-parallel-item::before {content: \"\";position: absolute;border-left: 1px solid gray;box-sizing: border-box;top: 0;bottom: 0;left: 50%;z-index: -1;}#sk-container-id-1 div.sk-parallel-item {display: flex;flex-direction: column;z-index: 1;position: relative;background-color: white;}#sk-container-id-1 div.sk-parallel-item:first-child::after {align-self: flex-end;width: 50%;}#sk-container-id-1 div.sk-parallel-item:last-child::after {align-self: flex-start;width: 50%;}#sk-container-id-1 div.sk-parallel-item:only-child::after {width: 0;}#sk-container-id-1 div.sk-dashed-wrapped {border: 1px dashed gray;margin: 0 0.4em 0.5em 0.4em;box-sizing: border-box;padding-bottom: 0.4em;background-color: white;}#sk-container-id-1 div.sk-label label {font-family: monospace;font-weight: bold;display: inline-block;line-height: 1.2em;}#sk-container-id-1 div.sk-label-container {text-align: center;}#sk-container-id-1 div.sk-container {/* jupyter's `normalize.less` sets `[hidden] { display: none; }` but bootstrap.min.css set `[hidden] { display: none !important; }` so we also need the `!important` here to be able to override the default hidden behavior on the sphinx rendered scikit-learn.org. See: https://github.com/scikit-learn/scikit-learn/issues/21755 */display: inline-block !important;position: relative;}#sk-container-id-1 div.sk-text-repr-fallback {display: none;}</style><div id=\"sk-container-id-1\" class=\"sk-top-container\"><div class=\"sk-text-repr-fallback\"><pre>GridSearchCV(estimator=XGBClassifier(), n_jobs=-1,\n",
              "             param_grid={&#x27;eta&#x27;: [1, 0.1, 0.2], &#x27;max_depth&#x27;: [3, 4, 5],\n",
              "                         &#x27;objective&#x27;: [&#x27;binary:logistic&#x27;],\n",
              "                         &#x27;subsample&#x27;: [0.5, 0.7, 1.0]},\n",
              "             refit=&#x27;accuracy&#x27;, return_train_score=True,\n",
              "             scoring={&#x27;accuracy&#x27;: make_scorer(accuracy_score)})</pre><b>In a Jupyter environment, please rerun this cell to show the HTML representation or trust the notebook. <br />On GitHub, the HTML representation is unable to render, please try loading this page with nbviewer.org.</b></div><div class=\"sk-container\" hidden><div class=\"sk-item sk-dashed-wrapped\"><div class=\"sk-label-container\"><div class=\"sk-label sk-toggleable\"><input class=\"sk-toggleable__control sk-hidden--visually\" id=\"sk-estimator-id-1\" type=\"checkbox\" ><label for=\"sk-estimator-id-1\" class=\"sk-toggleable__label sk-toggleable__label-arrow\">GridSearchCV</label><div class=\"sk-toggleable__content\"><pre>GridSearchCV(estimator=XGBClassifier(), n_jobs=-1,\n",
              "             param_grid={&#x27;eta&#x27;: [1, 0.1, 0.2], &#x27;max_depth&#x27;: [3, 4, 5],\n",
              "                         &#x27;objective&#x27;: [&#x27;binary:logistic&#x27;],\n",
              "                         &#x27;subsample&#x27;: [0.5, 0.7, 1.0]},\n",
              "             refit=&#x27;accuracy&#x27;, return_train_score=True,\n",
              "             scoring={&#x27;accuracy&#x27;: make_scorer(accuracy_score)})</pre></div></div></div><div class=\"sk-parallel\"><div class=\"sk-parallel-item\"><div class=\"sk-item\"><div class=\"sk-label-container\"><div class=\"sk-label sk-toggleable\"><input class=\"sk-toggleable__control sk-hidden--visually\" id=\"sk-estimator-id-2\" type=\"checkbox\" ><label for=\"sk-estimator-id-2\" class=\"sk-toggleable__label sk-toggleable__label-arrow\">estimator: XGBClassifier</label><div class=\"sk-toggleable__content\"><pre>XGBClassifier()</pre></div></div></div><div class=\"sk-serial\"><div class=\"sk-item\"><div class=\"sk-estimator sk-toggleable\"><input class=\"sk-toggleable__control sk-hidden--visually\" id=\"sk-estimator-id-3\" type=\"checkbox\" ><label for=\"sk-estimator-id-3\" class=\"sk-toggleable__label sk-toggleable__label-arrow\">XGBClassifier</label><div class=\"sk-toggleable__content\"><pre>XGBClassifier()</pre></div></div></div></div></div></div></div></div></div></div>"
            ]
          },
          "metadata": {},
          "execution_count": 42
        }
      ]
    },
    {
      "cell_type": "code",
      "source": [
        "grid_search.best_params_"
      ],
      "metadata": {
        "colab": {
          "base_uri": "https://localhost:8080/"
        },
        "id": "uMgGDmIcxtja",
        "outputId": "b568cd12-c435-461c-9012-ddcd37a81d93"
      },
      "execution_count": 43,
      "outputs": [
        {
          "output_type": "execute_result",
          "data": {
            "text/plain": [
              "{'eta': 1, 'max_depth': 3, 'objective': 'binary:logistic', 'subsample': 0.5}"
            ]
          },
          "metadata": {},
          "execution_count": 43
        }
      ]
    },
    {
      "cell_type": "markdown",
      "source": [
        "Cambiamos los valores de los parametros según los calculado"
      ],
      "metadata": {
        "id": "f28V-dX_yk-1"
      }
    },
    {
      "cell_type": "code",
      "source": [
        "# Crear el clasificador de XGBoost\n",
        "xgb_classifier = xgb.XGBClassifier(objective=\"binary:logistic\", eta=1, max_depth=3,subsample=0.5, random_state=42)\n",
        "\n",
        "\n",
        "# Medir el tiempo de ejecución\n",
        "start_time0 = time.time()\n",
        "# Entrenar el modelo\n",
        "xgb_classifier.fit(X_train, y_train)\n",
        "\n",
        "# Calcular el tiempo de ejecución\n",
        "end_time = time.time()\n",
        "execution_time = end_time - start_time0\n",
        "\n",
        "print(\"Tiempo de ejecución: {:.2f} segundos\".format(execution_time))\n",
        "\n",
        "# Predicción en el conjunto de prueba\n",
        "predictions_xgb = xgb_classifier.predict(X_test)\n",
        "# Uso de recursos\n",
        "print(f'CPU usada: {psutil.cpu_percent()}%')\n",
        "print(f'Memory usada: {psutil.virtual_memory().percent}%')"
      ],
      "metadata": {
        "colab": {
          "base_uri": "https://localhost:8080/"
        },
        "id": "O4oQMSeEx8Qx",
        "outputId": "0e8b8dc3-2a54-4cc7-dd36-55f5704f627c"
      },
      "execution_count": 44,
      "outputs": [
        {
          "output_type": "stream",
          "name": "stdout",
          "text": [
            "Tiempo de ejecución: 0.13 segundos\n",
            "CPU usada: 66.7%\n",
            "Memory usada: 21.3%\n"
          ]
        }
      ]
    },
    {
      "cell_type": "code",
      "source": [
        "accuracy = accuracy_score(y_test, predictions_xgb)\n",
        "accuracy"
      ],
      "metadata": {
        "colab": {
          "base_uri": "https://localhost:8080/"
        },
        "id": "WcKrRBuey3qu",
        "outputId": "b53a13e6-5fb7-41a9-9135-14b56c273676"
      },
      "execution_count": 45,
      "outputs": [
        {
          "output_type": "execute_result",
          "data": {
            "text/plain": [
              "0.7272727272727273"
            ]
          },
          "metadata": {},
          "execution_count": 45
        }
      ]
    },
    {
      "cell_type": "code",
      "source": [],
      "metadata": {
        "id": "wOqN1fHhzLfd"
      },
      "execution_count": null,
      "outputs": []
    },
    {
      "cell_type": "markdown",
      "source": [
        "**Buscar buenos parametros en paralelo con sklearn RandomizedSearchCV**"
      ],
      "metadata": {
        "id": "lQpnMfLX0ULm"
      }
    },
    {
      "cell_type": "code",
      "source": [
        "parametros = {\n",
        "    'max_depth': [3, 4, 5],\n",
        "    'eta': [ 1, 0.1, 0.2],\n",
        "    'subsample': [0.5, 0.7, 1.0],\n",
        "    'objective': ['binary:logistic']\n",
        "}\n",
        "scoring = {\n",
        "    'accuracy': make_scorer(accuracy_score)\n",
        "}\n",
        "ran_search =RandomizedSearchCV(\n",
        "estimator=xgb.XGBClassifier(),\n",
        "    param_distributions=parametros,\n",
        "scoring=scoring,  # Métrica de evaluación\n",
        "    refit='accuracy',\n",
        "    return_train_score=True,\n",
        "    n_jobs=-1\n",
        ")"
      ],
      "metadata": {
        "id": "oHWVvloAzInD"
      },
      "execution_count": 50,
      "outputs": []
    },
    {
      "cell_type": "code",
      "source": [
        "%%time\n",
        "ran_search.fit(X_train, y_train)"
      ],
      "metadata": {
        "colab": {
          "base_uri": "https://localhost:8080/",
          "height": 151
        },
        "id": "gy76bpCZzrHy",
        "outputId": "3206d75a-be54-4ae4-be3c-5e58ada3a306"
      },
      "execution_count": 51,
      "outputs": [
        {
          "output_type": "stream",
          "name": "stdout",
          "text": [
            "CPU times: user 2.08 s, sys: 381 ms, total: 2.46 s\n",
            "Wall time: 10 s\n"
          ]
        },
        {
          "output_type": "execute_result",
          "data": {
            "text/plain": [
              "RandomizedSearchCV(estimator=XGBClassifier(), n_jobs=-1,\n",
              "                   param_distributions={'eta': [1, 0.1, 0.2],\n",
              "                                        'max_depth': [3, 4, 5],\n",
              "                                        'objective': ['binary:logistic'],\n",
              "                                        'subsample': [0.5, 0.7, 1.0]},\n",
              "                   refit='accuracy', return_train_score=True,\n",
              "                   scoring={'accuracy': make_scorer(accuracy_score)})"
            ],
            "text/html": [
              "<style>#sk-container-id-2 {color: black;background-color: white;}#sk-container-id-2 pre{padding: 0;}#sk-container-id-2 div.sk-toggleable {background-color: white;}#sk-container-id-2 label.sk-toggleable__label {cursor: pointer;display: block;width: 100%;margin-bottom: 0;padding: 0.3em;box-sizing: border-box;text-align: center;}#sk-container-id-2 label.sk-toggleable__label-arrow:before {content: \"▸\";float: left;margin-right: 0.25em;color: #696969;}#sk-container-id-2 label.sk-toggleable__label-arrow:hover:before {color: black;}#sk-container-id-2 div.sk-estimator:hover label.sk-toggleable__label-arrow:before {color: black;}#sk-container-id-2 div.sk-toggleable__content {max-height: 0;max-width: 0;overflow: hidden;text-align: left;background-color: #f0f8ff;}#sk-container-id-2 div.sk-toggleable__content pre {margin: 0.2em;color: black;border-radius: 0.25em;background-color: #f0f8ff;}#sk-container-id-2 input.sk-toggleable__control:checked~div.sk-toggleable__content {max-height: 200px;max-width: 100%;overflow: auto;}#sk-container-id-2 input.sk-toggleable__control:checked~label.sk-toggleable__label-arrow:before {content: \"▾\";}#sk-container-id-2 div.sk-estimator input.sk-toggleable__control:checked~label.sk-toggleable__label {background-color: #d4ebff;}#sk-container-id-2 div.sk-label input.sk-toggleable__control:checked~label.sk-toggleable__label {background-color: #d4ebff;}#sk-container-id-2 input.sk-hidden--visually {border: 0;clip: rect(1px 1px 1px 1px);clip: rect(1px, 1px, 1px, 1px);height: 1px;margin: -1px;overflow: hidden;padding: 0;position: absolute;width: 1px;}#sk-container-id-2 div.sk-estimator {font-family: monospace;background-color: #f0f8ff;border: 1px dotted black;border-radius: 0.25em;box-sizing: border-box;margin-bottom: 0.5em;}#sk-container-id-2 div.sk-estimator:hover {background-color: #d4ebff;}#sk-container-id-2 div.sk-parallel-item::after {content: \"\";width: 100%;border-bottom: 1px solid gray;flex-grow: 1;}#sk-container-id-2 div.sk-label:hover label.sk-toggleable__label {background-color: #d4ebff;}#sk-container-id-2 div.sk-serial::before {content: \"\";position: absolute;border-left: 1px solid gray;box-sizing: border-box;top: 0;bottom: 0;left: 50%;z-index: 0;}#sk-container-id-2 div.sk-serial {display: flex;flex-direction: column;align-items: center;background-color: white;padding-right: 0.2em;padding-left: 0.2em;position: relative;}#sk-container-id-2 div.sk-item {position: relative;z-index: 1;}#sk-container-id-2 div.sk-parallel {display: flex;align-items: stretch;justify-content: center;background-color: white;position: relative;}#sk-container-id-2 div.sk-item::before, #sk-container-id-2 div.sk-parallel-item::before {content: \"\";position: absolute;border-left: 1px solid gray;box-sizing: border-box;top: 0;bottom: 0;left: 50%;z-index: -1;}#sk-container-id-2 div.sk-parallel-item {display: flex;flex-direction: column;z-index: 1;position: relative;background-color: white;}#sk-container-id-2 div.sk-parallel-item:first-child::after {align-self: flex-end;width: 50%;}#sk-container-id-2 div.sk-parallel-item:last-child::after {align-self: flex-start;width: 50%;}#sk-container-id-2 div.sk-parallel-item:only-child::after {width: 0;}#sk-container-id-2 div.sk-dashed-wrapped {border: 1px dashed gray;margin: 0 0.4em 0.5em 0.4em;box-sizing: border-box;padding-bottom: 0.4em;background-color: white;}#sk-container-id-2 div.sk-label label {font-family: monospace;font-weight: bold;display: inline-block;line-height: 1.2em;}#sk-container-id-2 div.sk-label-container {text-align: center;}#sk-container-id-2 div.sk-container {/* jupyter's `normalize.less` sets `[hidden] { display: none; }` but bootstrap.min.css set `[hidden] { display: none !important; }` so we also need the `!important` here to be able to override the default hidden behavior on the sphinx rendered scikit-learn.org. See: https://github.com/scikit-learn/scikit-learn/issues/21755 */display: inline-block !important;position: relative;}#sk-container-id-2 div.sk-text-repr-fallback {display: none;}</style><div id=\"sk-container-id-2\" class=\"sk-top-container\"><div class=\"sk-text-repr-fallback\"><pre>RandomizedSearchCV(estimator=XGBClassifier(), n_jobs=-1,\n",
              "                   param_distributions={&#x27;eta&#x27;: [1, 0.1, 0.2],\n",
              "                                        &#x27;max_depth&#x27;: [3, 4, 5],\n",
              "                                        &#x27;objective&#x27;: [&#x27;binary:logistic&#x27;],\n",
              "                                        &#x27;subsample&#x27;: [0.5, 0.7, 1.0]},\n",
              "                   refit=&#x27;accuracy&#x27;, return_train_score=True,\n",
              "                   scoring={&#x27;accuracy&#x27;: make_scorer(accuracy_score)})</pre><b>In a Jupyter environment, please rerun this cell to show the HTML representation or trust the notebook. <br />On GitHub, the HTML representation is unable to render, please try loading this page with nbviewer.org.</b></div><div class=\"sk-container\" hidden><div class=\"sk-item sk-dashed-wrapped\"><div class=\"sk-label-container\"><div class=\"sk-label sk-toggleable\"><input class=\"sk-toggleable__control sk-hidden--visually\" id=\"sk-estimator-id-4\" type=\"checkbox\" ><label for=\"sk-estimator-id-4\" class=\"sk-toggleable__label sk-toggleable__label-arrow\">RandomizedSearchCV</label><div class=\"sk-toggleable__content\"><pre>RandomizedSearchCV(estimator=XGBClassifier(), n_jobs=-1,\n",
              "                   param_distributions={&#x27;eta&#x27;: [1, 0.1, 0.2],\n",
              "                                        &#x27;max_depth&#x27;: [3, 4, 5],\n",
              "                                        &#x27;objective&#x27;: [&#x27;binary:logistic&#x27;],\n",
              "                                        &#x27;subsample&#x27;: [0.5, 0.7, 1.0]},\n",
              "                   refit=&#x27;accuracy&#x27;, return_train_score=True,\n",
              "                   scoring={&#x27;accuracy&#x27;: make_scorer(accuracy_score)})</pre></div></div></div><div class=\"sk-parallel\"><div class=\"sk-parallel-item\"><div class=\"sk-item\"><div class=\"sk-label-container\"><div class=\"sk-label sk-toggleable\"><input class=\"sk-toggleable__control sk-hidden--visually\" id=\"sk-estimator-id-5\" type=\"checkbox\" ><label for=\"sk-estimator-id-5\" class=\"sk-toggleable__label sk-toggleable__label-arrow\">estimator: XGBClassifier</label><div class=\"sk-toggleable__content\"><pre>XGBClassifier()</pre></div></div></div><div class=\"sk-serial\"><div class=\"sk-item\"><div class=\"sk-estimator sk-toggleable\"><input class=\"sk-toggleable__control sk-hidden--visually\" id=\"sk-estimator-id-6\" type=\"checkbox\" ><label for=\"sk-estimator-id-6\" class=\"sk-toggleable__label sk-toggleable__label-arrow\">XGBClassifier</label><div class=\"sk-toggleable__content\"><pre>XGBClassifier()</pre></div></div></div></div></div></div></div></div></div></div>"
            ]
          },
          "metadata": {},
          "execution_count": 51
        }
      ]
    },
    {
      "cell_type": "code",
      "source": [
        "ran_search.best_params_"
      ],
      "metadata": {
        "colab": {
          "base_uri": "https://localhost:8080/"
        },
        "id": "GUolHN-i0dYZ",
        "outputId": "19fd4494-7238-4b28-a624-645142ffea8c"
      },
      "execution_count": 53,
      "outputs": [
        {
          "output_type": "execute_result",
          "data": {
            "text/plain": [
              "{'subsample': 0.5, 'objective': 'binary:logistic', 'max_depth': 3, 'eta': 0.1}"
            ]
          },
          "metadata": {},
          "execution_count": 53
        }
      ]
    },
    {
      "cell_type": "code",
      "source": [
        "# Crear el clasificador de XGBoost\n",
        "xgb_classifier = xgb.XGBClassifier(objective=\"binary:logistic\", eta=0.1, max_depth=3,subsample=0.5, random_state=42)\n",
        "\n",
        "\n",
        "# Medir el tiempo de ejecución\n",
        "start_time0 = time.time()\n",
        "# Entrenar el modelo\n",
        "xgb_classifier.fit(X_train, y_train)\n",
        "\n",
        "# Calcular el tiempo de ejecución\n",
        "end_time = time.time()\n",
        "execution_time = end_time - start_time0\n",
        "\n",
        "print(\"Tiempo de ejecución: {:.2f} segundos\".format(execution_time))\n",
        "\n",
        "# Predicción en el conjunto de prueba\n",
        "predictions_xgb1 = xgb_classifier.predict(X_test)\n",
        "# Uso de recursos\n",
        "print(f'CPU usada: {psutil.cpu_percent()}%')\n",
        "print(f'Memory usada: {psutil.virtual_memory().percent}%')"
      ],
      "metadata": {
        "colab": {
          "base_uri": "https://localhost:8080/"
        },
        "id": "J_0CQK2v0ioR",
        "outputId": "9eb4cb1e-7ffe-4448-97f2-61d5cc135f58"
      },
      "execution_count": 56,
      "outputs": [
        {
          "output_type": "stream",
          "name": "stdout",
          "text": [
            "Tiempo de ejecución: 0.17 segundos\n",
            "CPU usada: 75.4%\n",
            "Memory usada: 22.7%\n"
          ]
        }
      ]
    },
    {
      "cell_type": "code",
      "source": [
        "accuracy = accuracy_score(y_test, predictions_xgb1)\n",
        "accuracy"
      ],
      "metadata": {
        "colab": {
          "base_uri": "https://localhost:8080/"
        },
        "id": "IdWmt4680wcN",
        "outputId": "88fa66b8-3b1f-4ebe-dbb6-113c76bc1394"
      },
      "execution_count": 57,
      "outputs": [
        {
          "output_type": "execute_result",
          "data": {
            "text/plain": [
              "0.7272727272727273"
            ]
          },
          "metadata": {},
          "execution_count": 57
        }
      ]
    },
    {
      "cell_type": "code",
      "source": [],
      "metadata": {
        "id": "H54l2vHz0zo5"
      },
      "execution_count": null,
      "outputs": []
    },
    {
      "cell_type": "markdown",
      "source": [
        "## **Dask**"
      ],
      "metadata": {
        "id": "NUIa4EWStBB1"
      }
    },
    {
      "cell_type": "code",
      "execution_count": null,
      "metadata": {
        "id": "BzQbN7De-tEJ"
      },
      "outputs": [],
      "source": [
        "pip install dask"
      ]
    },
    {
      "cell_type": "code",
      "execution_count": null,
      "metadata": {
        "id": "Do6NqZmb-DhN"
      },
      "outputs": [],
      "source": [
        "pip install dask_ml"
      ]
    },
    {
      "cell_type": "code",
      "execution_count": null,
      "metadata": {
        "id": "g66mcU-8-PZ0"
      },
      "outputs": [],
      "source": [
        "pip install dask_xgboost"
      ]
    },
    {
      "cell_type": "code",
      "execution_count": 61,
      "metadata": {
        "id": "aTbQTwUn_FGW",
        "colab": {
          "base_uri": "https://localhost:8080/"
        },
        "outputId": "9b40e509-8c2c-4121-9f7d-cf1f8673b8b3"
      },
      "outputs": [
        {
          "output_type": "stream",
          "name": "stdout",
          "text": [
            "Requirement already satisfied: xgboost in /usr/local/lib/python3.10/dist-packages (0.90)\n",
            "Requirement already satisfied: numpy in /usr/local/lib/python3.10/dist-packages (from xgboost) (1.25.2)\n",
            "Requirement already satisfied: scipy in /usr/local/lib/python3.10/dist-packages (from xgboost) (1.11.4)\n"
          ]
        }
      ],
      "source": [
        "pip install xgboost"
      ]
    },
    {
      "cell_type": "code",
      "execution_count": 68,
      "metadata": {
        "id": "ezf4S46OPqea"
      },
      "outputs": [],
      "source": [
        "from dask.distributed import Client\n",
        "import dask.dataframe as dd\n",
        "from dask_ml.model_selection import train_test_split\n",
        "import time\n",
        "import dask\n",
        "import xgboost\n",
        "import dask_xgboost\n",
        "import psutil\n",
        "import numpy as np\n",
        "from sklearn.metrics import accuracy_score\n",
        "from dask_ml.xgboost import XGBClassifier\n",
        "from dask_ml.model_selection import GridSearchCV, RandomizedSearchCV"
      ]
    },
    {
      "cell_type": "code",
      "execution_count": 63,
      "metadata": {
        "colab": {
          "base_uri": "https://localhost:8080/",
          "height": 595
        },
        "id": "DeQkSeZE-CuE",
        "outputId": "87d05196-ab2c-4d2e-a61f-5d84ac6b69cc"
      },
      "outputs": [
        {
          "output_type": "stream",
          "name": "stderr",
          "text": [
            "/usr/local/lib/python3.10/dist-packages/distributed/node.py:182: UserWarning: Port 8787 is already in use.\n",
            "Perhaps you already have a cluster running?\n",
            "Hosting the HTTP server on port 33431 instead\n",
            "  warnings.warn(\n",
            "INFO:distributed.scheduler:State start\n",
            "INFO:distributed.scheduler:  Scheduler at:     tcp://127.0.0.1:43947\n",
            "INFO:distributed.scheduler:  dashboard at:  http://127.0.0.1:33431/status\n",
            "INFO:distributed.nanny:        Start Nanny at: 'tcp://127.0.0.1:45881'\n",
            "INFO:distributed.nanny:        Start Nanny at: 'tcp://127.0.0.1:46613'\n",
            "INFO:distributed.nanny:        Start Nanny at: 'tcp://127.0.0.1:38913'\n",
            "INFO:distributed.nanny:        Start Nanny at: 'tcp://127.0.0.1:46827'\n",
            "INFO:distributed.scheduler:Register worker <WorkerState 'tcp://127.0.0.1:35789', name: 2, status: init, memory: 0, processing: 0>\n",
            "INFO:distributed.scheduler:Starting worker compute stream, tcp://127.0.0.1:35789\n",
            "INFO:distributed.core:Starting established connection to tcp://127.0.0.1:36058\n",
            "INFO:distributed.scheduler:Register worker <WorkerState 'tcp://127.0.0.1:38245', name: 1, status: init, memory: 0, processing: 0>\n",
            "INFO:distributed.scheduler:Starting worker compute stream, tcp://127.0.0.1:38245\n",
            "INFO:distributed.core:Starting established connection to tcp://127.0.0.1:36052\n",
            "INFO:distributed.scheduler:Register worker <WorkerState 'tcp://127.0.0.1:45967', name: 0, status: init, memory: 0, processing: 0>\n",
            "INFO:distributed.scheduler:Starting worker compute stream, tcp://127.0.0.1:45967\n",
            "INFO:distributed.core:Starting established connection to tcp://127.0.0.1:36042\n",
            "INFO:distributed.scheduler:Register worker <WorkerState 'tcp://127.0.0.1:40067', name: 3, status: init, memory: 0, processing: 0>\n",
            "INFO:distributed.scheduler:Starting worker compute stream, tcp://127.0.0.1:40067\n",
            "INFO:distributed.core:Starting established connection to tcp://127.0.0.1:36074\n",
            "INFO:distributed.scheduler:Receive client connection: Client-8ea13647-3721-11ef-8205-0242ac1c000c\n",
            "INFO:distributed.core:Starting established connection to tcp://127.0.0.1:39982\n"
          ]
        },
        {
          "output_type": "execute_result",
          "data": {
            "text/plain": [
              "<Client: 'tcp://127.0.0.1:43947' processes=4 threads=8, memory=12.67 GiB>"
            ],
            "text/html": [
              "<div>\n",
              "    <div style=\"width: 24px; height: 24px; background-color: #e1e1e1; border: 3px solid #9D9D9D; border-radius: 5px; position: absolute;\"> </div>\n",
              "    <div style=\"margin-left: 48px;\">\n",
              "        <h3 style=\"margin-bottom: 0px;\">Client</h3>\n",
              "        <p style=\"color: #9D9D9D; margin-bottom: 0px;\">Client-8ea13647-3721-11ef-8205-0242ac1c000c</p>\n",
              "        <table style=\"width: 100%; text-align: left;\">\n",
              "\n",
              "        <tr>\n",
              "        \n",
              "            <td style=\"text-align: left;\"><strong>Connection method:</strong> Cluster object</td>\n",
              "            <td style=\"text-align: left;\"><strong>Cluster type:</strong> distributed.LocalCluster</td>\n",
              "        \n",
              "        </tr>\n",
              "\n",
              "        \n",
              "            <tr>\n",
              "                <td style=\"text-align: left;\">\n",
              "                    <strong>Dashboard: </strong> <a href=\"http://127.0.0.1:33431/status\" target=\"_blank\">http://127.0.0.1:33431/status</a>\n",
              "                </td>\n",
              "                <td style=\"text-align: left;\"></td>\n",
              "            </tr>\n",
              "        \n",
              "\n",
              "        </table>\n",
              "\n",
              "        \n",
              "\n",
              "        \n",
              "            <details>\n",
              "            <summary style=\"margin-bottom: 20px;\"><h3 style=\"display: inline;\">Cluster Info</h3></summary>\n",
              "            <div class=\"jp-RenderedHTMLCommon jp-RenderedHTML jp-mod-trusted jp-OutputArea-output\">\n",
              "    <div style=\"width: 24px; height: 24px; background-color: #e1e1e1; border: 3px solid #9D9D9D; border-radius: 5px; position: absolute;\">\n",
              "    </div>\n",
              "    <div style=\"margin-left: 48px;\">\n",
              "        <h3 style=\"margin-bottom: 0px; margin-top: 0px;\">LocalCluster</h3>\n",
              "        <p style=\"color: #9D9D9D; margin-bottom: 0px;\">f82e9759</p>\n",
              "        <table style=\"width: 100%; text-align: left;\">\n",
              "            <tr>\n",
              "                <td style=\"text-align: left;\">\n",
              "                    <strong>Dashboard:</strong> <a href=\"http://127.0.0.1:33431/status\" target=\"_blank\">http://127.0.0.1:33431/status</a>\n",
              "                </td>\n",
              "                <td style=\"text-align: left;\">\n",
              "                    <strong>Workers:</strong> 4\n",
              "                </td>\n",
              "            </tr>\n",
              "            <tr>\n",
              "                <td style=\"text-align: left;\">\n",
              "                    <strong>Total threads:</strong> 8\n",
              "                </td>\n",
              "                <td style=\"text-align: left;\">\n",
              "                    <strong>Total memory:</strong> 12.67 GiB\n",
              "                </td>\n",
              "            </tr>\n",
              "            \n",
              "            <tr>\n",
              "    <td style=\"text-align: left;\"><strong>Status:</strong> running</td>\n",
              "    <td style=\"text-align: left;\"><strong>Using processes:</strong> True</td>\n",
              "</tr>\n",
              "\n",
              "            \n",
              "        </table>\n",
              "\n",
              "        <details>\n",
              "            <summary style=\"margin-bottom: 20px;\">\n",
              "                <h3 style=\"display: inline;\">Scheduler Info</h3>\n",
              "            </summary>\n",
              "\n",
              "            <div style=\"\">\n",
              "    <div>\n",
              "        <div style=\"width: 24px; height: 24px; background-color: #FFF7E5; border: 3px solid #FF6132; border-radius: 5px; position: absolute;\"> </div>\n",
              "        <div style=\"margin-left: 48px;\">\n",
              "            <h3 style=\"margin-bottom: 0px;\">Scheduler</h3>\n",
              "            <p style=\"color: #9D9D9D; margin-bottom: 0px;\">Scheduler-f3275b51-ed58-442e-894a-136f8b85aa62</p>\n",
              "            <table style=\"width: 100%; text-align: left;\">\n",
              "                <tr>\n",
              "                    <td style=\"text-align: left;\">\n",
              "                        <strong>Comm:</strong> tcp://127.0.0.1:43947\n",
              "                    </td>\n",
              "                    <td style=\"text-align: left;\">\n",
              "                        <strong>Workers:</strong> 4\n",
              "                    </td>\n",
              "                </tr>\n",
              "                <tr>\n",
              "                    <td style=\"text-align: left;\">\n",
              "                        <strong>Dashboard:</strong> <a href=\"http://127.0.0.1:33431/status\" target=\"_blank\">http://127.0.0.1:33431/status</a>\n",
              "                    </td>\n",
              "                    <td style=\"text-align: left;\">\n",
              "                        <strong>Total threads:</strong> 8\n",
              "                    </td>\n",
              "                </tr>\n",
              "                <tr>\n",
              "                    <td style=\"text-align: left;\">\n",
              "                        <strong>Started:</strong> Just now\n",
              "                    </td>\n",
              "                    <td style=\"text-align: left;\">\n",
              "                        <strong>Total memory:</strong> 12.67 GiB\n",
              "                    </td>\n",
              "                </tr>\n",
              "            </table>\n",
              "        </div>\n",
              "    </div>\n",
              "\n",
              "    <details style=\"margin-left: 48px;\">\n",
              "        <summary style=\"margin-bottom: 20px;\">\n",
              "            <h3 style=\"display: inline;\">Workers</h3>\n",
              "        </summary>\n",
              "\n",
              "        \n",
              "        <div style=\"margin-bottom: 20px;\">\n",
              "            <div style=\"width: 24px; height: 24px; background-color: #DBF5FF; border: 3px solid #4CC9FF; border-radius: 5px; position: absolute;\"> </div>\n",
              "            <div style=\"margin-left: 48px;\">\n",
              "            <details>\n",
              "                <summary>\n",
              "                    <h4 style=\"margin-bottom: 0px; display: inline;\">Worker: 0</h4>\n",
              "                </summary>\n",
              "                <table style=\"width: 100%; text-align: left;\">\n",
              "                    <tr>\n",
              "                        <td style=\"text-align: left;\">\n",
              "                            <strong>Comm: </strong> tcp://127.0.0.1:45967\n",
              "                        </td>\n",
              "                        <td style=\"text-align: left;\">\n",
              "                            <strong>Total threads: </strong> 2\n",
              "                        </td>\n",
              "                    </tr>\n",
              "                    <tr>\n",
              "                        <td style=\"text-align: left;\">\n",
              "                            <strong>Dashboard: </strong> <a href=\"http://127.0.0.1:39957/status\" target=\"_blank\">http://127.0.0.1:39957/status</a>\n",
              "                        </td>\n",
              "                        <td style=\"text-align: left;\">\n",
              "                            <strong>Memory: </strong> 3.17 GiB\n",
              "                        </td>\n",
              "                    </tr>\n",
              "                    <tr>\n",
              "                        <td style=\"text-align: left;\">\n",
              "                            <strong>Nanny: </strong> tcp://127.0.0.1:45881\n",
              "                        </td>\n",
              "                        <td style=\"text-align: left;\"></td>\n",
              "                    </tr>\n",
              "                    <tr>\n",
              "                        <td colspan=\"2\" style=\"text-align: left;\">\n",
              "                            <strong>Local directory: </strong> /tmp/dask-scratch-space/worker-kcrkddxx\n",
              "                        </td>\n",
              "                    </tr>\n",
              "\n",
              "                    \n",
              "\n",
              "                    \n",
              "\n",
              "                </table>\n",
              "            </details>\n",
              "            </div>\n",
              "        </div>\n",
              "        \n",
              "        <div style=\"margin-bottom: 20px;\">\n",
              "            <div style=\"width: 24px; height: 24px; background-color: #DBF5FF; border: 3px solid #4CC9FF; border-radius: 5px; position: absolute;\"> </div>\n",
              "            <div style=\"margin-left: 48px;\">\n",
              "            <details>\n",
              "                <summary>\n",
              "                    <h4 style=\"margin-bottom: 0px; display: inline;\">Worker: 1</h4>\n",
              "                </summary>\n",
              "                <table style=\"width: 100%; text-align: left;\">\n",
              "                    <tr>\n",
              "                        <td style=\"text-align: left;\">\n",
              "                            <strong>Comm: </strong> tcp://127.0.0.1:38245\n",
              "                        </td>\n",
              "                        <td style=\"text-align: left;\">\n",
              "                            <strong>Total threads: </strong> 2\n",
              "                        </td>\n",
              "                    </tr>\n",
              "                    <tr>\n",
              "                        <td style=\"text-align: left;\">\n",
              "                            <strong>Dashboard: </strong> <a href=\"http://127.0.0.1:43653/status\" target=\"_blank\">http://127.0.0.1:43653/status</a>\n",
              "                        </td>\n",
              "                        <td style=\"text-align: left;\">\n",
              "                            <strong>Memory: </strong> 3.17 GiB\n",
              "                        </td>\n",
              "                    </tr>\n",
              "                    <tr>\n",
              "                        <td style=\"text-align: left;\">\n",
              "                            <strong>Nanny: </strong> tcp://127.0.0.1:46613\n",
              "                        </td>\n",
              "                        <td style=\"text-align: left;\"></td>\n",
              "                    </tr>\n",
              "                    <tr>\n",
              "                        <td colspan=\"2\" style=\"text-align: left;\">\n",
              "                            <strong>Local directory: </strong> /tmp/dask-scratch-space/worker-p77eywzb\n",
              "                        </td>\n",
              "                    </tr>\n",
              "\n",
              "                    \n",
              "\n",
              "                    \n",
              "\n",
              "                </table>\n",
              "            </details>\n",
              "            </div>\n",
              "        </div>\n",
              "        \n",
              "        <div style=\"margin-bottom: 20px;\">\n",
              "            <div style=\"width: 24px; height: 24px; background-color: #DBF5FF; border: 3px solid #4CC9FF; border-radius: 5px; position: absolute;\"> </div>\n",
              "            <div style=\"margin-left: 48px;\">\n",
              "            <details>\n",
              "                <summary>\n",
              "                    <h4 style=\"margin-bottom: 0px; display: inline;\">Worker: 2</h4>\n",
              "                </summary>\n",
              "                <table style=\"width: 100%; text-align: left;\">\n",
              "                    <tr>\n",
              "                        <td style=\"text-align: left;\">\n",
              "                            <strong>Comm: </strong> tcp://127.0.0.1:35789\n",
              "                        </td>\n",
              "                        <td style=\"text-align: left;\">\n",
              "                            <strong>Total threads: </strong> 2\n",
              "                        </td>\n",
              "                    </tr>\n",
              "                    <tr>\n",
              "                        <td style=\"text-align: left;\">\n",
              "                            <strong>Dashboard: </strong> <a href=\"http://127.0.0.1:35541/status\" target=\"_blank\">http://127.0.0.1:35541/status</a>\n",
              "                        </td>\n",
              "                        <td style=\"text-align: left;\">\n",
              "                            <strong>Memory: </strong> 3.17 GiB\n",
              "                        </td>\n",
              "                    </tr>\n",
              "                    <tr>\n",
              "                        <td style=\"text-align: left;\">\n",
              "                            <strong>Nanny: </strong> tcp://127.0.0.1:38913\n",
              "                        </td>\n",
              "                        <td style=\"text-align: left;\"></td>\n",
              "                    </tr>\n",
              "                    <tr>\n",
              "                        <td colspan=\"2\" style=\"text-align: left;\">\n",
              "                            <strong>Local directory: </strong> /tmp/dask-scratch-space/worker-hdusgatc\n",
              "                        </td>\n",
              "                    </tr>\n",
              "\n",
              "                    \n",
              "\n",
              "                    \n",
              "\n",
              "                </table>\n",
              "            </details>\n",
              "            </div>\n",
              "        </div>\n",
              "        \n",
              "        <div style=\"margin-bottom: 20px;\">\n",
              "            <div style=\"width: 24px; height: 24px; background-color: #DBF5FF; border: 3px solid #4CC9FF; border-radius: 5px; position: absolute;\"> </div>\n",
              "            <div style=\"margin-left: 48px;\">\n",
              "            <details>\n",
              "                <summary>\n",
              "                    <h4 style=\"margin-bottom: 0px; display: inline;\">Worker: 3</h4>\n",
              "                </summary>\n",
              "                <table style=\"width: 100%; text-align: left;\">\n",
              "                    <tr>\n",
              "                        <td style=\"text-align: left;\">\n",
              "                            <strong>Comm: </strong> tcp://127.0.0.1:40067\n",
              "                        </td>\n",
              "                        <td style=\"text-align: left;\">\n",
              "                            <strong>Total threads: </strong> 2\n",
              "                        </td>\n",
              "                    </tr>\n",
              "                    <tr>\n",
              "                        <td style=\"text-align: left;\">\n",
              "                            <strong>Dashboard: </strong> <a href=\"http://127.0.0.1:44089/status\" target=\"_blank\">http://127.0.0.1:44089/status</a>\n",
              "                        </td>\n",
              "                        <td style=\"text-align: left;\">\n",
              "                            <strong>Memory: </strong> 3.17 GiB\n",
              "                        </td>\n",
              "                    </tr>\n",
              "                    <tr>\n",
              "                        <td style=\"text-align: left;\">\n",
              "                            <strong>Nanny: </strong> tcp://127.0.0.1:46827\n",
              "                        </td>\n",
              "                        <td style=\"text-align: left;\"></td>\n",
              "                    </tr>\n",
              "                    <tr>\n",
              "                        <td colspan=\"2\" style=\"text-align: left;\">\n",
              "                            <strong>Local directory: </strong> /tmp/dask-scratch-space/worker-qdi8q54r\n",
              "                        </td>\n",
              "                    </tr>\n",
              "\n",
              "                    \n",
              "\n",
              "                    \n",
              "\n",
              "                </table>\n",
              "            </details>\n",
              "            </div>\n",
              "        </div>\n",
              "        \n",
              "\n",
              "    </details>\n",
              "</div>\n",
              "\n",
              "        </details>\n",
              "    </div>\n",
              "</div>\n",
              "            </details>\n",
              "        \n",
              "\n",
              "    </div>\n",
              "</div>"
            ]
          },
          "metadata": {},
          "execution_count": 63
        }
      ],
      "source": [
        "#Configurar cliente Dask\n",
        "client = Client(n_workers=4, threads_per_worker=2)\n",
        "client"
      ]
    },
    {
      "cell_type": "code",
      "execution_count": 64,
      "metadata": {
        "colab": {
          "base_uri": "https://localhost:8080/",
          "height": 206
        },
        "id": "bQVSNPTtPqeY",
        "outputId": "1f0ef766-67e0-435d-8d75-9a3d877b19ee"
      },
      "outputs": [
        {
          "output_type": "execute_result",
          "data": {
            "text/plain": [
              "   Pregnancies  Glucose  BloodPressure  SkinThickness  Insulin   BMI  \\\n",
              "0            6      148             72             35        0  33.6   \n",
              "1            1       85             66             29        0  26.6   \n",
              "2            8      183             64              0        0  23.3   \n",
              "3            1       89             66             23       94  28.1   \n",
              "4            0      137             40             35      168  43.1   \n",
              "\n",
              "   DiabetesPedigreeFunction  Age  Outcome  \n",
              "0                     0.627   50        1  \n",
              "1                     0.351   31        0  \n",
              "2                     0.672   32        1  \n",
              "3                     0.167   21        0  \n",
              "4                     2.288   33        1  "
            ],
            "text/html": [
              "\n",
              "  <div id=\"df-b6147efe-9676-4152-9518-3bc4451f9ed1\" class=\"colab-df-container\">\n",
              "    <div>\n",
              "<style scoped>\n",
              "    .dataframe tbody tr th:only-of-type {\n",
              "        vertical-align: middle;\n",
              "    }\n",
              "\n",
              "    .dataframe tbody tr th {\n",
              "        vertical-align: top;\n",
              "    }\n",
              "\n",
              "    .dataframe thead th {\n",
              "        text-align: right;\n",
              "    }\n",
              "</style>\n",
              "<table border=\"1\" class=\"dataframe\">\n",
              "  <thead>\n",
              "    <tr style=\"text-align: right;\">\n",
              "      <th></th>\n",
              "      <th>Pregnancies</th>\n",
              "      <th>Glucose</th>\n",
              "      <th>BloodPressure</th>\n",
              "      <th>SkinThickness</th>\n",
              "      <th>Insulin</th>\n",
              "      <th>BMI</th>\n",
              "      <th>DiabetesPedigreeFunction</th>\n",
              "      <th>Age</th>\n",
              "      <th>Outcome</th>\n",
              "    </tr>\n",
              "  </thead>\n",
              "  <tbody>\n",
              "    <tr>\n",
              "      <th>0</th>\n",
              "      <td>6</td>\n",
              "      <td>148</td>\n",
              "      <td>72</td>\n",
              "      <td>35</td>\n",
              "      <td>0</td>\n",
              "      <td>33.6</td>\n",
              "      <td>0.627</td>\n",
              "      <td>50</td>\n",
              "      <td>1</td>\n",
              "    </tr>\n",
              "    <tr>\n",
              "      <th>1</th>\n",
              "      <td>1</td>\n",
              "      <td>85</td>\n",
              "      <td>66</td>\n",
              "      <td>29</td>\n",
              "      <td>0</td>\n",
              "      <td>26.6</td>\n",
              "      <td>0.351</td>\n",
              "      <td>31</td>\n",
              "      <td>0</td>\n",
              "    </tr>\n",
              "    <tr>\n",
              "      <th>2</th>\n",
              "      <td>8</td>\n",
              "      <td>183</td>\n",
              "      <td>64</td>\n",
              "      <td>0</td>\n",
              "      <td>0</td>\n",
              "      <td>23.3</td>\n",
              "      <td>0.672</td>\n",
              "      <td>32</td>\n",
              "      <td>1</td>\n",
              "    </tr>\n",
              "    <tr>\n",
              "      <th>3</th>\n",
              "      <td>1</td>\n",
              "      <td>89</td>\n",
              "      <td>66</td>\n",
              "      <td>23</td>\n",
              "      <td>94</td>\n",
              "      <td>28.1</td>\n",
              "      <td>0.167</td>\n",
              "      <td>21</td>\n",
              "      <td>0</td>\n",
              "    </tr>\n",
              "    <tr>\n",
              "      <th>4</th>\n",
              "      <td>0</td>\n",
              "      <td>137</td>\n",
              "      <td>40</td>\n",
              "      <td>35</td>\n",
              "      <td>168</td>\n",
              "      <td>43.1</td>\n",
              "      <td>2.288</td>\n",
              "      <td>33</td>\n",
              "      <td>1</td>\n",
              "    </tr>\n",
              "  </tbody>\n",
              "</table>\n",
              "</div>\n",
              "    <div class=\"colab-df-buttons\">\n",
              "\n",
              "  <div class=\"colab-df-container\">\n",
              "    <button class=\"colab-df-convert\" onclick=\"convertToInteractive('df-b6147efe-9676-4152-9518-3bc4451f9ed1')\"\n",
              "            title=\"Convert this dataframe to an interactive table.\"\n",
              "            style=\"display:none;\">\n",
              "\n",
              "  <svg xmlns=\"http://www.w3.org/2000/svg\" height=\"24px\" viewBox=\"0 -960 960 960\">\n",
              "    <path d=\"M120-120v-720h720v720H120Zm60-500h600v-160H180v160Zm220 220h160v-160H400v160Zm0 220h160v-160H400v160ZM180-400h160v-160H180v160Zm440 0h160v-160H620v160ZM180-180h160v-160H180v160Zm440 0h160v-160H620v160Z\"/>\n",
              "  </svg>\n",
              "    </button>\n",
              "\n",
              "  <style>\n",
              "    .colab-df-container {\n",
              "      display:flex;\n",
              "      gap: 12px;\n",
              "    }\n",
              "\n",
              "    .colab-df-convert {\n",
              "      background-color: #E8F0FE;\n",
              "      border: none;\n",
              "      border-radius: 50%;\n",
              "      cursor: pointer;\n",
              "      display: none;\n",
              "      fill: #1967D2;\n",
              "      height: 32px;\n",
              "      padding: 0 0 0 0;\n",
              "      width: 32px;\n",
              "    }\n",
              "\n",
              "    .colab-df-convert:hover {\n",
              "      background-color: #E2EBFA;\n",
              "      box-shadow: 0px 1px 2px rgba(60, 64, 67, 0.3), 0px 1px 3px 1px rgba(60, 64, 67, 0.15);\n",
              "      fill: #174EA6;\n",
              "    }\n",
              "\n",
              "    .colab-df-buttons div {\n",
              "      margin-bottom: 4px;\n",
              "    }\n",
              "\n",
              "    [theme=dark] .colab-df-convert {\n",
              "      background-color: #3B4455;\n",
              "      fill: #D2E3FC;\n",
              "    }\n",
              "\n",
              "    [theme=dark] .colab-df-convert:hover {\n",
              "      background-color: #434B5C;\n",
              "      box-shadow: 0px 1px 3px 1px rgba(0, 0, 0, 0.15);\n",
              "      filter: drop-shadow(0px 1px 2px rgba(0, 0, 0, 0.3));\n",
              "      fill: #FFFFFF;\n",
              "    }\n",
              "  </style>\n",
              "\n",
              "    <script>\n",
              "      const buttonEl =\n",
              "        document.querySelector('#df-b6147efe-9676-4152-9518-3bc4451f9ed1 button.colab-df-convert');\n",
              "      buttonEl.style.display =\n",
              "        google.colab.kernel.accessAllowed ? 'block' : 'none';\n",
              "\n",
              "      async function convertToInteractive(key) {\n",
              "        const element = document.querySelector('#df-b6147efe-9676-4152-9518-3bc4451f9ed1');\n",
              "        const dataTable =\n",
              "          await google.colab.kernel.invokeFunction('convertToInteractive',\n",
              "                                                    [key], {});\n",
              "        if (!dataTable) return;\n",
              "\n",
              "        const docLinkHtml = 'Like what you see? Visit the ' +\n",
              "          '<a target=\"_blank\" href=https://colab.research.google.com/notebooks/data_table.ipynb>data table notebook</a>'\n",
              "          + ' to learn more about interactive tables.';\n",
              "        element.innerHTML = '';\n",
              "        dataTable['output_type'] = 'display_data';\n",
              "        await google.colab.output.renderOutput(dataTable, element);\n",
              "        const docLink = document.createElement('div');\n",
              "        docLink.innerHTML = docLinkHtml;\n",
              "        element.appendChild(docLink);\n",
              "      }\n",
              "    </script>\n",
              "  </div>\n",
              "\n",
              "\n",
              "<div id=\"df-c4bfad86-b9e1-43a8-b5a3-86e68684af53\">\n",
              "  <button class=\"colab-df-quickchart\" onclick=\"quickchart('df-c4bfad86-b9e1-43a8-b5a3-86e68684af53')\"\n",
              "            title=\"Suggest charts\"\n",
              "            style=\"display:none;\">\n",
              "\n",
              "<svg xmlns=\"http://www.w3.org/2000/svg\" height=\"24px\"viewBox=\"0 0 24 24\"\n",
              "     width=\"24px\">\n",
              "    <g>\n",
              "        <path d=\"M19 3H5c-1.1 0-2 .9-2 2v14c0 1.1.9 2 2 2h14c1.1 0 2-.9 2-2V5c0-1.1-.9-2-2-2zM9 17H7v-7h2v7zm4 0h-2V7h2v10zm4 0h-2v-4h2v4z\"/>\n",
              "    </g>\n",
              "</svg>\n",
              "  </button>\n",
              "\n",
              "<style>\n",
              "  .colab-df-quickchart {\n",
              "      --bg-color: #E8F0FE;\n",
              "      --fill-color: #1967D2;\n",
              "      --hover-bg-color: #E2EBFA;\n",
              "      --hover-fill-color: #174EA6;\n",
              "      --disabled-fill-color: #AAA;\n",
              "      --disabled-bg-color: #DDD;\n",
              "  }\n",
              "\n",
              "  [theme=dark] .colab-df-quickchart {\n",
              "      --bg-color: #3B4455;\n",
              "      --fill-color: #D2E3FC;\n",
              "      --hover-bg-color: #434B5C;\n",
              "      --hover-fill-color: #FFFFFF;\n",
              "      --disabled-bg-color: #3B4455;\n",
              "      --disabled-fill-color: #666;\n",
              "  }\n",
              "\n",
              "  .colab-df-quickchart {\n",
              "    background-color: var(--bg-color);\n",
              "    border: none;\n",
              "    border-radius: 50%;\n",
              "    cursor: pointer;\n",
              "    display: none;\n",
              "    fill: var(--fill-color);\n",
              "    height: 32px;\n",
              "    padding: 0;\n",
              "    width: 32px;\n",
              "  }\n",
              "\n",
              "  .colab-df-quickchart:hover {\n",
              "    background-color: var(--hover-bg-color);\n",
              "    box-shadow: 0 1px 2px rgba(60, 64, 67, 0.3), 0 1px 3px 1px rgba(60, 64, 67, 0.15);\n",
              "    fill: var(--button-hover-fill-color);\n",
              "  }\n",
              "\n",
              "  .colab-df-quickchart-complete:disabled,\n",
              "  .colab-df-quickchart-complete:disabled:hover {\n",
              "    background-color: var(--disabled-bg-color);\n",
              "    fill: var(--disabled-fill-color);\n",
              "    box-shadow: none;\n",
              "  }\n",
              "\n",
              "  .colab-df-spinner {\n",
              "    border: 2px solid var(--fill-color);\n",
              "    border-color: transparent;\n",
              "    border-bottom-color: var(--fill-color);\n",
              "    animation:\n",
              "      spin 1s steps(1) infinite;\n",
              "  }\n",
              "\n",
              "  @keyframes spin {\n",
              "    0% {\n",
              "      border-color: transparent;\n",
              "      border-bottom-color: var(--fill-color);\n",
              "      border-left-color: var(--fill-color);\n",
              "    }\n",
              "    20% {\n",
              "      border-color: transparent;\n",
              "      border-left-color: var(--fill-color);\n",
              "      border-top-color: var(--fill-color);\n",
              "    }\n",
              "    30% {\n",
              "      border-color: transparent;\n",
              "      border-left-color: var(--fill-color);\n",
              "      border-top-color: var(--fill-color);\n",
              "      border-right-color: var(--fill-color);\n",
              "    }\n",
              "    40% {\n",
              "      border-color: transparent;\n",
              "      border-right-color: var(--fill-color);\n",
              "      border-top-color: var(--fill-color);\n",
              "    }\n",
              "    60% {\n",
              "      border-color: transparent;\n",
              "      border-right-color: var(--fill-color);\n",
              "    }\n",
              "    80% {\n",
              "      border-color: transparent;\n",
              "      border-right-color: var(--fill-color);\n",
              "      border-bottom-color: var(--fill-color);\n",
              "    }\n",
              "    90% {\n",
              "      border-color: transparent;\n",
              "      border-bottom-color: var(--fill-color);\n",
              "    }\n",
              "  }\n",
              "</style>\n",
              "\n",
              "  <script>\n",
              "    async function quickchart(key) {\n",
              "      const quickchartButtonEl =\n",
              "        document.querySelector('#' + key + ' button');\n",
              "      quickchartButtonEl.disabled = true;  // To prevent multiple clicks.\n",
              "      quickchartButtonEl.classList.add('colab-df-spinner');\n",
              "      try {\n",
              "        const charts = await google.colab.kernel.invokeFunction(\n",
              "            'suggestCharts', [key], {});\n",
              "      } catch (error) {\n",
              "        console.error('Error during call to suggestCharts:', error);\n",
              "      }\n",
              "      quickchartButtonEl.classList.remove('colab-df-spinner');\n",
              "      quickchartButtonEl.classList.add('colab-df-quickchart-complete');\n",
              "    }\n",
              "    (() => {\n",
              "      let quickchartButtonEl =\n",
              "        document.querySelector('#df-c4bfad86-b9e1-43a8-b5a3-86e68684af53 button');\n",
              "      quickchartButtonEl.style.display =\n",
              "        google.colab.kernel.accessAllowed ? 'block' : 'none';\n",
              "    })();\n",
              "  </script>\n",
              "</div>\n",
              "\n",
              "    </div>\n",
              "  </div>\n"
            ],
            "application/vnd.google.colaboratory.intrinsic+json": {
              "type": "dataframe",
              "summary": "{\n  \"name\": \"data1\",\n  \"rows\": 5,\n  \"fields\": [\n    {\n      \"column\": \"Pregnancies\",\n      \"properties\": {\n        \"dtype\": \"number\",\n        \"std\": 3,\n        \"min\": 0,\n        \"max\": 8,\n        \"num_unique_values\": 4,\n        \"samples\": [\n          1,\n          0,\n          6\n        ],\n        \"semantic_type\": \"\",\n        \"description\": \"\"\n      }\n    },\n    {\n      \"column\": \"Glucose\",\n      \"properties\": {\n        \"dtype\": \"number\",\n        \"std\": 41,\n        \"min\": 85,\n        \"max\": 183,\n        \"num_unique_values\": 5,\n        \"samples\": [\n          85,\n          137,\n          183\n        ],\n        \"semantic_type\": \"\",\n        \"description\": \"\"\n      }\n    },\n    {\n      \"column\": \"BloodPressure\",\n      \"properties\": {\n        \"dtype\": \"number\",\n        \"std\": 12,\n        \"min\": 40,\n        \"max\": 72,\n        \"num_unique_values\": 4,\n        \"samples\": [\n          66,\n          40,\n          72\n        ],\n        \"semantic_type\": \"\",\n        \"description\": \"\"\n      }\n    },\n    {\n      \"column\": \"SkinThickness\",\n      \"properties\": {\n        \"dtype\": \"number\",\n        \"std\": 14,\n        \"min\": 0,\n        \"max\": 35,\n        \"num_unique_values\": 4,\n        \"samples\": [\n          29,\n          23,\n          35\n        ],\n        \"semantic_type\": \"\",\n        \"description\": \"\"\n      }\n    },\n    {\n      \"column\": \"Insulin\",\n      \"properties\": {\n        \"dtype\": \"number\",\n        \"std\": 76,\n        \"min\": 0,\n        \"max\": 168,\n        \"num_unique_values\": 3,\n        \"samples\": [\n          0,\n          94,\n          168\n        ],\n        \"semantic_type\": \"\",\n        \"description\": \"\"\n      }\n    },\n    {\n      \"column\": \"BMI\",\n      \"properties\": {\n        \"dtype\": \"number\",\n        \"std\": 7.749387072536769,\n        \"min\": 23.3,\n        \"max\": 43.1,\n        \"num_unique_values\": 5,\n        \"samples\": [\n          26.6,\n          43.1,\n          23.3\n        ],\n        \"semantic_type\": \"\",\n        \"description\": \"\"\n      }\n    },\n    {\n      \"column\": \"DiabetesPedigreeFunction\",\n      \"properties\": {\n        \"dtype\": \"number\",\n        \"std\": 0.8456568452983751,\n        \"min\": 0.167,\n        \"max\": 2.288,\n        \"num_unique_values\": 5,\n        \"samples\": [\n          0.351,\n          2.288,\n          0.672\n        ],\n        \"semantic_type\": \"\",\n        \"description\": \"\"\n      }\n    },\n    {\n      \"column\": \"Age\",\n      \"properties\": {\n        \"dtype\": \"number\",\n        \"std\": 10,\n        \"min\": 21,\n        \"max\": 50,\n        \"num_unique_values\": 5,\n        \"samples\": [\n          31,\n          33,\n          32\n        ],\n        \"semantic_type\": \"\",\n        \"description\": \"\"\n      }\n    },\n    {\n      \"column\": \"Outcome\",\n      \"properties\": {\n        \"dtype\": \"number\",\n        \"std\": 0,\n        \"min\": 0,\n        \"max\": 1,\n        \"num_unique_values\": 2,\n        \"samples\": [\n          0,\n          1\n        ],\n        \"semantic_type\": \"\",\n        \"description\": \"\"\n      }\n    }\n  ]\n}"
            }
          },
          "metadata": {},
          "execution_count": 64
        }
      ],
      "source": [
        "#Revisamos el contenido de la data\n",
        "data1 = dd.read_csv('/content/diabetes.csv')\n",
        "data1.head()"
      ]
    },
    {
      "cell_type": "markdown",
      "metadata": {
        "id": "YomdvZKgPqea"
      },
      "source": [
        "#### Predice si tiene diabetes sabiendo su nivel de glucosa,  índice de masa corporal y edad"
      ]
    },
    {
      "cell_type": "code",
      "execution_count": 65,
      "metadata": {
        "colab": {
          "base_uri": "https://localhost:8080/"
        },
        "id": "uyaazaqDQirV",
        "outputId": "b5bd88a2-0512-4da0-dc29-26a58bc162d3"
      },
      "outputs": [
        {
          "output_type": "stream",
          "name": "stdout",
          "text": [
            "Tiempo de ejecución: 0.04 segundos\n"
          ]
        }
      ],
      "source": [
        "X = data1[['Glucose','BMI','Age']]  # Seleccionamos las características adecuadas\n",
        "y = data1['Outcome']\n",
        "\n",
        "# Medir el tiempo de ejecución\n",
        "start_time0 = time.time()\n",
        "\n",
        "# Divide tus datos en conjuntos de entrenamiento y prueba, utilizamos stratify para distribuir bien la cantidades de datos para las clases\n",
        "X_train, X_test, y_train, y_test = train_test_split(X, y, test_size=0.2, random_state=42, shuffle=True,)#,stratify=y\n",
        "\n",
        "\n",
        "# Calcular el tiempo de ejecución\n",
        "end_time = time.time()\n",
        "execution_time = end_time - start_time0\n",
        "\n",
        "print(\"Tiempo de ejecución: {:.2f} segundos\".format(execution_time))"
      ]
    },
    {
      "cell_type": "code",
      "execution_count": 66,
      "metadata": {
        "colab": {
          "base_uri": "https://localhost:8080/"
        },
        "id": "MaiG0FSzPqeb",
        "outputId": "6f4ef924-eef1-4614-bf1e-c34f44407cac"
      },
      "outputs": [
        {
          "output_type": "execute_result",
          "data": {
            "text/plain": [
              "((Delayed('int-e81bf793-e3d0-4498-985f-c951ab3d2945'), 3),\n",
              " (dd.Scalar<size-ag..., dtype=int64>,),\n",
              " (Delayed('int-dbd2a2e1-63cc-49da-b34a-b20824b7d8c6'), 3),\n",
              " (dd.Scalar<size-ag..., dtype=int64>,))"
            ]
          },
          "metadata": {},
          "execution_count": 66
        }
      ],
      "source": [
        "X_train.shape, y_train.shape, X_test.shape, y_test.shape"
      ]
    },
    {
      "cell_type": "code",
      "execution_count": 67,
      "metadata": {
        "colab": {
          "base_uri": "https://localhost:8080/"
        },
        "id": "7Qr_2s22rI_E",
        "outputId": "2071c878-454f-4ad5-ef2d-192daaee3836"
      },
      "outputs": [
        {
          "output_type": "execute_result",
          "data": {
            "text/plain": [
              "128    1\n",
              "355    1\n",
              "591    0\n",
              "97     0\n",
              "186    1\n",
              "      ..\n",
              "345    0\n",
              "448    1\n",
              "75     0\n",
              "532    0\n",
              "429    1\n",
              "Name: Outcome, Length: 619, dtype: int64"
            ]
          },
          "metadata": {},
          "execution_count": 67
        }
      ],
      "source": [
        "y_train.compute()"
      ]
    },
    {
      "cell_type": "code",
      "execution_count": null,
      "metadata": {
        "id": "aq7iBP1HIEFz"
      },
      "outputs": [],
      "source": []
    },
    {
      "cell_type": "markdown",
      "metadata": {
        "id": "3m_SVPfYPqee"
      },
      "source": [
        "### **XGBoost:**"
      ]
    },
    {
      "cell_type": "markdown",
      "metadata": {
        "id": "LckX5ye2UOFR"
      },
      "source": [
        "## **Con Dask**"
      ]
    },
    {
      "cell_type": "markdown",
      "metadata": {
        "id": "MuEf3sOe60Tx"
      },
      "source": [
        "min_child_weight: Peso mínimo requerido en una hoja para continuar dividiendo, afecta la simplicidad del modelo."
      ]
    },
    {
      "cell_type": "markdown",
      "metadata": {
        "id": "GQWkbrAhAPbs"
      },
      "source": [
        "Entrenamiento del modelo"
      ]
    },
    {
      "cell_type": "code",
      "execution_count": 76,
      "metadata": {
        "colab": {
          "base_uri": "https://localhost:8080/"
        },
        "id": "MAnPiNB2PzRb",
        "outputId": "5f92e2e6-3686-484f-c224-aef651a35dff"
      },
      "outputs": [
        {
          "output_type": "stream",
          "name": "stderr",
          "text": [
            "INFO:distributed.worker:Run out-of-band function 'start_tracker'\n",
            "Exception in thread Thread-16 (join):\n",
            "Traceback (most recent call last):\n",
            "  File \"/usr/lib/python3.10/threading.py\", line 1016, in _bootstrap_inner\n",
            "    self.run()\n",
            "  File \"/usr/lib/python3.10/threading.py\", line 953, in run\n",
            "    self._target(*self._args, **self._kwargs)\n",
            "  File \"/usr/local/lib/python3.10/dist-packages/dask_xgboost/tracker.py\", line 365, in join\n",
            "    while self.thread.isAlive():\n",
            "AttributeError: 'Thread' object has no attribute 'isAlive'. Did you mean: 'is_alive'?\n"
          ]
        },
        {
          "output_type": "stream",
          "name": "stdout",
          "text": [
            "Tiempo de ejecución: 4.26 segundos\n",
            "CPU antes del entrenamiento: 97.0%\n",
            "CPU después del entrenamiento: 83.8%\n",
            "Memoria antes del entrenamiento: 24.6%\n",
            "Memoria después del entrenamiento: 25.0%\n"
          ]
        }
      ],
      "source": [
        "parametros = {'objective': 'binary:logistic',\n",
        "          'eta': 1, 'max_depth': 3, 'subsample': 0.5}\n",
        "\n",
        "# Medir tiempo y uso de recursos antes del entrenamiento\n",
        "start_time0 = time.time()\n",
        "cpu_usage_before = psutil.cpu_percent(interval=1)\n",
        "memory_usage_before = psutil.virtual_memory().percent\n",
        "\n",
        "\n",
        "xg = dask_xgboost.train(client, parametros, X_train, y_train, num_boost_round=10)\n",
        "\n",
        "\n",
        "# Medir tiempo y uso de recursos después del entrenamiento\n",
        "end_time = time.time()\n",
        "execution_time = end_time - start_time0\n",
        "cpu_usage_after = psutil.cpu_percent(interval=1)\n",
        "memory_usage_after = psutil.virtual_memory().percent\n",
        "print(\"Tiempo de ejecución: {:.2f} segundos\".format(execution_time))\n",
        "print(f'CPU antes del entrenamiento: {cpu_usage_before}%')\n",
        "print(f'CPU después del entrenamiento: {cpu_usage_after}%')\n",
        "print(f'Memoria antes del entrenamiento: {memory_usage_before}%')\n",
        "print(f'Memoria después del entrenamiento: {memory_usage_after}%')\n",
        "\n"
      ]
    },
    {
      "cell_type": "code",
      "execution_count": 77,
      "metadata": {
        "colab": {
          "base_uri": "https://localhost:8080/",
          "height": 119
        },
        "id": "r5XHgRePqh0i",
        "outputId": "4842b0fa-63a7-4e90-fac2-55e181c8f0da"
      },
      "outputs": [
        {
          "output_type": "execute_result",
          "data": {
            "text/plain": [
              "dask.array<values, shape=(nan,), dtype=float32, chunksize=(nan,), chunktype=numpy.ndarray>"
            ],
            "text/html": [
              "<table>\n",
              "    <tr>\n",
              "        <td>\n",
              "            <table style=\"border-collapse: collapse;\">\n",
              "                <thead>\n",
              "                    <tr>\n",
              "                        <td> </td>\n",
              "                        <th> Array </th>\n",
              "                        <th> Chunk </th>\n",
              "                    </tr>\n",
              "                </thead>\n",
              "                <tbody>\n",
              "                    \n",
              "                    <tr>\n",
              "                        <th> Bytes </th>\n",
              "                        <td> unknown </td>\n",
              "                        <td> unknown </td>\n",
              "                    </tr>\n",
              "                    \n",
              "                    <tr>\n",
              "                        <th> Shape </th>\n",
              "                        <td> (nan,) </td>\n",
              "                        <td> (nan,) </td>\n",
              "                    </tr>\n",
              "                    <tr>\n",
              "                        <th> Dask graph </th>\n",
              "                        <td colspan=\"2\"> 1 chunks in 1 graph layer </td>\n",
              "                    </tr>\n",
              "                    <tr>\n",
              "                        <th> Data type </th>\n",
              "                        <td colspan=\"2\"> float32 numpy.ndarray </td>\n",
              "                    </tr>\n",
              "                </tbody>\n",
              "            </table>\n",
              "        </td>\n",
              "        <td>\n",
              "        \n",
              "        </td>\n",
              "    </tr>\n",
              "</table>"
            ]
          },
          "metadata": {},
          "execution_count": 77
        }
      ],
      "source": [
        "y_hat = dask_xgboost.predict(client, xg, X_test).persist()\n",
        "y_hat"
      ]
    },
    {
      "cell_type": "code",
      "execution_count": 78,
      "metadata": {
        "colab": {
          "base_uri": "https://localhost:8080/"
        },
        "id": "74mLi4J8P9bR",
        "outputId": "f17def4f-83c6-4935-b0d7-cf223c696131"
      },
      "outputs": [
        {
          "output_type": "execute_result",
          "data": {
            "text/plain": [
              "<xgboost.core.Booster at 0x7cb3546bf100>"
            ]
          },
          "metadata": {},
          "execution_count": 78
        }
      ],
      "source": [
        "xg"
      ]
    },
    {
      "cell_type": "code",
      "execution_count": 79,
      "metadata": {
        "id": "RX9WOZ0jRVPg"
      },
      "outputs": [],
      "source": [
        "results = y_hat.compute()\n"
      ]
    },
    {
      "cell_type": "code",
      "execution_count": 80,
      "metadata": {
        "colab": {
          "base_uri": "https://localhost:8080/"
        },
        "id": "2I55NjyxS0HS",
        "outputId": "c822535d-a723-4643-9e54-1900bdc0fe2b"
      },
      "outputs": [
        {
          "output_type": "stream",
          "name": "stdout",
          "text": [
            "\n",
            "Predicciones binarias con umbral de 0.5: \n",
            "[1 0 0 1 0 0 1 0 0 1 1 1 0 1 0 0 1 0 0 0 0 1 0 1 1 0 1 0 0 0 1 1 0 0 0 0 0\n",
            " 0 0 0 0 0 1 0 1 1 0 0 0 0 0 0 0 0 0 0 0 0 0 1 0 0 0 0 0 0 0 1 0 1 1 0 0 0\n",
            " 1 0 0 0 0 0 1 1 1 0 0 1 1 0 0 0 1 0 1 0 0 1 0 0 0 0 0 1 0 0 0 1 0 1 0 0 0\n",
            " 0 0 0 0 1 1 0 1 0 0 1 0 0 0 0 0 1 1 0 0 0 0 0 1 1 0 0 0 1 0 0 0 0 0 0 0 0\n",
            " 0]\n"
          ]
        }
      ],
      "source": [
        "\n",
        "# Opcional: aplicar un umbral para convertir las probabilidades en etiquetas de clase binarias\n",
        "umbral = 0.5\n",
        "predictions_umbral = (results >= umbral).astype(int)\n",
        "\n",
        "# Imprimir las predicciones con umbral\n",
        "print(\"\\nPredicciones binarias con umbral de {}: \".format(umbral))\n",
        "print(predictions_umbral)"
      ]
    },
    {
      "cell_type": "code",
      "execution_count": 81,
      "metadata": {
        "colab": {
          "base_uri": "https://localhost:8080/"
        },
        "id": "JYatkCFMTdA-",
        "outputId": "02c30fde-3d97-435f-fa16-ff94001f6ffe"
      },
      "outputs": [
        {
          "output_type": "execute_result",
          "data": {
            "text/plain": [
              "622    0\n",
              "25     1\n",
              "191    0\n",
              "332    1\n",
              "113    0\n",
              "502    1\n",
              "728    0\n",
              "316    0\n",
              "290    0\n",
              "364    0\n",
              "Name: Outcome, dtype: int64"
            ]
          },
          "metadata": {},
          "execution_count": 81
        }
      ],
      "source": [
        "y_test.head(10)"
      ]
    },
    {
      "cell_type": "code",
      "execution_count": 82,
      "metadata": {
        "colab": {
          "base_uri": "https://localhost:8080/"
        },
        "id": "aiPmJFFMTPPv",
        "outputId": "ddde1f04-09a9-4662-f73b-084ba63eb3f6"
      },
      "outputs": [
        {
          "output_type": "stream",
          "name": "stdout",
          "text": [
            "Precisión del modelo: 75.84%\n"
          ]
        }
      ],
      "source": [
        "#Calcular la precisión del modelo\n",
        "accuracy = accuracy_score(y_test,predictions_umbral )\n",
        "print(\"Precisión del modelo: {:.2f}%\".format(accuracy * 100))"
      ]
    },
    {
      "cell_type": "markdown",
      "source": [
        "**PERFILACIÓN DE CÓDIGO** (Detectar cuellos de botella)"
      ],
      "metadata": {
        "id": "rByz5lzw7g46"
      }
    },
    {
      "cell_type": "code",
      "source": [
        "# Perfilar el proceso de adaptación de k-means\n",
        "# Creamos un objeto cProfile.Profile para rastrear el tiempo de ejecución de\n",
        "#diferentes partes del código.\n",
        "profiler = cProfile.Profile()\n",
        "# Habilitar la creación de perfiles\n",
        "profiler.enable()\n",
        "\n",
        "#Entrenar el modelo\n",
        "xg = dask_xgboost.train(client, parametros, X_train, y_train, num_boost_round=10)\n",
        "\n",
        "profiler.disable() # Deshabilitar la creación de perfiles\n",
        "\n",
        "# Cargar y analizar estadísticas\n",
        "stats = pstats.Stats(profiler) #creamos un objeto a partir de los datos del perfilador\n",
        "stats.strip_dirs().sort_stats('time').print_stats(10)  # Imprima las 10 funciones que más tiempo consumen"
      ],
      "metadata": {
        "colab": {
          "base_uri": "https://localhost:8080/"
        },
        "id": "gTIDJPn47YxY",
        "outputId": "01c7cc82-f0e2-4ed2-ad1f-15c023bf5b0b"
      },
      "execution_count": 83,
      "outputs": [
        {
          "output_type": "stream",
          "name": "stderr",
          "text": [
            "INFO:distributed.worker:Run out-of-band function 'start_tracker'\n",
            "Exception in thread Thread-18 (join):\n",
            "Traceback (most recent call last):\n",
            "  File \"/usr/lib/python3.10/threading.py\", line 1016, in _bootstrap_inner\n",
            "    self.run()\n",
            "  File \"/usr/lib/python3.10/threading.py\", line 953, in run\n",
            "    self._target(*self._args, **self._kwargs)\n",
            "  File \"/usr/local/lib/python3.10/dist-packages/dask_xgboost/tracker.py\", line 365, in join\n",
            "    while self.thread.isAlive():\n",
            "AttributeError: 'Thread' object has no attribute 'isAlive'. Did you mean: 'is_alive'?\n"
          ]
        },
        {
          "output_type": "stream",
          "name": "stdout",
          "text": [
            "         121 function calls in 9.094 seconds\n",
            "\n",
            "   Ordered by: internal time\n",
            "   List reduced from 67 to 10 due to restriction <10>\n",
            "\n",
            "   ncalls  tottime  percall  cumtime  percall filename:lineno(function)\n",
            "        4    9.068    2.267    9.068    2.267 {method 'acquire' of '_thread.lock' objects}\n",
            "        1    0.011    0.011    0.011    0.011 {method 'send' of '_socket.socket' objects}\n",
            "        2    0.009    0.004    0.014    0.007 contextlib.py:279(helper)\n",
            "        2    0.005    0.003    0.005    0.003 contextlib.py:102(__init__)\n",
            "        2    0.000    0.000    0.000    0.000 {built-in method builtins.compile}\n",
            "        2    0.000    0.000    9.080    4.540 interactiveshell.py:3512(run_code)\n",
            "        1    0.000    0.000    9.079    9.079 utils.py:376(sync)\n",
            "        1    0.000    0.000    0.000    0.000 functools.py:35(update_wrapper)\n",
            "        1    0.000    0.000    9.079    9.079 utils.py:347(sync)\n",
            "        2    0.000    0.000    0.000    0.000 interactiveshell.py:3337(_update_code_co_name)\n",
            "\n",
            "\n"
          ]
        },
        {
          "output_type": "execute_result",
          "data": {
            "text/plain": [
              "<pstats.Stats at 0x7cb364f1ddb0>"
            ]
          },
          "metadata": {},
          "execution_count": 83
        }
      ]
    },
    {
      "cell_type": "code",
      "source": [
        "client.rebalance()"
      ],
      "metadata": {
        "id": "Sfp4tFwI73Gq"
      },
      "execution_count": 84,
      "outputs": []
    },
    {
      "cell_type": "code",
      "source": [
        "# Perfilar el proceso de adaptación de k-means\n",
        "# Creamos un objeto cProfile.Profile para rastrear el tiempo de ejecución de\n",
        "#diferentes partes del código.\n",
        "profiler = cProfile.Profile()\n",
        "# Habilitar la creación de perfiles\n",
        "profiler.enable()\n",
        "\n",
        "#Entrenar el modelo\n",
        "xg = dask_xgboost.train(client, parametros, X_train, y_train, num_boost_round=10)\n",
        "\n",
        "profiler.disable() # Deshabilitar la creación de perfiles\n",
        "\n",
        "# Cargar y analizar estadísticas\n",
        "stats = pstats.Stats(profiler) #creamos un objeto a partir de los datos del perfilador\n",
        "stats.strip_dirs().sort_stats('time').print_stats(10)  # Imprima las 10 funciones que más tiempo consumen"
      ],
      "metadata": {
        "colab": {
          "base_uri": "https://localhost:8080/"
        },
        "id": "0p78PFhZ77-r",
        "outputId": "6b0648ce-6af5-4d92-df6e-7f18455724b9"
      },
      "execution_count": 85,
      "outputs": [
        {
          "output_type": "stream",
          "name": "stderr",
          "text": [
            "INFO:distributed.worker:Run out-of-band function 'start_tracker'\n",
            "Exception in thread Thread-20 (join):\n",
            "Traceback (most recent call last):\n",
            "  File \"/usr/lib/python3.10/threading.py\", line 1016, in _bootstrap_inner\n",
            "    self.run()\n",
            "  File \"/usr/lib/python3.10/threading.py\", line 953, in run\n",
            "    self._target(*self._args, **self._kwargs)\n",
            "  File \"/usr/local/lib/python3.10/dist-packages/dask_xgboost/tracker.py\", line 365, in join\n",
            "    while self.thread.isAlive():\n",
            "AttributeError: 'Thread' object has no attribute 'isAlive'. Did you mean: 'is_alive'?\n"
          ]
        },
        {
          "output_type": "stream",
          "name": "stdout",
          "text": [
            "         121 function calls in 2.343 seconds\n",
            "\n",
            "   Ordered by: internal time\n",
            "   List reduced from 67 to 10 due to restriction <10>\n",
            "\n",
            "   ncalls  tottime  percall  cumtime  percall filename:lineno(function)\n",
            "        4    2.336    0.584    2.336    0.584 {method 'acquire' of '_thread.lock' objects}\n",
            "        2    0.007    0.004    0.007    0.004 interactiveshell.py:3337(_update_code_co_name)\n",
            "        2    0.000    0.000    0.000    0.000 {built-in method builtins.compile}\n",
            "        2    0.000    0.000    2.336    1.168 interactiveshell.py:3512(run_code)\n",
            "        1    0.000    0.000    2.336    2.336 utils.py:347(sync)\n",
            "        1    0.000    0.000    2.336    2.336 utils.py:376(sync)\n",
            "        1    0.000    0.000    0.000    0.000 gen.py:177(coroutine)\n",
            "        2    0.000    0.000    0.000    0.000 codeop.py:117(__call__)\n",
            "        1    0.000    0.000    0.000    0.000 {method 'send' of '_socket.socket' objects}\n",
            "        1    0.000    0.000    0.000    0.000 functools.py:35(update_wrapper)\n",
            "\n",
            "\n"
          ]
        },
        {
          "output_type": "execute_result",
          "data": {
            "text/plain": [
              "<pstats.Stats at 0x7cb35a38beb0>"
            ]
          },
          "metadata": {},
          "execution_count": 85
        }
      ]
    },
    {
      "cell_type": "code",
      "source": [
        "parametros = {'objective': 'binary:logistic',\n",
        "          'eta': 1, 'max_depth': 3, 'subsample': 0.5}\n",
        "\n",
        "# Medir tiempo y uso de recursos antes del entrenamiento\n",
        "start_time0 = time.time()\n",
        "cpu_usage_before = psutil.cpu_percent(interval=1)\n",
        "memory_usage_before = psutil.virtual_memory().percent\n",
        "\n",
        "\n",
        "xg = dask_xgboost.train(client, parametros, X_train, y_train, num_boost_round=10)\n",
        "\n",
        "\n",
        "# Medir tiempo y uso de recursos después del entrenamiento\n",
        "end_time = time.time()\n",
        "execution_time = end_time - start_time0\n",
        "cpu_usage_after = psutil.cpu_percent(interval=1)\n",
        "memory_usage_after = psutil.virtual_memory().percent\n",
        "print(\"Tiempo de ejecución: {:.2f} segundos\".format(execution_time))\n",
        "print(f'CPU antes del entrenamiento: {cpu_usage_before}%')\n",
        "print(f'CPU después del entrenamiento: {cpu_usage_after}%')\n",
        "print(f'Memoria antes del entrenamiento: {memory_usage_before}%')\n",
        "print(f'Memoria después del entrenamiento: {memory_usage_after}%')"
      ],
      "metadata": {
        "colab": {
          "base_uri": "https://localhost:8080/"
        },
        "id": "UB03AQdZ8Erj",
        "outputId": "828dd399-2995-4e15-c33e-01cb40258ecf"
      },
      "execution_count": 86,
      "outputs": [
        {
          "output_type": "stream",
          "name": "stderr",
          "text": [
            "INFO:distributed.worker:Run out-of-band function 'start_tracker'\n",
            "Exception in thread Thread-22 (join):\n",
            "Traceback (most recent call last):\n",
            "  File \"/usr/lib/python3.10/threading.py\", line 1016, in _bootstrap_inner\n",
            "    self.run()\n",
            "  File \"/usr/lib/python3.10/threading.py\", line 953, in run\n",
            "    self._target(*self._args, **self._kwargs)\n",
            "  File \"/usr/local/lib/python3.10/dist-packages/dask_xgboost/tracker.py\", line 365, in join\n",
            "    while self.thread.isAlive():\n",
            "AttributeError: 'Thread' object has no attribute 'isAlive'. Did you mean: 'is_alive'?\n"
          ]
        },
        {
          "output_type": "stream",
          "name": "stdout",
          "text": [
            "Tiempo de ejecución: 2.48 segundos\n",
            "CPU antes del entrenamiento: 100.0%\n",
            "CPU después del entrenamiento: 98.5%\n",
            "Memoria antes del entrenamiento: 26.2%\n",
            "Memoria después del entrenamiento: 26.2%\n"
          ]
        }
      ]
    },
    {
      "cell_type": "code",
      "source": [],
      "metadata": {
        "id": "sfuzDalt8QUE"
      },
      "execution_count": null,
      "outputs": []
    },
    {
      "cell_type": "code",
      "source": [],
      "metadata": {
        "id": "Dv7EQPwY8RBT"
      },
      "execution_count": null,
      "outputs": []
    },
    {
      "cell_type": "code",
      "source": [],
      "metadata": {
        "id": "k0Krtpnt8Q79"
      },
      "execution_count": null,
      "outputs": []
    },
    {
      "cell_type": "markdown",
      "metadata": {
        "id": "TLxHsUObUWSC"
      },
      "source": [
        "## **Con Pyspark**"
      ]
    },
    {
      "cell_type": "code",
      "execution_count": null,
      "metadata": {
        "id": "iKZgm7Y0VrWt"
      },
      "outputs": [],
      "source": [
        "pip install sparkxgb"
      ]
    },
    {
      "cell_type": "code",
      "execution_count": null,
      "metadata": {
        "id": "m_i6bzFWyAFa"
      },
      "outputs": [],
      "source": [
        "pip install pyspark"
      ]
    },
    {
      "cell_type": "code",
      "execution_count": null,
      "metadata": {
        "id": "DbR8yHodBT4U"
      },
      "outputs": [],
      "source": [
        "pip install xgboost.spark"
      ]
    },
    {
      "cell_type": "code",
      "execution_count": null,
      "metadata": {
        "id": "Xzt1anUsBl-2"
      },
      "outputs": [],
      "source": [
        "pip install xgboost"
      ]
    },
    {
      "cell_type": "code",
      "execution_count": 30,
      "metadata": {
        "colab": {
          "base_uri": "https://localhost:8080/"
        },
        "id": "tmp52EwI2KcJ",
        "outputId": "39c2d323-cbeb-44c0-f348-c014aa990ac2"
      },
      "outputs": [
        {
          "output_type": "stream",
          "name": "stdout",
          "text": [
            "Requirement already satisfied: pyspark in /usr/local/lib/python3.10/dist-packages (3.1.1)\n",
            "Requirement already satisfied: py4j==0.10.9 in /usr/local/lib/python3.10/dist-packages (from pyspark) (0.10.9)\n"
          ]
        }
      ],
      "source": [
        "!pip install pyspark\n",
        "from pyspark.sql import SparkSession\n",
        "spark = SparkSession.builder.appName(\"XGBoostApp\").getOrCreate()\n",
        "spark.sparkContext.addPyFile(\"https://pypi.org/packages/source/x/xgboost/xgboost-1.7.5.tar.gz\")\n"
      ]
    },
    {
      "cell_type": "markdown",
      "metadata": {
        "id": "bZze86rjM7Mw"
      },
      "source": [
        "*Importante: Cuando haya problemas al ejecutar from xgboost.spark import SparkXGBClassifier desconecta y borra el tiempo de ejecucioón y vuelve a correr .*"
      ]
    },
    {
      "cell_type": "code",
      "execution_count": 31,
      "metadata": {
        "id": "UjS_sS6Kx8H7"
      },
      "outputs": [],
      "source": [
        "from pyspark.ml.feature import VectorAssembler\n",
        "import time\n",
        "import psutil\n",
        "from xgboost.spark import SparkXGBClassifier"
      ]
    },
    {
      "cell_type": "code",
      "execution_count": 32,
      "metadata": {
        "colab": {
          "base_uri": "https://localhost:8080/"
        },
        "id": "O2DGDoUnxh2n",
        "outputId": "69b40ba9-2f4b-42bf-e61e-ee23f3de378d"
      },
      "outputs": [
        {
          "output_type": "stream",
          "name": "stdout",
          "text": [
            "Spark Version: 3.1.1\n"
          ]
        }
      ],
      "source": [
        "# Iniciar el servidor PySpark\n",
        "# \"local[4]\" indica que Spark debe usar 4 núcleos de CPU.\n",
        "spark = SparkSession.builder \\\n",
        "    .appName('cluster') \\\n",
        "    .master(\"local[4]\") \\\n",
        "    .getOrCreate()\n",
        "print('Spark Version: {}'.format(spark.version))"
      ]
    },
    {
      "cell_type": "code",
      "execution_count": 33,
      "metadata": {
        "colab": {
          "base_uri": "https://localhost:8080/"
        },
        "id": "KOdRma1ZxpeU",
        "outputId": "77cf48c2-3828-4941-f54f-b91699e7d7dd"
      },
      "outputs": [
        {
          "output_type": "stream",
          "name": "stdout",
          "text": [
            "+-----------+-------+-------------+-------------+-------+----+------------------------+---+-------+\n",
            "|Pregnancies|Glucose|BloodPressure|SkinThickness|Insulin| BMI|DiabetesPedigreeFunction|Age|Outcome|\n",
            "+-----------+-------+-------------+-------------+-------+----+------------------------+---+-------+\n",
            "|          6|    148|           72|           35|      0|33.6|                   0.627| 50|      1|\n",
            "|          1|     85|           66|           29|      0|26.6|                   0.351| 31|      0|\n",
            "|          8|    183|           64|            0|      0|23.3|                   0.672| 32|      1|\n",
            "|          1|     89|           66|           23|     94|28.1|                   0.167| 21|      0|\n",
            "|          0|    137|           40|           35|    168|43.1|                   2.288| 33|      1|\n",
            "+-----------+-------+-------------+-------------+-------+----+------------------------+---+-------+\n",
            "only showing top 5 rows\n",
            "\n"
          ]
        }
      ],
      "source": [
        "#Cargar los datos\n",
        "dataset = spark.read.csv(\"/content/diabetes.csv\",header=True,inferSchema=True)\n",
        "\n",
        "#show permite mostrar los datos del archivo\n",
        "dataset.show(5)"
      ]
    },
    {
      "cell_type": "code",
      "execution_count": 34,
      "metadata": {
        "colab": {
          "base_uri": "https://localhost:8080/"
        },
        "id": "wKoLVNH1yotJ",
        "outputId": "00406055-bb51-4f46-e28a-7a8a33989521"
      },
      "outputs": [
        {
          "output_type": "stream",
          "name": "stdout",
          "text": [
            "+--------------------+\n",
            "|            Features|\n",
            "+--------------------+\n",
            "|[148.0,33.6,50.0,...|\n",
            "|[85.0,26.6,31.0,0.0]|\n",
            "|[183.0,23.3,32.0,...|\n",
            "|[89.0,28.1,21.0,0.0]|\n",
            "|[137.0,43.1,33.0,...|\n",
            "+--------------------+\n",
            "only showing top 5 rows\n",
            "\n"
          ]
        }
      ],
      "source": [
        "# VectorAssembler para convertir las columnas de características en un solo vector\n",
        "vec_assembler = VectorAssembler(inputCols = ['Glucose','BMI','Age','Outcome'],\n",
        "                                outputCol='Features')\n",
        "\n",
        "data_final = vec_assembler.transform(dataset)\n",
        "data_final.select('Features').show(5)"
      ]
    },
    {
      "cell_type": "code",
      "execution_count": 35,
      "metadata": {
        "colab": {
          "base_uri": "https://localhost:8080/"
        },
        "id": "UYLFandazc_C",
        "outputId": "0fda0e39-e166-437d-8d5c-381eb47341df"
      },
      "outputs": [
        {
          "output_type": "stream",
          "name": "stdout",
          "text": [
            "Tiempo de ejecución: 0.02 segundos\n"
          ]
        }
      ],
      "source": [
        "# Medir el tiempo de ejecución\n",
        "start_time0 = time.time()\n",
        "\n",
        "train_data, test = data_final.randomSplit(weights=[0.8,0.2], seed=30)\n",
        "\n",
        "# Calcular el tiempo de ejecución\n",
        "end_time = time.time()\n",
        "execution_time = end_time - start_time0\n",
        "\n",
        "print(\"Tiempo de ejecución: {:.2f} segundos\".format(execution_time))"
      ]
    },
    {
      "cell_type": "code",
      "execution_count": 36,
      "metadata": {
        "colab": {
          "base_uri": "https://localhost:8080/"
        },
        "id": "lkS2bxoJ0gU8",
        "outputId": "c49a1d88-4579-4575-f235-fe39ce8b04a8"
      },
      "outputs": [
        {
          "output_type": "execute_result",
          "data": {
            "text/plain": [
              "617"
            ]
          },
          "metadata": {},
          "execution_count": 36
        }
      ],
      "source": [
        "train_data.count()"
      ]
    },
    {
      "cell_type": "code",
      "execution_count": 37,
      "metadata": {
        "colab": {
          "base_uri": "https://localhost:8080/"
        },
        "id": "vmWcLQJgD0V7",
        "outputId": "98324451-9725-44cb-98a2-b3c1d2366a51"
      },
      "outputs": [
        {
          "output_type": "execute_result",
          "data": {
            "text/plain": [
              "151"
            ]
          },
          "metadata": {},
          "execution_count": 37
        }
      ],
      "source": [
        "test.count()"
      ]
    },
    {
      "cell_type": "code",
      "execution_count": 38,
      "metadata": {
        "colab": {
          "base_uri": "https://localhost:8080/"
        },
        "id": "cS8rljWJ0oAH",
        "outputId": "e1d1f477-8a2b-4c80-df21-56dea333d527"
      },
      "outputs": [
        {
          "output_type": "stream",
          "name": "stderr",
          "text": [
            "INFO:XGBoost-PySpark:Running xgboost-2.0.3 on 2 workers with\n",
            "\tbooster params: {'objective': 'binary:logistic', 'device': 'cpu', 'max_depth': 3, 'subsample': 0.5, 'eta': 1, 'nthread': 1}\n",
            "\ttrain_call_kwargs_params: {'verbose_eval': True, 'num_boost_round': 100}\n",
            "\tdmatrix_kwargs: {'nthread': 1, 'missing': nan}\n",
            "INFO:XGBoost-PySpark:Finished xgboost training!\n"
          ]
        },
        {
          "output_type": "stream",
          "name": "stdout",
          "text": [
            "Tiempo de ejecución: 9.02 segundos\n",
            "CPU antes del entrenamiento: 24.1%\n",
            "CPU después del entrenamiento: 10.2%\n",
            "Memoria antes del entrenamiento: 16.2%\n",
            "Memoria después del entrenamiento: 18.0%\n"
          ]
        }
      ],
      "source": [
        "#Entrenar el modelo\n",
        "xgb_classifier = SparkXGBClassifier(features_col='Features',  label_col=\"Outcome\",  num_workers=2,eta= 1, max_depth= 3, subsample= 0.5)\n",
        "\n",
        "\n",
        "# Medir tiempo y uso de recursos antes del entrenamiento\n",
        "start_time0 = time.time()\n",
        "cpu_usage_before = psutil.cpu_percent(interval=1)\n",
        "memory_usage_before = psutil.virtual_memory().percent\n",
        "\n",
        "# Entrenar el modelo\n",
        "model=xgb_classifier.fit(train_data)\n",
        "\n",
        "# Medir tiempo y uso de recursos después del entrenamiento\n",
        "end_time = time.time()\n",
        "execution_time = end_time - start_time0\n",
        "cpu_usage_after = psutil.cpu_percent(interval=1)\n",
        "memory_usage_after = psutil.virtual_memory().percent\n",
        "print(\"Tiempo de ejecución: {:.2f} segundos\".format(execution_time))\n",
        "print(f'CPU antes del entrenamiento: {cpu_usage_before}%')\n",
        "print(f'CPU después del entrenamiento: {cpu_usage_after}%')\n",
        "print(f'Memoria antes del entrenamiento: {memory_usage_before}%')\n",
        "print(f'Memoria después del entrenamiento: {memory_usage_after}%')"
      ]
    },
    {
      "cell_type": "markdown",
      "metadata": {
        "id": "EIkcItqM2e0a"
      },
      "source": [
        "**PERFILACIÓN DE CÓDIGO (Detectar cuellos de botella)**\n",
        "\n",
        "https://docs.python.org/es/3/library/profile.html\n",
        "\n",
        "La perfilación de código nos permite identificar partes de nuestro código que\n",
        "son cuellos de botella, tanto en términos de tiempo de cálculo como de uso de la memoria\n",
        "\n",
        "*profile* es un conjunto de estadísticas que describe con qué frecuencia y durante cuánto tiempo se ejecutaron varias partes del programa. Estas estadísticas pueden formatearse en informes a través del módulo *pstats*.\n",
        "\n",
        "**ncalls:** Número de veces que se ha llamado a la función.\n",
        "\n",
        "**tottime:** Tiempo total gastado en la función, sin contar el tiempo en llamadas a subfunciones.\n",
        "\n",
        "**percall:** Promedio de tiempo por llamada (igual a tottime/ncalls).\n",
        "\n",
        "**cumtime:** Tiempo acumulado gastado en esta función y todas sus subfunciones (desde la entrada hasta la salida de esta función).\n",
        "\n",
        "**percall:** Promedio de tiempo por llamada para el tiempo acumulado (igual a cumtime/ncalls).\n",
        "\n",
        "**filename** (function): Archivo y línea donde se define la función."
      ]
    },
    {
      "cell_type": "code",
      "execution_count": 39,
      "metadata": {
        "colab": {
          "base_uri": "https://localhost:8080/"
        },
        "id": "EdwxEK_u2dPh",
        "outputId": "e29ef68b-57ed-4bd8-9724-8f8e8b5a0ead"
      },
      "outputs": [
        {
          "output_type": "stream",
          "name": "stderr",
          "text": [
            "INFO:XGBoost-PySpark:Running xgboost-2.0.3 on 2 workers with\n",
            "\tbooster params: {'objective': 'binary:logistic', 'device': 'cpu', 'max_depth': 3, 'subsample': 0.5, 'eta': 1, 'nthread': 1}\n",
            "\ttrain_call_kwargs_params: {'verbose_eval': True, 'num_boost_round': 100}\n",
            "\tdmatrix_kwargs: {'nthread': 1, 'missing': nan}\n",
            "INFO:XGBoost-PySpark:Finished xgboost training!\n"
          ]
        },
        {
          "output_type": "stream",
          "name": "stdout",
          "text": [
            "         34491 function calls (34352 primitive calls) in 8.476 seconds\n",
            "\n",
            "   Ordered by: internal time\n",
            "   List reduced from 602 to 10 due to restriction <10>\n",
            "\n",
            "   ncalls  tottime  percall  cumtime  percall filename:lineno(function)\n",
            "      311    8.338    0.027    8.338    0.027 {method 'recv_into' of '_socket.socket' objects}\n",
            "      297    0.039    0.000    0.039    0.000 {method 'sendall' of '_socket.socket' objects}\n",
            "     1056    0.013    0.000    0.013    0.000 {built-in method builtins.getattr}\n",
            "        1    0.008    0.008    0.008    0.008 core.py:1840(save_config)\n",
            "     4589    0.006    0.000    0.006    0.000 {built-in method builtins.isinstance}\n",
            "        8    0.005    0.001    0.005    0.001 socket.py:545(send)\n",
            "        1    0.004    0.004    0.004    0.004 core.py:2562(load_model)\n",
            "        1    0.004    0.004    0.016    0.016 __init__.py:267(<listcomp>)\n",
            "      297    0.004    0.000    8.378    0.028 java_gateway.py:1178(send_command)\n",
            "        3    0.003    0.001    0.005    0.002 cloudpickle.py:254(_find_imported_submodules)\n",
            "\n",
            "\n"
          ]
        },
        {
          "output_type": "execute_result",
          "data": {
            "text/plain": [
              "<pstats.Stats at 0x7bfad84a71f0>"
            ]
          },
          "metadata": {},
          "execution_count": 39
        }
      ],
      "source": [
        "import cProfile\n",
        "import pstats\n",
        "\n",
        "# Perfilar el proceso de adaptación de k-means\n",
        "# Creamos un objeto cProfile.Profile para rastrear el tiempo de ejecución de\n",
        "#diferentes partes del código.\n",
        "profiler = cProfile.Profile()\n",
        "# Habilitar la creación de perfiles\n",
        "profiler.enable()\n",
        "# Ejecutar el código que queremos analizar\n",
        "# código que queremos analizar\n",
        "# Entrenar el modelo\n",
        "model=xgb_classifier.fit(train_data)\n",
        "\n",
        "profiler.disable() # Deshabilitar la creación de perfiles\n",
        "\n",
        "# Cargar y analizar estadísticas\n",
        "stats = pstats.Stats(profiler) #creamos un objeto a partir de los datos del perfilador\n",
        "stats.strip_dirs().sort_stats('time').print_stats(10)  # Imprima las 10 funciones que más tiempo consumen"
      ]
    },
    {
      "cell_type": "markdown",
      "source": [
        "Aplicamos persistencia de los datos para que se obtenga más rapido los valores"
      ],
      "metadata": {
        "id": "-qz-r1boAy4M"
      }
    },
    {
      "cell_type": "code",
      "execution_count": 40,
      "metadata": {
        "colab": {
          "base_uri": "https://localhost:8080/"
        },
        "id": "oXposshF3TSO",
        "outputId": "569b73ce-72a6-4a25-f876-603374b5008c"
      },
      "outputs": [
        {
          "output_type": "execute_result",
          "data": {
            "text/plain": [
              "DataFrame[Pregnancies: int, Glucose: int, BloodPressure: int, SkinThickness: int, Insulin: int, BMI: double, DiabetesPedigreeFunction: double, Age: int, Outcome: int, Features: vector]"
            ]
          },
          "metadata": {},
          "execution_count": 40
        }
      ],
      "source": [
        "train_data.persist()"
      ]
    },
    {
      "cell_type": "code",
      "source": [
        "#Entrenar el modelo\n",
        "xgb_classifier = SparkXGBClassifier(features_col='Features',  label_col=\"Outcome\",  num_workers=2,eta= 1, max_depth= 3, subsample= 0.5)\n",
        "\n",
        "\n",
        "# Medir tiempo y uso de recursos antes del entrenamiento\n",
        "start_time0 = time.time()\n",
        "cpu_usage_before = psutil.cpu_percent(interval=1)\n",
        "memory_usage_before = psutil.virtual_memory().percent\n",
        "\n",
        "# Entrenar el modelo\n",
        "model=xgb_classifier.fit(train_data)\n",
        "\n",
        "# Medir tiempo y uso de recursos después del entrenamiento\n",
        "end_time = time.time()\n",
        "execution_time = end_time - start_time0\n",
        "cpu_usage_after = psutil.cpu_percent(interval=1)\n",
        "memory_usage_after = psutil.virtual_memory().percent\n",
        "print(\"Tiempo de ejecución: {:.2f} segundos\".format(execution_time))\n",
        "print(f'CPU antes del entrenamiento: {cpu_usage_before}%')\n",
        "print(f'CPU después del entrenamiento: {cpu_usage_after}%')\n",
        "print(f'Memoria antes del entrenamiento: {memory_usage_before}%')\n",
        "print(f'Memoria después del entrenamiento: {memory_usage_after}%')"
      ],
      "metadata": {
        "colab": {
          "base_uri": "https://localhost:8080/"
        },
        "id": "15HgIxLMAcpU",
        "outputId": "c54df238-e722-4619-e066-5e1e516c194c"
      },
      "execution_count": 41,
      "outputs": [
        {
          "output_type": "stream",
          "name": "stderr",
          "text": [
            "INFO:XGBoost-PySpark:Running xgboost-2.0.3 on 2 workers with\n",
            "\tbooster params: {'objective': 'binary:logistic', 'device': 'cpu', 'max_depth': 3, 'subsample': 0.5, 'eta': 1, 'nthread': 1}\n",
            "\ttrain_call_kwargs_params: {'verbose_eval': True, 'num_boost_round': 100}\n",
            "\tdmatrix_kwargs: {'nthread': 1, 'missing': nan}\n",
            "INFO:XGBoost-PySpark:Finished xgboost training!\n"
          ]
        },
        {
          "output_type": "stream",
          "name": "stdout",
          "text": [
            "Tiempo de ejecución: 7.01 segundos\n",
            "CPU antes del entrenamiento: 64.1%\n",
            "CPU después del entrenamiento: 59.4%\n",
            "Memoria antes del entrenamiento: 18.6%\n",
            "Memoria después del entrenamiento: 18.7%\n"
          ]
        }
      ]
    },
    {
      "cell_type": "code",
      "execution_count": 42,
      "metadata": {
        "colab": {
          "base_uri": "https://localhost:8080/"
        },
        "id": "L_2PXm3tD5ju",
        "outputId": "110e7560-2849-44fe-dd42-a0915b0c4cfe"
      },
      "outputs": [
        {
          "output_type": "stream",
          "name": "stdout",
          "text": [
            "+-----------+-------+-------------+-------------+-------+----+------------------------+---+-------+--------------------+--------------------+----------+--------------------+\n",
            "|Pregnancies|Glucose|BloodPressure|SkinThickness|Insulin| BMI|DiabetesPedigreeFunction|Age|Outcome|            Features|       rawPrediction|prediction|         probability|\n",
            "+-----------+-------+-------------+-------------+-------+----+------------------------+---+-------+--------------------+--------------------+----------+--------------------+\n",
            "|          0|     74|           52|           10|     36|27.8|                   0.269| 22|      0|[74.0,27.8,22.0,0.0]|[5.63122272491455...|       0.0|[0.99642860889434...|\n",
            "|          0|     78|           88|           29|     40|36.9|                   0.434| 21|      0|[78.0,36.9,21.0,0.0]|[5.63122272491455...|       0.0|[0.99642860889434...|\n",
            "|          0|     86|           68|           32|      0|35.8|                   0.238| 25|      0|[86.0,35.8,25.0,0.0]|[5.63122272491455...|       0.0|[0.99642860889434...|\n",
            "|          0|     94|           70|           27|    115|43.5|                   0.347| 21|      0|[94.0,43.5,21.0,0.0]|[5.63122272491455...|       0.0|[0.99642860889434...|\n",
            "|          0|    101|           65|           28|      0|24.6|                   0.237| 22|      0|[101.0,24.6,22.0,...|[5.63122272491455...|       0.0|[0.99642860889434...|\n",
            "+-----------+-------+-------------+-------------+-------+----+------------------------+---+-------+--------------------+--------------------+----------+--------------------+\n",
            "only showing top 5 rows\n",
            "\n"
          ]
        }
      ],
      "source": [
        "#Realizar predicciones\n",
        "predictions_prob =model.transform(test)\n",
        "predictions_prob.show(5)"
      ]
    },
    {
      "cell_type": "code",
      "execution_count": 46,
      "metadata": {
        "colab": {
          "base_uri": "https://localhost:8080/"
        },
        "id": "IO9S2gnp_eSI",
        "outputId": "0e227460-b855-4dd5-d14d-028716a14701"
      },
      "outputs": [
        {
          "output_type": "stream",
          "name": "stdout",
          "text": [
            "+-------+----------+--------------------+\n",
            "|Outcome|prediction|         probability|\n",
            "+-------+----------+--------------------+\n",
            "|      0|       0.0|[0.99642860889434...|\n",
            "|      0|       0.0|[0.99642860889434...|\n",
            "|      0|       0.0|[0.99642860889434...|\n",
            "|      0|       0.0|[0.99642860889434...|\n",
            "|      0|       0.0|[0.99642860889434...|\n",
            "|      0|       0.0|[0.99642860889434...|\n",
            "|      0|       0.0|[0.99642860889434...|\n",
            "|      0|       0.0|[0.99642860889434...|\n",
            "|      0|       0.0|[0.99642860889434...|\n",
            "|      0|       0.0|[0.99642860889434...|\n",
            "|      0|       0.0|[0.99642860889434...|\n",
            "|      1|       1.0|[0.00630712509155...|\n",
            "|      0|       0.0|[0.99642860889434...|\n",
            "|      1|       1.0|[0.00630712509155...|\n",
            "|      1|       1.0|[0.00630712509155...|\n",
            "|      1|       1.0|[0.00630712509155...|\n",
            "|      0|       0.0|[0.99642860889434...|\n",
            "|      0|       0.0|[0.99642860889434...|\n",
            "|      1|       1.0|[0.00630712509155...|\n",
            "|      1|       1.0|[0.00630712509155...|\n",
            "+-------+----------+--------------------+\n",
            "only showing top 20 rows\n",
            "\n"
          ]
        }
      ],
      "source": [
        "# Show the predictions with predicted labels\n",
        "predictions_prob.select(\"Outcome\", \"prediction\", \"probability\").show(20)"
      ]
    },
    {
      "cell_type": "code",
      "execution_count": 44,
      "metadata": {
        "colab": {
          "base_uri": "https://localhost:8080/"
        },
        "id": "Oe-kaz0S_wIC",
        "outputId": "87fef002-3a61-43e6-adfa-189f64c55c81"
      },
      "outputs": [
        {
          "output_type": "stream",
          "name": "stdout",
          "text": [
            "+-------+\n",
            "|Outcome|\n",
            "+-------+\n",
            "|      0|\n",
            "|      0|\n",
            "|      0|\n",
            "|      0|\n",
            "|      0|\n",
            "+-------+\n",
            "only showing top 5 rows\n",
            "\n"
          ]
        }
      ],
      "source": [
        "test.select(\"Outcome\").show(5)"
      ]
    },
    {
      "cell_type": "code",
      "execution_count": 47,
      "metadata": {
        "colab": {
          "base_uri": "https://localhost:8080/"
        },
        "id": "UfP1f--V8j26",
        "outputId": "e72882a9-c642-4099-f06e-0145d60fe84a"
      },
      "outputs": [
        {
          "output_type": "stream",
          "name": "stdout",
          "text": [
            "Accuracy: 1.0\n"
          ]
        }
      ],
      "source": [
        "from pyspark.ml.evaluation import MulticlassClassificationEvaluator\n",
        "# Evaluar el modelo\n",
        "evaluator = MulticlassClassificationEvaluator(labelCol=\"Outcome\", predictionCol=\"prediction\", metricName=\"accuracy\")\n",
        "accuracy = evaluator.evaluate(predictions_prob)\n",
        "print(f\"Accuracy: {accuracy}\")"
      ]
    },
    {
      "cell_type": "code",
      "source": [
        "evaluator = MulticlassClassificationEvaluator(labelCol=\"Outcome\", predictionCol=\"prediction\",  metricName=\"weightedPrecision\")\n",
        "precision = evaluator.evaluate(predictions_prob)\n",
        "print(f\"Precision: {precision}\")"
      ],
      "metadata": {
        "colab": {
          "base_uri": "https://localhost:8080/"
        },
        "id": "fda7044zCMbo",
        "outputId": "878f02b7-d475-4712-c1be-edc598a15b7e"
      },
      "execution_count": 48,
      "outputs": [
        {
          "output_type": "stream",
          "name": "stdout",
          "text": [
            "Precision: 1.0\n"
          ]
        }
      ]
    },
    {
      "cell_type": "code",
      "execution_count": 26,
      "metadata": {
        "id": "4KZAs8QnAyxw"
      },
      "outputs": [],
      "source": [
        "# Cerrar la sesión de Spark al finalizar\n",
        "spark.stop()"
      ]
    },
    {
      "cell_type": "code",
      "execution_count": null,
      "metadata": {
        "id": "nGVh9rP_Ayky"
      },
      "outputs": [],
      "source": []
    },
    {
      "cell_type": "code",
      "execution_count": null,
      "metadata": {
        "id": "jwuymFjoGyVb"
      },
      "outputs": [],
      "source": []
    }
  ],
  "metadata": {
    "colab": {
      "collapsed_sections": [
        "AP7LxY_YPqeb",
        "6amvY9gYPqed",
        "TLxHsUObUWSC",
        "u-4qNllgVEvp",
        "oscLKH9kPqeg"
      ],
      "provenance": []
    },
    "kernelspec": {
      "display_name": "Python 3",
      "name": "python3"
    },
    "language_info": {
      "codemirror_mode": {
        "name": "ipython",
        "version": 3
      },
      "file_extension": ".py",
      "mimetype": "text/x-python",
      "name": "python",
      "nbconvert_exporter": "python",
      "pygments_lexer": "ipython3",
      "version": "3.9.6"
    }
  },
  "nbformat": 4,
  "nbformat_minor": 0
}