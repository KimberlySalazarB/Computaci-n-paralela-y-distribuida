{
  "cells": [
    {
      "cell_type": "markdown",
      "metadata": {
        "id": "bIEFZ_pLos-v"
      },
      "source": [
        "# Algoritmos de clustering\n",
        "\n"
      ]
    },
    {
      "cell_type": "markdown",
      "metadata": {
        "id": "R843ruXOYSFG"
      },
      "source": [
        "# **Datos nutricionales del menú de Burger King**\n",
        "Este conjunto de datos es una recopilación completa de información nutricional de los principales elementos del menú que ofrece Burger King. El conjunto de datos incluye información sobre la cantidad de calorías, grasas totales, grasas saturadas, grasas trans, colesterol, sodio, carbohidratos totales y proteínas que se encuentran en cada elemento del menú.\n",
        "\n",
        "Esta información permite a las personas tomar decisiones informadas sobre su ingesta dietética y les ayuda a gestionar mejor su salud y bienestar.\n",
        "\n",
        "https://www.kaggle.com/datasets/mattop/burger-king-menu-nutrition-data/data"
      ]
    },
    {
      "cell_type": "code",
      "execution_count": 1,
      "metadata": {
        "id": "EWEkjIVN3tjR"
      },
      "outputs": [],
      "source": [
        "import pandas as pd\n",
        "import numpy as np\n",
        "from sklearn.metrics import silhouette_score\n",
        "import matplotlib.pyplot as plt\n",
        "\n",
        "# Cargar datos\n",
        "data = pd.read_csv('Datos_clustering/burger-king-menu.csv')\n",
        "\n"
      ]
    },
    {
      "cell_type": "code",
      "execution_count": 6,
      "metadata": {
        "colab": {
          "base_uri": "https://localhost:8080/",
          "height": 840
        },
        "id": "20wuijlw_o_d",
        "outputId": "b56f364b-c08e-45a8-8e4f-c6dbac61a65a"
      },
      "outputs": [
        {
          "data": {
            "text/html": [
              "<div>\n",
              "<style scoped>\n",
              "    .dataframe tbody tr th:only-of-type {\n",
              "        vertical-align: middle;\n",
              "    }\n",
              "\n",
              "    .dataframe tbody tr th {\n",
              "        vertical-align: top;\n",
              "    }\n",
              "\n",
              "    .dataframe thead th {\n",
              "        text-align: right;\n",
              "    }\n",
              "</style>\n",
              "<table border=\"1\" class=\"dataframe\">\n",
              "  <thead>\n",
              "    <tr style=\"text-align: right;\">\n",
              "      <th></th>\n",
              "      <th>Item</th>\n",
              "      <th>Category</th>\n",
              "      <th>Calories</th>\n",
              "      <th>Fat Calories</th>\n",
              "      <th>Fat (g)</th>\n",
              "      <th>Saturated Fat (g)</th>\n",
              "      <th>Trans Fat (g)</th>\n",
              "      <th>Cholesterol (mg)</th>\n",
              "      <th>Sodium (mg)</th>\n",
              "      <th>Total Carb (g)</th>\n",
              "      <th>Dietary Fiber (g)</th>\n",
              "      <th>Sugars (g)</th>\n",
              "      <th>Protein (g)</th>\n",
              "      <th>Weight Watchers</th>\n",
              "    </tr>\n",
              "  </thead>\n",
              "  <tbody>\n",
              "    <tr>\n",
              "      <th>0</th>\n",
              "      <td>Whopper® Sandwich</td>\n",
              "      <td>Burgers</td>\n",
              "      <td>660.0</td>\n",
              "      <td>360.0</td>\n",
              "      <td>40.0</td>\n",
              "      <td>12.0</td>\n",
              "      <td>1.5</td>\n",
              "      <td>90.0</td>\n",
              "      <td>980.0</td>\n",
              "      <td>49.0</td>\n",
              "      <td>2.0</td>\n",
              "      <td>11.0</td>\n",
              "      <td>28.0</td>\n",
              "      <td>655.0</td>\n",
              "    </tr>\n",
              "    <tr>\n",
              "      <th>1</th>\n",
              "      <td>Whopper® Sandwich with Cheese</td>\n",
              "      <td>Burgers</td>\n",
              "      <td>740.0</td>\n",
              "      <td>420.0</td>\n",
              "      <td>46.0</td>\n",
              "      <td>16.0</td>\n",
              "      <td>2.0</td>\n",
              "      <td>115.0</td>\n",
              "      <td>1340.0</td>\n",
              "      <td>50.0</td>\n",
              "      <td>2.0</td>\n",
              "      <td>11.0</td>\n",
              "      <td>32.0</td>\n",
              "      <td>735.0</td>\n",
              "    </tr>\n",
              "    <tr>\n",
              "      <th>2</th>\n",
              "      <td>Bacon &amp; Cheese Whopper® Sandwich</td>\n",
              "      <td>Burgers</td>\n",
              "      <td>790.0</td>\n",
              "      <td>460.0</td>\n",
              "      <td>51.0</td>\n",
              "      <td>17.0</td>\n",
              "      <td>2.0</td>\n",
              "      <td>125.0</td>\n",
              "      <td>1560.0</td>\n",
              "      <td>50.0</td>\n",
              "      <td>2.0</td>\n",
              "      <td>11.0</td>\n",
              "      <td>35.0</td>\n",
              "      <td>783.0</td>\n",
              "    </tr>\n",
              "    <tr>\n",
              "      <th>3</th>\n",
              "      <td>Double Whopper® Sandwich</td>\n",
              "      <td>Burgers</td>\n",
              "      <td>900.0</td>\n",
              "      <td>520.0</td>\n",
              "      <td>58.0</td>\n",
              "      <td>20.0</td>\n",
              "      <td>3.0</td>\n",
              "      <td>175.0</td>\n",
              "      <td>1050.0</td>\n",
              "      <td>49.0</td>\n",
              "      <td>2.0</td>\n",
              "      <td>11.0</td>\n",
              "      <td>48.0</td>\n",
              "      <td>883.0</td>\n",
              "    </tr>\n",
              "    <tr>\n",
              "      <th>4</th>\n",
              "      <td>Double Whopper® Sandwich with Cheese</td>\n",
              "      <td>Burgers</td>\n",
              "      <td>980.0</td>\n",
              "      <td>580.0</td>\n",
              "      <td>64.0</td>\n",
              "      <td>24.0</td>\n",
              "      <td>3.0</td>\n",
              "      <td>195.0</td>\n",
              "      <td>1410.0</td>\n",
              "      <td>50.0</td>\n",
              "      <td>2.0</td>\n",
              "      <td>11.0</td>\n",
              "      <td>52.0</td>\n",
              "      <td>963.0</td>\n",
              "    </tr>\n",
              "    <tr>\n",
              "      <th>...</th>\n",
              "      <td>...</td>\n",
              "      <td>...</td>\n",
              "      <td>...</td>\n",
              "      <td>...</td>\n",
              "      <td>...</td>\n",
              "      <td>...</td>\n",
              "      <td>...</td>\n",
              "      <td>...</td>\n",
              "      <td>...</td>\n",
              "      <td>...</td>\n",
              "      <td>...</td>\n",
              "      <td>...</td>\n",
              "      <td>...</td>\n",
              "      <td>...</td>\n",
              "    </tr>\n",
              "    <tr>\n",
              "      <th>72</th>\n",
              "      <td>Barbecue Dipping Sauce (1 oz)</td>\n",
              "      <td>Breakfast</td>\n",
              "      <td>40.0</td>\n",
              "      <td>0.0</td>\n",
              "      <td>0.0</td>\n",
              "      <td>0.0</td>\n",
              "      <td>0.0</td>\n",
              "      <td>0.0</td>\n",
              "      <td>310.0</td>\n",
              "      <td>11.0</td>\n",
              "      <td>0.0</td>\n",
              "      <td>10.0</td>\n",
              "      <td>0.0</td>\n",
              "      <td>50.0</td>\n",
              "    </tr>\n",
              "    <tr>\n",
              "      <th>73</th>\n",
              "      <td>Ranch Dipping Sauce (1 oz)</td>\n",
              "      <td>Breakfast</td>\n",
              "      <td>140.0</td>\n",
              "      <td>140.0</td>\n",
              "      <td>15.0</td>\n",
              "      <td>2.5</td>\n",
              "      <td>0.0</td>\n",
              "      <td>10.0</td>\n",
              "      <td>85.0</td>\n",
              "      <td>1.0</td>\n",
              "      <td>0.0</td>\n",
              "      <td>1.0</td>\n",
              "      <td>1.0</td>\n",
              "      <td>143.0</td>\n",
              "    </tr>\n",
              "    <tr>\n",
              "      <th>74</th>\n",
              "      <td>Buffalo Dipping Sauce (1 oz)</td>\n",
              "      <td>Breakfast</td>\n",
              "      <td>80.0</td>\n",
              "      <td>70.0</td>\n",
              "      <td>8.0</td>\n",
              "      <td>1.5</td>\n",
              "      <td>0.0</td>\n",
              "      <td>5.0</td>\n",
              "      <td>360.0</td>\n",
              "      <td>2.0</td>\n",
              "      <td>0.0</td>\n",
              "      <td>1.0</td>\n",
              "      <td>0.0</td>\n",
              "      <td>83.0</td>\n",
              "    </tr>\n",
              "    <tr>\n",
              "      <th>75</th>\n",
              "      <td>Zesty Onion Ring Dipping Sauce (1 oz)</td>\n",
              "      <td>Breakfast</td>\n",
              "      <td>150.0</td>\n",
              "      <td>140.0</td>\n",
              "      <td>15.0</td>\n",
              "      <td>2.5</td>\n",
              "      <td>0.0</td>\n",
              "      <td>20.0</td>\n",
              "      <td>240.0</td>\n",
              "      <td>3.0</td>\n",
              "      <td>0.0</td>\n",
              "      <td>0.0</td>\n",
              "      <td>0.0</td>\n",
              "      <td>153.0</td>\n",
              "    </tr>\n",
              "    <tr>\n",
              "      <th>76</th>\n",
              "      <td>Honey Mustard Dipping Sauce (1oz)</td>\n",
              "      <td>Breakfast</td>\n",
              "      <td>90.0</td>\n",
              "      <td>60.0</td>\n",
              "      <td>6.0</td>\n",
              "      <td>1.0</td>\n",
              "      <td>0.0</td>\n",
              "      <td>10.0</td>\n",
              "      <td>180.0</td>\n",
              "      <td>8.0</td>\n",
              "      <td>0.0</td>\n",
              "      <td>7.0</td>\n",
              "      <td>0.0</td>\n",
              "      <td>98.0</td>\n",
              "    </tr>\n",
              "  </tbody>\n",
              "</table>\n",
              "<p>77 rows × 14 columns</p>\n",
              "</div>"
            ],
            "text/plain": [
              "                                     Item   Category  Calories  Fat Calories  \\\n",
              "0                       Whopper® Sandwich    Burgers     660.0         360.0   \n",
              "1           Whopper® Sandwich with Cheese    Burgers     740.0         420.0   \n",
              "2        Bacon & Cheese Whopper® Sandwich    Burgers     790.0         460.0   \n",
              "3                Double Whopper® Sandwich    Burgers     900.0         520.0   \n",
              "4    Double Whopper® Sandwich with Cheese    Burgers     980.0         580.0   \n",
              "..                                    ...        ...       ...           ...   \n",
              "72          Barbecue Dipping Sauce (1 oz)  Breakfast      40.0           0.0   \n",
              "73             Ranch Dipping Sauce (1 oz)  Breakfast     140.0         140.0   \n",
              "74           Buffalo Dipping Sauce (1 oz)  Breakfast      80.0          70.0   \n",
              "75  Zesty Onion Ring Dipping Sauce (1 oz)  Breakfast     150.0         140.0   \n",
              "76      Honey Mustard Dipping Sauce (1oz)  Breakfast      90.0          60.0   \n",
              "\n",
              "    Fat (g)  Saturated Fat (g)  Trans Fat (g)  Cholesterol (mg)  Sodium (mg)  \\\n",
              "0      40.0               12.0            1.5              90.0        980.0   \n",
              "1      46.0               16.0            2.0             115.0       1340.0   \n",
              "2      51.0               17.0            2.0             125.0       1560.0   \n",
              "3      58.0               20.0            3.0             175.0       1050.0   \n",
              "4      64.0               24.0            3.0             195.0       1410.0   \n",
              "..      ...                ...            ...               ...          ...   \n",
              "72      0.0                0.0            0.0               0.0        310.0   \n",
              "73     15.0                2.5            0.0              10.0         85.0   \n",
              "74      8.0                1.5            0.0               5.0        360.0   \n",
              "75     15.0                2.5            0.0              20.0        240.0   \n",
              "76      6.0                1.0            0.0              10.0        180.0   \n",
              "\n",
              "    Total Carb (g)  Dietary Fiber (g)  Sugars (g)  Protein (g)  \\\n",
              "0             49.0                2.0        11.0         28.0   \n",
              "1             50.0                2.0        11.0         32.0   \n",
              "2             50.0                2.0        11.0         35.0   \n",
              "3             49.0                2.0        11.0         48.0   \n",
              "4             50.0                2.0        11.0         52.0   \n",
              "..             ...                ...         ...          ...   \n",
              "72            11.0                0.0        10.0          0.0   \n",
              "73             1.0                0.0         1.0          1.0   \n",
              "74             2.0                0.0         1.0          0.0   \n",
              "75             3.0                0.0         0.0          0.0   \n",
              "76             8.0                0.0         7.0          0.0   \n",
              "\n",
              "    Weight Watchers  \n",
              "0             655.0  \n",
              "1             735.0  \n",
              "2             783.0  \n",
              "3             883.0  \n",
              "4             963.0  \n",
              "..              ...  \n",
              "72             50.0  \n",
              "73            143.0  \n",
              "74             83.0  \n",
              "75            153.0  \n",
              "76             98.0  \n",
              "\n",
              "[77 rows x 14 columns]"
            ]
          },
          "execution_count": 6,
          "metadata": {},
          "output_type": "execute_result"
        }
      ],
      "source": [
        "data"
      ]
    },
    {
      "cell_type": "code",
      "execution_count": 7,
      "metadata": {
        "colab": {
          "base_uri": "https://localhost:8080/"
        },
        "id": "en9TXEd7NAys",
        "outputId": "07fd710d-36bd-47f3-f522-9f1bd20bbce3"
      },
      "outputs": [
        {
          "data": {
            "text/plain": [
              "Item                 0\n",
              "Category             0\n",
              "Calories             0\n",
              "Fat Calories         0\n",
              "Fat (g)              0\n",
              "Saturated Fat (g)    0\n",
              "Trans Fat (g)        0\n",
              "Cholesterol (mg)     0\n",
              "Sodium (mg)          0\n",
              "Total Carb (g)       0\n",
              "Dietary Fiber (g)    0\n",
              "Sugars (g)           0\n",
              "Protein (g)          0\n",
              "Weight Watchers      0\n",
              "dtype: int64"
            ]
          },
          "execution_count": 7,
          "metadata": {},
          "output_type": "execute_result"
        }
      ],
      "source": [
        "data.isnull().sum()"
      ]
    },
    {
      "cell_type": "code",
      "execution_count": 8,
      "metadata": {
        "colab": {
          "base_uri": "https://localhost:8080/",
          "height": 355
        },
        "id": "Ol_u1iHaNvOQ",
        "outputId": "f1201be1-31a5-4502-bce2-e51c66aa0943"
      },
      "outputs": [
        {
          "data": {
            "text/html": [
              "<div>\n",
              "<style scoped>\n",
              "    .dataframe tbody tr th:only-of-type {\n",
              "        vertical-align: middle;\n",
              "    }\n",
              "\n",
              "    .dataframe tbody tr th {\n",
              "        vertical-align: top;\n",
              "    }\n",
              "\n",
              "    .dataframe thead th {\n",
              "        text-align: right;\n",
              "    }\n",
              "</style>\n",
              "<table border=\"1\" class=\"dataframe\">\n",
              "  <thead>\n",
              "    <tr style=\"text-align: right;\">\n",
              "      <th></th>\n",
              "      <th>Calories</th>\n",
              "      <th>Fat Calories</th>\n",
              "      <th>Fat (g)</th>\n",
              "      <th>Saturated Fat (g)</th>\n",
              "      <th>Trans Fat (g)</th>\n",
              "      <th>Cholesterol (mg)</th>\n",
              "      <th>Sodium (mg)</th>\n",
              "      <th>Total Carb (g)</th>\n",
              "      <th>Dietary Fiber (g)</th>\n",
              "      <th>Sugars (g)</th>\n",
              "      <th>Protein (g)</th>\n",
              "      <th>Weight Watchers</th>\n",
              "    </tr>\n",
              "  </thead>\n",
              "  <tbody>\n",
              "    <tr>\n",
              "      <th>count</th>\n",
              "      <td>77.000000</td>\n",
              "      <td>77.000000</td>\n",
              "      <td>77.000000</td>\n",
              "      <td>77.000000</td>\n",
              "      <td>77.000000</td>\n",
              "      <td>77.000000</td>\n",
              "      <td>77.000000</td>\n",
              "      <td>77.000000</td>\n",
              "      <td>77.000000</td>\n",
              "      <td>77.000000</td>\n",
              "      <td>77.000000</td>\n",
              "      <td>77.000000</td>\n",
              "    </tr>\n",
              "    <tr>\n",
              "      <th>mean</th>\n",
              "      <td>501.428571</td>\n",
              "      <td>278.311688</td>\n",
              "      <td>30.967532</td>\n",
              "      <td>9.805195</td>\n",
              "      <td>0.636364</td>\n",
              "      <td>101.753247</td>\n",
              "      <td>993.246753</td>\n",
              "      <td>35.181818</td>\n",
              "      <td>1.779221</td>\n",
              "      <td>6.636364</td>\n",
              "      <td>20.909091</td>\n",
              "      <td>497.064935</td>\n",
              "    </tr>\n",
              "    <tr>\n",
              "      <th>std</th>\n",
              "      <td>307.612685</td>\n",
              "      <td>184.393762</td>\n",
              "      <td>20.535966</td>\n",
              "      <td>8.118431</td>\n",
              "      <td>1.128682</td>\n",
              "      <td>97.958659</td>\n",
              "      <td>613.426403</td>\n",
              "      <td>20.716588</td>\n",
              "      <td>1.690713</td>\n",
              "      <td>6.973463</td>\n",
              "      <td>17.145033</td>\n",
              "      <td>302.238070</td>\n",
              "    </tr>\n",
              "    <tr>\n",
              "      <th>min</th>\n",
              "      <td>10.000000</td>\n",
              "      <td>0.000000</td>\n",
              "      <td>0.000000</td>\n",
              "      <td>0.000000</td>\n",
              "      <td>0.000000</td>\n",
              "      <td>0.000000</td>\n",
              "      <td>0.000000</td>\n",
              "      <td>1.000000</td>\n",
              "      <td>0.000000</td>\n",
              "      <td>0.000000</td>\n",
              "      <td>0.000000</td>\n",
              "      <td>12.000000</td>\n",
              "    </tr>\n",
              "    <tr>\n",
              "      <th>25%</th>\n",
              "      <td>260.000000</td>\n",
              "      <td>140.000000</td>\n",
              "      <td>16.000000</td>\n",
              "      <td>3.500000</td>\n",
              "      <td>0.000000</td>\n",
              "      <td>25.000000</td>\n",
              "      <td>470.000000</td>\n",
              "      <td>26.000000</td>\n",
              "      <td>1.000000</td>\n",
              "      <td>1.000000</td>\n",
              "      <td>12.000000</td>\n",
              "      <td>252.000000</td>\n",
              "    </tr>\n",
              "    <tr>\n",
              "      <th>50%</th>\n",
              "      <td>430.000000</td>\n",
              "      <td>250.000000</td>\n",
              "      <td>28.000000</td>\n",
              "      <td>8.000000</td>\n",
              "      <td>0.000000</td>\n",
              "      <td>70.000000</td>\n",
              "      <td>1010.000000</td>\n",
              "      <td>30.000000</td>\n",
              "      <td>1.000000</td>\n",
              "      <td>6.000000</td>\n",
              "      <td>17.000000</td>\n",
              "      <td>416.000000</td>\n",
              "    </tr>\n",
              "    <tr>\n",
              "      <th>75%</th>\n",
              "      <td>700.000000</td>\n",
              "      <td>380.000000</td>\n",
              "      <td>42.000000</td>\n",
              "      <td>14.000000</td>\n",
              "      <td>0.500000</td>\n",
              "      <td>175.000000</td>\n",
              "      <td>1420.000000</td>\n",
              "      <td>49.000000</td>\n",
              "      <td>2.000000</td>\n",
              "      <td>10.000000</td>\n",
              "      <td>28.000000</td>\n",
              "      <td>690.000000</td>\n",
              "    </tr>\n",
              "    <tr>\n",
              "      <th>max</th>\n",
              "      <td>1220.000000</td>\n",
              "      <td>750.000000</td>\n",
              "      <td>84.000000</td>\n",
              "      <td>33.000000</td>\n",
              "      <td>4.500000</td>\n",
              "      <td>390.000000</td>\n",
              "      <td>2840.000000</td>\n",
              "      <td>110.000000</td>\n",
              "      <td>9.000000</td>\n",
              "      <td>40.000000</td>\n",
              "      <td>71.000000</td>\n",
              "      <td>1192.000000</td>\n",
              "    </tr>\n",
              "  </tbody>\n",
              "</table>\n",
              "</div>"
            ],
            "text/plain": [
              "          Calories  Fat Calories    Fat (g)  Saturated Fat (g)  Trans Fat (g)  \\\n",
              "count    77.000000     77.000000  77.000000          77.000000      77.000000   \n",
              "mean    501.428571    278.311688  30.967532           9.805195       0.636364   \n",
              "std     307.612685    184.393762  20.535966           8.118431       1.128682   \n",
              "min      10.000000      0.000000   0.000000           0.000000       0.000000   \n",
              "25%     260.000000    140.000000  16.000000           3.500000       0.000000   \n",
              "50%     430.000000    250.000000  28.000000           8.000000       0.000000   \n",
              "75%     700.000000    380.000000  42.000000          14.000000       0.500000   \n",
              "max    1220.000000    750.000000  84.000000          33.000000       4.500000   \n",
              "\n",
              "       Cholesterol (mg)  Sodium (mg)  Total Carb (g)  Dietary Fiber (g)  \\\n",
              "count         77.000000    77.000000       77.000000          77.000000   \n",
              "mean         101.753247   993.246753       35.181818           1.779221   \n",
              "std           97.958659   613.426403       20.716588           1.690713   \n",
              "min            0.000000     0.000000        1.000000           0.000000   \n",
              "25%           25.000000   470.000000       26.000000           1.000000   \n",
              "50%           70.000000  1010.000000       30.000000           1.000000   \n",
              "75%          175.000000  1420.000000       49.000000           2.000000   \n",
              "max          390.000000  2840.000000      110.000000           9.000000   \n",
              "\n",
              "       Sugars (g)  Protein (g)  Weight Watchers  \n",
              "count   77.000000    77.000000        77.000000  \n",
              "mean     6.636364    20.909091       497.064935  \n",
              "std      6.973463    17.145033       302.238070  \n",
              "min      0.000000     0.000000        12.000000  \n",
              "25%      1.000000    12.000000       252.000000  \n",
              "50%      6.000000    17.000000       416.000000  \n",
              "75%     10.000000    28.000000       690.000000  \n",
              "max     40.000000    71.000000      1192.000000  "
            ]
          },
          "execution_count": 8,
          "metadata": {},
          "output_type": "execute_result"
        }
      ],
      "source": [
        "data.describe()"
      ]
    },
    {
      "cell_type": "code",
      "execution_count": 9,
      "metadata": {
        "colab": {
          "base_uri": "https://localhost:8080/"
        },
        "id": "zCtuRP5wODZS",
        "outputId": "5782caab-4d53-4758-cb48-8ae645b995f8"
      },
      "outputs": [
        {
          "data": {
            "text/plain": [
              "Index(['Item', 'Category', 'Calories', 'Fat Calories', 'Fat (g)',\n",
              "       'Saturated Fat (g)', 'Trans Fat (g)', 'Cholesterol (mg)', 'Sodium (mg)',\n",
              "       'Total Carb (g)', 'Dietary Fiber (g)', 'Sugars (g)', 'Protein (g)',\n",
              "       'Weight Watchers'],\n",
              "      dtype='object')"
            ]
          },
          "execution_count": 9,
          "metadata": {},
          "output_type": "execute_result"
        }
      ],
      "source": [
        "data.columns"
      ]
    },
    {
      "cell_type": "code",
      "execution_count": 2,
      "metadata": {
        "colab": {
          "base_uri": "https://localhost:8080/"
        },
        "id": "-jrdHBM7o7Jr",
        "outputId": "f1fbf2e3-069f-409d-9a21-e8c026437f7a"
      },
      "outputs": [
        {
          "data": {
            "text/plain": [
              "array([[40., 49.],\n",
              "       [46., 50.],\n",
              "       [51., 50.],\n",
              "       [58., 49.],\n",
              "       [64., 50.]])"
            ]
          },
          "execution_count": 2,
          "metadata": {},
          "output_type": "execute_result"
        }
      ],
      "source": [
        "#Seleccione las columnas de Grasas totales y total de carbohidratos .\n",
        "X =  data.iloc[:, [4, 9]].values\n",
        "X[0:5]"
      ]
    },
    {
      "cell_type": "code",
      "execution_count": 3,
      "metadata": {
        "colab": {
          "base_uri": "https://localhost:8080/"
        },
        "id": "jcUZb2ysVIVs",
        "outputId": "fdfeefad-3a2e-4b53-e48b-3398cceaa732"
      },
      "outputs": [
        {
          "data": {
            "text/plain": [
              "array([[0.44272071, 0.67138438],\n",
              "       [0.73680693, 0.71997141],\n",
              "       [0.98187878, 0.71997141],\n",
              "       [1.32497937, 0.67138438],\n",
              "       [1.61906559, 0.71997141]])"
            ]
          },
          "execution_count": 3,
          "metadata": {},
          "output_type": "execute_result"
        }
      ],
      "source": [
        "from sklearn.preprocessing import StandardScaler\n",
        "X_s = StandardScaler()\n",
        "X_std=X_s.fit_transform(X)\n",
        "X_std[0:5]"
      ]
    },
    {
      "cell_type": "markdown",
      "metadata": {
        "id": "8h8fSGbChAm4"
      },
      "source": [
        "## **Algoritmo K-means**"
      ]
    },
    {
      "cell_type": "code",
      "execution_count": 4,
      "metadata": {
        "id": "O-K-QUFwpubO"
      },
      "outputs": [
        {
          "name": "stdout",
          "output_type": "stream",
          "text": [
            "Tiempo de ejecución: 0.34 segundos\n"
          ]
        }
      ],
      "source": [
        "# Clase KMeans de la biblioteca sklearn.\n",
        "from sklearn.cluster import KMeans\n",
        "#En lugar de seleccionar los centroides iniciales de forma aleatoria, \"k-means++\"\n",
        "#utiliza un enfoque más sofisticado basado en una distribución de probabilidad.\n",
        "# n_init=10 :Número de veces que se ejecuta el algoritmo k-means con diferentes semillas de centroide.\n",
        "import time\n",
        "# Medir el tiempo de ejecución\n",
        "start_time0 = time.time()\n",
        "\n",
        "kmeans = KMeans(n_clusters=5, init ='k-means++', max_iter=300, n_init=10, random_state=0 )\n",
        "y_kmeans = kmeans.fit_predict(X_std)\n",
        "\n",
        "# Calcular el tiempo de ejecución\n",
        "end_time = time.time()\n",
        "execution_time = end_time - start_time0\n",
        "\n",
        "print(\"Tiempo de ejecución: {:.2f} segundos\".format(execution_time))"
      ]
    },
    {
      "cell_type": "code",
      "execution_count": 41,
      "metadata": {
        "colab": {
          "base_uri": "https://localhost:8080/"
        },
        "id": "Mw4LL1rDrh5g",
        "outputId": "7149dacd-3cdb-42fd-88ee-2c9cf47b47e7"
      },
      "outputs": [
        {
          "data": {
            "text/plain": [
              "2"
            ]
          },
          "execution_count": 41,
          "metadata": {},
          "output_type": "execute_result"
        }
      ],
      "source": [
        "kmeans.n_clusters"
      ]
    },
    {
      "cell_type": "code",
      "execution_count": 5,
      "metadata": {
        "id": "PX52NZW9V032"
      },
      "outputs": [],
      "source": [
        "# Obtener los centroides estandarizados\n",
        "centroides_estandarizados = kmeans.cluster_centers_\n",
        "\n",
        "# Transformación inversa de los centroides para obtener los valores originales\n",
        "centroides_originales = X_s.inverse_transform(centroides_estandarizados)"
      ]
    },
    {
      "cell_type": "code",
      "execution_count": 6,
      "metadata": {
        "colab": {
          "base_uri": "https://localhost:8080/"
        },
        "id": "N0Qi91rNrpGR",
        "outputId": "0c6a6f92-5408-4768-f583-31efb6ae3ad8"
      },
      "outputs": [
        {
          "data": {
            "text/plain": [
              "numpy.ndarray"
            ]
          },
          "execution_count": 6,
          "metadata": {},
          "output_type": "execute_result"
        }
      ],
      "source": [
        "type(y_kmeans)"
      ]
    },
    {
      "cell_type": "code",
      "execution_count": 7,
      "metadata": {
        "colab": {
          "base_uri": "https://localhost:8080/"
        },
        "id": "_9X9DCWysE2V",
        "outputId": "4fe664f3-f301-476f-b9b6-be06739b201f"
      },
      "outputs": [
        {
          "data": {
            "text/plain": [
              "array([3, 3, 3, 1, 1, 1, 1, 2, 1, 1, 3, 3, 3, 1, 3, 0, 0, 2, 2, 3, 2, 2,\n",
              "       3, 3, 3, 3, 3, 2, 2, 0, 0, 2, 3, 0, 0, 2, 1, 0, 0, 3, 0, 0, 0, 0,\n",
              "       2, 2, 2, 2, 2, 2, 2, 2, 2, 2, 2, 2, 2, 2, 3, 4, 4, 3, 0, 3, 3, 0,\n",
              "       2, 0, 0, 0, 0, 0, 0, 0, 0, 0, 0])"
            ]
          },
          "execution_count": 7,
          "metadata": {},
          "output_type": "execute_result"
        }
      ],
      "source": [
        "y_kmeans"
      ]
    },
    {
      "cell_type": "code",
      "execution_count": 8,
      "metadata": {
        "colab": {
          "base_uri": "https://localhost:8080/",
          "height": 466
        },
        "id": "U9WE7-OssM2G",
        "outputId": "dace442c-3f43-405f-a6a6-2b7abebbbd93"
      },
      "outputs": [
        {
          "data": {
            "text/html": [
              "<div>\n",
              "<style scoped>\n",
              "    .dataframe tbody tr th:only-of-type {\n",
              "        vertical-align: middle;\n",
              "    }\n",
              "\n",
              "    .dataframe tbody tr th {\n",
              "        vertical-align: top;\n",
              "    }\n",
              "\n",
              "    .dataframe thead th {\n",
              "        text-align: right;\n",
              "    }\n",
              "</style>\n",
              "<table border=\"1\" class=\"dataframe\">\n",
              "  <thead>\n",
              "    <tr style=\"text-align: right;\">\n",
              "      <th></th>\n",
              "      <th>Item</th>\n",
              "      <th>Category</th>\n",
              "      <th>Calories</th>\n",
              "      <th>Fat Calories</th>\n",
              "      <th>Fat (g)</th>\n",
              "      <th>Saturated Fat (g)</th>\n",
              "      <th>Trans Fat (g)</th>\n",
              "      <th>Cholesterol (mg)</th>\n",
              "      <th>Sodium (mg)</th>\n",
              "      <th>Total Carb (g)</th>\n",
              "      <th>Dietary Fiber (g)</th>\n",
              "      <th>Sugars (g)</th>\n",
              "      <th>Protein (g)</th>\n",
              "      <th>Weight Watchers</th>\n",
              "      <th>cluster</th>\n",
              "    </tr>\n",
              "  </thead>\n",
              "  <tbody>\n",
              "    <tr>\n",
              "      <th>0</th>\n",
              "      <td>Whopper® Sandwich</td>\n",
              "      <td>Burgers</td>\n",
              "      <td>660.0</td>\n",
              "      <td>360.0</td>\n",
              "      <td>40.0</td>\n",
              "      <td>12.0</td>\n",
              "      <td>1.5</td>\n",
              "      <td>90.0</td>\n",
              "      <td>980.0</td>\n",
              "      <td>49.0</td>\n",
              "      <td>2.0</td>\n",
              "      <td>11.0</td>\n",
              "      <td>28.0</td>\n",
              "      <td>655.0</td>\n",
              "      <td>3</td>\n",
              "    </tr>\n",
              "    <tr>\n",
              "      <th>1</th>\n",
              "      <td>Whopper® Sandwich with Cheese</td>\n",
              "      <td>Burgers</td>\n",
              "      <td>740.0</td>\n",
              "      <td>420.0</td>\n",
              "      <td>46.0</td>\n",
              "      <td>16.0</td>\n",
              "      <td>2.0</td>\n",
              "      <td>115.0</td>\n",
              "      <td>1340.0</td>\n",
              "      <td>50.0</td>\n",
              "      <td>2.0</td>\n",
              "      <td>11.0</td>\n",
              "      <td>32.0</td>\n",
              "      <td>735.0</td>\n",
              "      <td>3</td>\n",
              "    </tr>\n",
              "    <tr>\n",
              "      <th>2</th>\n",
              "      <td>Bacon &amp; Cheese Whopper® Sandwich</td>\n",
              "      <td>Burgers</td>\n",
              "      <td>790.0</td>\n",
              "      <td>460.0</td>\n",
              "      <td>51.0</td>\n",
              "      <td>17.0</td>\n",
              "      <td>2.0</td>\n",
              "      <td>125.0</td>\n",
              "      <td>1560.0</td>\n",
              "      <td>50.0</td>\n",
              "      <td>2.0</td>\n",
              "      <td>11.0</td>\n",
              "      <td>35.0</td>\n",
              "      <td>783.0</td>\n",
              "      <td>3</td>\n",
              "    </tr>\n",
              "    <tr>\n",
              "      <th>3</th>\n",
              "      <td>Double Whopper® Sandwich</td>\n",
              "      <td>Burgers</td>\n",
              "      <td>900.0</td>\n",
              "      <td>520.0</td>\n",
              "      <td>58.0</td>\n",
              "      <td>20.0</td>\n",
              "      <td>3.0</td>\n",
              "      <td>175.0</td>\n",
              "      <td>1050.0</td>\n",
              "      <td>49.0</td>\n",
              "      <td>2.0</td>\n",
              "      <td>11.0</td>\n",
              "      <td>48.0</td>\n",
              "      <td>883.0</td>\n",
              "      <td>1</td>\n",
              "    </tr>\n",
              "    <tr>\n",
              "      <th>4</th>\n",
              "      <td>Double Whopper® Sandwich with Cheese</td>\n",
              "      <td>Burgers</td>\n",
              "      <td>980.0</td>\n",
              "      <td>580.0</td>\n",
              "      <td>64.0</td>\n",
              "      <td>24.0</td>\n",
              "      <td>3.0</td>\n",
              "      <td>195.0</td>\n",
              "      <td>1410.0</td>\n",
              "      <td>50.0</td>\n",
              "      <td>2.0</td>\n",
              "      <td>11.0</td>\n",
              "      <td>52.0</td>\n",
              "      <td>963.0</td>\n",
              "      <td>1</td>\n",
              "    </tr>\n",
              "  </tbody>\n",
              "</table>\n",
              "</div>"
            ],
            "text/plain": [
              "                                   Item Category  Calories  Fat Calories  \\\n",
              "0                     Whopper® Sandwich  Burgers     660.0         360.0   \n",
              "1         Whopper® Sandwich with Cheese  Burgers     740.0         420.0   \n",
              "2      Bacon & Cheese Whopper® Sandwich  Burgers     790.0         460.0   \n",
              "3              Double Whopper® Sandwich  Burgers     900.0         520.0   \n",
              "4  Double Whopper® Sandwich with Cheese  Burgers     980.0         580.0   \n",
              "\n",
              "   Fat (g)  Saturated Fat (g)  Trans Fat (g)  Cholesterol (mg)  Sodium (mg)  \\\n",
              "0     40.0               12.0            1.5              90.0        980.0   \n",
              "1     46.0               16.0            2.0             115.0       1340.0   \n",
              "2     51.0               17.0            2.0             125.0       1560.0   \n",
              "3     58.0               20.0            3.0             175.0       1050.0   \n",
              "4     64.0               24.0            3.0             195.0       1410.0   \n",
              "\n",
              "   Total Carb (g)  Dietary Fiber (g)  Sugars (g)  Protein (g)  \\\n",
              "0            49.0                2.0        11.0         28.0   \n",
              "1            50.0                2.0        11.0         32.0   \n",
              "2            50.0                2.0        11.0         35.0   \n",
              "3            49.0                2.0        11.0         48.0   \n",
              "4            50.0                2.0        11.0         52.0   \n",
              "\n",
              "   Weight Watchers  cluster  \n",
              "0            655.0        3  \n",
              "1            735.0        3  \n",
              "2            783.0        3  \n",
              "3            883.0        1  \n",
              "4            963.0        1  "
            ]
          },
          "execution_count": 8,
          "metadata": {},
          "output_type": "execute_result"
        }
      ],
      "source": [
        "data['cluster'] = y_kmeans\n",
        "data.head()"
      ]
    },
    {
      "cell_type": "code",
      "execution_count": 9,
      "metadata": {
        "colab": {
          "base_uri": "https://localhost:8080/"
        },
        "id": "7Pl-QFI1sShp",
        "outputId": "9e1a1446-3e98-4819-c13b-4f63a08c8131"
      },
      "outputs": [
        {
          "name": "stdout",
          "output_type": "stream",
          "text": [
            "(77,)\n",
            "int32\n"
          ]
        }
      ],
      "source": [
        "print(y_kmeans.shape)\n",
        "print(y_kmeans.dtype)"
      ]
    },
    {
      "cell_type": "code",
      "execution_count": 13,
      "metadata": {
        "colab": {
          "base_uri": "https://localhost:8080/",
          "height": 472
        },
        "id": "6M7J62pRseub",
        "outputId": "cd55d7b0-49c6-4c62-9b85-0ab7b07957a0"
      },
      "outputs": [
        {
          "data": {
            "image/png": "[encoded data removed]",
            "text/plain": [
              "<Figure size 640x480 with 1 Axes>"
            ]
          },
          "metadata": {},
          "output_type": "display_data"
        }
      ],
      "source": [
        "#Visualizando los clusters\n",
        "plt.scatter(X[y_kmeans==0, 0], X[y_kmeans==0, 1], s=100, c='red', label ='Cluster 1')\n",
        "plt.scatter(X[y_kmeans==1, 0], X[y_kmeans==1, 1], s=100, c='blue', label ='Cluster 2')\n",
        "plt.scatter(X[y_kmeans == 2, 0], X[y_kmeans == 2, 1], s=100, c='green', label='Cluster 3')\n",
        "plt.scatter(X[y_kmeans == 3, 0], X[y_kmeans == 3, 1], s=100, c='gray', label='Cluster 4')\n",
        "plt.scatter(X[y_kmeans == 4, 0], X[y_kmeans == 4, 1], s=100, c='pink', label='Cluster 5')\n",
        "\n",
        "#Traza el centroide. Esta vez vamos a utilizar los centros de cluster.\n",
        "#atributo que devuelve aquí las coordenadas del centroide.\n",
        "\n",
        "plt.scatter(centroides_originales[:, 0], centroides_originales[:, 1], s=300, c='yellow', label = 'Centros')\n",
        "plt.title('Clusters de menú de Burger King (grasas totales - carbohidratos totales)')\n",
        "plt.xlabel('Grasas Total (g)')\n",
        "plt.ylabel('Carbohidratos totales (g)')\n",
        "plt.legend()\n",
        "plt.show()"
      ]
    },
    {
      "cell_type": "code",
      "execution_count": 49,
      "metadata": {
        "colab": {
          "base_uri": "https://localhost:8080/",
          "height": 150
        },
        "id": "Cw0mi9qvGMxH",
        "outputId": "120b1541-cb46-4262-9d8a-f546b6e9d988"
      },
      "outputs": [
        {
          "data": {
            "text/html": [
              "<div>\n",
              "<style scoped>\n",
              "    .dataframe tbody tr th:only-of-type {\n",
              "        vertical-align: middle;\n",
              "    }\n",
              "\n",
              "    .dataframe tbody tr th {\n",
              "        vertical-align: top;\n",
              "    }\n",
              "\n",
              "    .dataframe thead th {\n",
              "        text-align: right;\n",
              "    }\n",
              "</style>\n",
              "<table border=\"1\" class=\"dataframe\">\n",
              "  <thead>\n",
              "    <tr style=\"text-align: right;\">\n",
              "      <th></th>\n",
              "      <th>Item</th>\n",
              "      <th>Category</th>\n",
              "      <th>Calories</th>\n",
              "      <th>Fat Calories</th>\n",
              "      <th>Fat (g)</th>\n",
              "      <th>Saturated Fat (g)</th>\n",
              "      <th>Trans Fat (g)</th>\n",
              "      <th>Cholesterol (mg)</th>\n",
              "      <th>Sodium (mg)</th>\n",
              "      <th>Total Carb (g)</th>\n",
              "      <th>Dietary Fiber (g)</th>\n",
              "      <th>Sugars (g)</th>\n",
              "      <th>Protein (g)</th>\n",
              "      <th>Weight Watchers</th>\n",
              "      <th>cluster</th>\n",
              "    </tr>\n",
              "  </thead>\n",
              "  <tbody>\n",
              "    <tr>\n",
              "      <th>7</th>\n",
              "      <td>Whopper JR.® Sandwich</td>\n",
              "      <td>Burgers</td>\n",
              "      <td>310.0</td>\n",
              "      <td>160.0</td>\n",
              "      <td>18.0</td>\n",
              "      <td>5.0</td>\n",
              "      <td>0.5</td>\n",
              "      <td>40.0</td>\n",
              "      <td>390.0</td>\n",
              "      <td>27.0</td>\n",
              "      <td>1.0</td>\n",
              "      <td>7.0</td>\n",
              "      <td>13.0</td>\n",
              "      <td>309.0</td>\n",
              "      <td>0</td>\n",
              "    </tr>\n",
              "  </tbody>\n",
              "</table>\n",
              "</div>"
            ],
            "text/plain": [
              "                    Item Category  Calories  Fat Calories  Fat (g)  \\\n",
              "7  Whopper JR.® Sandwich  Burgers     310.0         160.0     18.0   \n",
              "\n",
              "   Saturated Fat (g)  Trans Fat (g)  Cholesterol (mg)  Sodium (mg)  \\\n",
              "7                5.0            0.5              40.0        390.0   \n",
              "\n",
              "   Total Carb (g)  Dietary Fiber (g)  Sugars (g)  Protein (g)  \\\n",
              "7            27.0                1.0         7.0         13.0   \n",
              "\n",
              "   Weight Watchers  cluster  \n",
              "7            309.0        0  "
            ]
          },
          "execution_count": 49,
          "metadata": {},
          "output_type": "execute_result"
        }
      ],
      "source": [
        "rCluster1 = data[data['cluster'] == 0]\n",
        "rCluster1.head(1)"
      ]
    },
    {
      "cell_type": "code",
      "execution_count": 50,
      "metadata": {
        "colab": {
          "base_uri": "https://localhost:8080/",
          "height": 133
        },
        "id": "5pUGvrAcGuxN",
        "outputId": "5e3bbca9-5db9-4774-dac2-cd2f56dcdd32"
      },
      "outputs": [
        {
          "data": {
            "text/html": [
              "<div>\n",
              "<style scoped>\n",
              "    .dataframe tbody tr th:only-of-type {\n",
              "        vertical-align: middle;\n",
              "    }\n",
              "\n",
              "    .dataframe tbody tr th {\n",
              "        vertical-align: top;\n",
              "    }\n",
              "\n",
              "    .dataframe thead th {\n",
              "        text-align: right;\n",
              "    }\n",
              "</style>\n",
              "<table border=\"1\" class=\"dataframe\">\n",
              "  <thead>\n",
              "    <tr style=\"text-align: right;\">\n",
              "      <th></th>\n",
              "      <th>Item</th>\n",
              "      <th>Category</th>\n",
              "      <th>Calories</th>\n",
              "      <th>Fat Calories</th>\n",
              "      <th>Fat (g)</th>\n",
              "      <th>Saturated Fat (g)</th>\n",
              "      <th>Trans Fat (g)</th>\n",
              "      <th>Cholesterol (mg)</th>\n",
              "      <th>Sodium (mg)</th>\n",
              "      <th>Total Carb (g)</th>\n",
              "      <th>Dietary Fiber (g)</th>\n",
              "      <th>Sugars (g)</th>\n",
              "      <th>Protein (g)</th>\n",
              "      <th>Weight Watchers</th>\n",
              "      <th>cluster</th>\n",
              "    </tr>\n",
              "  </thead>\n",
              "  <tbody>\n",
              "    <tr>\n",
              "      <th>0</th>\n",
              "      <td>Whopper® Sandwich</td>\n",
              "      <td>Burgers</td>\n",
              "      <td>660.0</td>\n",
              "      <td>360.0</td>\n",
              "      <td>40.0</td>\n",
              "      <td>12.0</td>\n",
              "      <td>1.5</td>\n",
              "      <td>90.0</td>\n",
              "      <td>980.0</td>\n",
              "      <td>49.0</td>\n",
              "      <td>2.0</td>\n",
              "      <td>11.0</td>\n",
              "      <td>28.0</td>\n",
              "      <td>655.0</td>\n",
              "      <td>1</td>\n",
              "    </tr>\n",
              "  </tbody>\n",
              "</table>\n",
              "</div>"
            ],
            "text/plain": [
              "                Item Category  Calories  Fat Calories  Fat (g)  \\\n",
              "0  Whopper® Sandwich  Burgers     660.0         360.0     40.0   \n",
              "\n",
              "   Saturated Fat (g)  Trans Fat (g)  Cholesterol (mg)  Sodium (mg)  \\\n",
              "0               12.0            1.5              90.0        980.0   \n",
              "\n",
              "   Total Carb (g)  Dietary Fiber (g)  Sugars (g)  Protein (g)  \\\n",
              "0            49.0                2.0        11.0         28.0   \n",
              "\n",
              "   Weight Watchers  cluster  \n",
              "0            655.0        1  "
            ]
          },
          "execution_count": 50,
          "metadata": {},
          "output_type": "execute_result"
        }
      ],
      "source": [
        "rCluster2 = data[data['cluster'] == 1]\n",
        "rCluster2.head(1)"
      ]
    },
    {
      "cell_type": "code",
      "execution_count": null,
      "metadata": {
        "id": "JpSU1iKXYyQr"
      },
      "outputs": [],
      "source": []
    },
    {
      "cell_type": "markdown",
      "metadata": {
        "id": "PSbCjiLicqNe"
      },
      "source": [
        "### **Métrica Silhouette Score**\n",
        "https://scikit-learn.org/stable/modules/generated/sklearn.metrics.silhouette_score.html\n",
        "\n",
        "Calcule el coeficiente de silueta medio de todas las muestras."
      ]
    },
    {
      "cell_type": "code",
      "execution_count": 14,
      "metadata": {
        "colab": {
          "base_uri": "https://localhost:8080/"
        },
        "id": "6Oj1VfZgbLii",
        "outputId": "ed25ee21-19d8-46ad-d99a-2f81177a4c87"
      },
      "outputs": [
        {
          "data": {
            "text/plain": [
              "0.4302095094703619"
            ]
          },
          "execution_count": 14,
          "metadata": {},
          "output_type": "execute_result"
        }
      ],
      "source": [
        "silhouette_score(X_std, y_kmeans)"
      ]
    },
    {
      "cell_type": "markdown",
      "metadata": {
        "id": "KIAitqsPc21l"
      },
      "source": [
        "### **Métrica  Davies-Bouldin Index**\n",
        "\n",
        "Es una métrica de validación que se utiliza para evaluar modelos de agrupación.\n",
        "\n",
        "https://www.geeksforgeeks.org/davies-bouldin-index/"
      ]
    },
    {
      "cell_type": "code",
      "execution_count": 15,
      "metadata": {
        "colab": {
          "base_uri": "https://localhost:8080/"
        },
        "id": "z2G4xs_MYyNT",
        "outputId": "aed92e12-81fc-428b-c010-f2763bd014c7"
      },
      "outputs": [
        {
          "data": {
            "text/plain": [
              "0.662115985752722"
            ]
          },
          "execution_count": 15,
          "metadata": {},
          "output_type": "execute_result"
        }
      ],
      "source": [
        "from sklearn.metrics import davies_bouldin_score\n",
        "davies_bouldin_score(X_std, y_kmeans)"
      ]
    },
    {
      "cell_type": "code",
      "execution_count": null,
      "metadata": {
        "id": "-xusPEqHg2KF"
      },
      "outputs": [],
      "source": []
    },
    {
      "cell_type": "code",
      "execution_count": 241,
      "metadata": {
        "id": "JYYbNV_ag2B-"
      },
      "outputs": [],
      "source": []
    },
    {
      "cell_type": "markdown",
      "metadata": {
        "id": "GIqZs9x2g06f"
      },
      "source": [
        "## **DBSCAN**"
      ]
    },
    {
      "cell_type": "code",
      "execution_count": 238,
      "metadata": {
        "colab": {
          "base_uri": "https://localhost:8080/"
        },
        "id": "7AcZgLirg0t_",
        "outputId": "8550c152-2f2d-4efa-88d4-66dd70b85fe8"
      },
      "outputs": [
        {
          "data": {
            "text/plain": [
              "array([ 0,  0,  0,  0,  0,  0,  0,  1,  0,  0,  0,  0,  0,  0,  0,  1,  1,\n",
              "        1,  1,  0,  1,  1,  0,  0,  0,  0,  0,  1,  1,  1,  1,  1,  0,  1,\n",
              "        1,  1,  0,  1,  1,  0,  1,  1,  1,  1,  1,  1,  1,  1,  1,  1,  1,\n",
              "        1,  1,  1,  1,  1,  1,  1, -1, -1, -1, -1,  1,  0,  0,  1,  0,  1,\n",
              "        1,  1,  1, -1,  1,  1,  1,  1,  1])"
            ]
          },
          "execution_count": 238,
          "metadata": {},
          "output_type": "execute_result"
        }
      ],
      "source": [
        "from sklearn.cluster import DBSCAN\n",
        "import numpy as np\n",
        "clustering = DBSCAN().fit(X_std)  # Ajusta el modelo DBSCAN a los datos representados en X_std\n",
        "labels = clustering.labels_  # Obtiene las etiquetas asignadas a cada punto por el algoritmo DBSCAN\n",
        "\n",
        "# Imprime las etiquetas de los clústeres asignadas a cada punto\n",
        "print(labels)"
      ]
    },
    {
      "cell_type": "code",
      "execution_count": 239,
      "metadata": {
        "colab": {
          "base_uri": "https://localhost:8080/",
          "height": 449
        },
        "id": "_hsYISoIivER",
        "outputId": "ac2699a1-37e8-43e3-ce2e-4fc3bbcef228"
      },
      "outputs": [
        {
          "data": {
            "image/png": "[encoded data removed]",
            "text/plain": [
              "<Figure size 640x480 with 1 Axes>"
            ]
          },
          "metadata": {},
          "output_type": "display_data"
        }
      ],
      "source": [
        "#Visualizando los clusters\n",
        "plt.scatter(X[labels==-1, 0], X[labels==-1, 1], s=100, c='red', label ='Cluster 1')\n",
        "plt.scatter(X[labels==0, 0], X[labels==0, 1], s=100, c='blue', label ='Cluster 2')\n",
        "plt.scatter(X[labels==1, 0], X[labels==1, 1], s=100, c='green', label ='Cluster 3')\n",
        "\n",
        "\n",
        "#Traza el centroide. Esta vez vamos a utilizar los centros de cluster.\n",
        "#atributo que devuelve aquí las coordenadas del centroide.\n",
        "plt.legend()\n",
        "plt.xlabel('Grasas Total (g)')\n",
        "plt.ylabel('Carbohidratos totales (g)')\n",
        "plt.show()"
      ]
    },
    {
      "cell_type": "markdown",
      "metadata": {
        "id": "VmZrfJOtlCQ_"
      },
      "source": [
        "### **Métrica Silhouette Score**\n",
        "https://scikit-learn.org/stable/modules/generated/sklearn.metrics.silhouette_score.html\n",
        "\n",
        "Calcule el coeficiente de silueta medio de todas las muestras."
      ]
    },
    {
      "cell_type": "code",
      "execution_count": 240,
      "metadata": {
        "colab": {
          "base_uri": "https://localhost:8080/"
        },
        "id": "ltfJKpk0kY1W",
        "outputId": "a73cae51-c4b1-4b62-957b-d56cea07aaa9"
      },
      "outputs": [
        {
          "data": {
            "text/plain": [
              "0.4653539616416159"
            ]
          },
          "execution_count": 240,
          "metadata": {},
          "output_type": "execute_result"
        }
      ],
      "source": [
        "silhouette_score(X_std, labels)"
      ]
    },
    {
      "cell_type": "markdown",
      "metadata": {
        "id": "Mkz0kwNjlReY"
      },
      "source": [
        "### **Métrica  Davies-Bouldin Index**\n",
        "\n",
        "Es una métrica de validación que se utiliza para evaluar modelos de agrupación.\n",
        "\n",
        "https://www.geeksforgeeks.org/davies-bouldin-index/"
      ]
    },
    {
      "cell_type": "code",
      "execution_count": 241,
      "metadata": {
        "colab": {
          "base_uri": "https://localhost:8080/"
        },
        "id": "jM9rWmv9lMWt",
        "outputId": "5981891c-1178-4cb3-bf61-e0207cbf71ef"
      },
      "outputs": [
        {
          "data": {
            "text/plain": [
              "1.1864415000593997"
            ]
          },
          "execution_count": 241,
          "metadata": {},
          "output_type": "execute_result"
        }
      ],
      "source": [
        "from sklearn.metrics import davies_bouldin_score\n",
        "davies_bouldin_score(X_std, labels)"
      ]
    },
    {
      "cell_type": "code",
      "execution_count": null,
      "metadata": {
        "id": "J3fy8ioUlfUU"
      },
      "outputs": [],
      "source": []
    },
    {
      "cell_type": "code",
      "execution_count": null,
      "metadata": {
        "id": "S7Iqu-8Xlgib"
      },
      "outputs": [],
      "source": []
    },
    {
      "cell_type": "markdown",
      "metadata": {
        "id": "B0EvPbeklkGz"
      },
      "source": [
        "## **Agglomerative Clustering**\n",
        "https://scikit-learn.org/stable/modules/generated/sklearn.cluster.AgglomerativeClustering.html"
      ]
    },
    {
      "cell_type": "code",
      "execution_count": 215,
      "metadata": {
        "colab": {
          "base_uri": "https://localhost:8080/",
          "height": 74
        },
        "id": "AjDtVZKOlmBk",
        "outputId": "29fc529b-38b6-4712-8341-6cfac342b07c"
      },
      "outputs": [
        {
          "data": {
            "text/html": [
              "<style>#sk-container-id-1 {color: black;background-color: white;}#sk-container-id-1 pre{padding: 0;}#sk-container-id-1 div.sk-toggleable {background-color: white;}#sk-container-id-1 label.sk-toggleable__label {cursor: pointer;display: block;width: 100%;margin-bottom: 0;padding: 0.3em;box-sizing: border-box;text-align: center;}#sk-container-id-1 label.sk-toggleable__label-arrow:before {content: \"▸\";float: left;margin-right: 0.25em;color: #696969;}#sk-container-id-1 label.sk-toggleable__label-arrow:hover:before {color: black;}#sk-container-id-1 div.sk-estimator:hover label.sk-toggleable__label-arrow:before {color: black;}#sk-container-id-1 div.sk-toggleable__content {max-height: 0;max-width: 0;overflow: hidden;text-align: left;background-color: #f0f8ff;}#sk-container-id-1 div.sk-toggleable__content pre {margin: 0.2em;color: black;border-radius: 0.25em;background-color: #f0f8ff;}#sk-container-id-1 input.sk-toggleable__control:checked~div.sk-toggleable__content {max-height: 200px;max-width: 100%;overflow: auto;}#sk-container-id-1 input.sk-toggleable__control:checked~label.sk-toggleable__label-arrow:before {content: \"▾\";}#sk-container-id-1 div.sk-estimator input.sk-toggleable__control:checked~label.sk-toggleable__label {background-color: #d4ebff;}#sk-container-id-1 div.sk-label input.sk-toggleable__control:checked~label.sk-toggleable__label {background-color: #d4ebff;}#sk-container-id-1 input.sk-hidden--visually {border: 0;clip: rect(1px 1px 1px 1px);clip: rect(1px, 1px, 1px, 1px);height: 1px;margin: -1px;overflow: hidden;padding: 0;position: absolute;width: 1px;}#sk-container-id-1 div.sk-estimator {font-family: monospace;background-color: #f0f8ff;border: 1px dotted black;border-radius: 0.25em;box-sizing: border-box;margin-bottom: 0.5em;}#sk-container-id-1 div.sk-estimator:hover {background-color: #d4ebff;}#sk-container-id-1 div.sk-parallel-item::after {content: \"\";width: 100%;border-bottom: 1px solid gray;flex-grow: 1;}#sk-container-id-1 div.sk-label:hover label.sk-toggleable__label {background-color: #d4ebff;}#sk-container-id-1 div.sk-serial::before {content: \"\";position: absolute;border-left: 1px solid gray;box-sizing: border-box;top: 0;bottom: 0;left: 50%;z-index: 0;}#sk-container-id-1 div.sk-serial {display: flex;flex-direction: column;align-items: center;background-color: white;padding-right: 0.2em;padding-left: 0.2em;position: relative;}#sk-container-id-1 div.sk-item {position: relative;z-index: 1;}#sk-container-id-1 div.sk-parallel {display: flex;align-items: stretch;justify-content: center;background-color: white;position: relative;}#sk-container-id-1 div.sk-item::before, #sk-container-id-1 div.sk-parallel-item::before {content: \"\";position: absolute;border-left: 1px solid gray;box-sizing: border-box;top: 0;bottom: 0;left: 50%;z-index: -1;}#sk-container-id-1 div.sk-parallel-item {display: flex;flex-direction: column;z-index: 1;position: relative;background-color: white;}#sk-container-id-1 div.sk-parallel-item:first-child::after {align-self: flex-end;width: 50%;}#sk-container-id-1 div.sk-parallel-item:last-child::after {align-self: flex-start;width: 50%;}#sk-container-id-1 div.sk-parallel-item:only-child::after {width: 0;}#sk-container-id-1 div.sk-dashed-wrapped {border: 1px dashed gray;margin: 0 0.4em 0.5em 0.4em;box-sizing: border-box;padding-bottom: 0.4em;background-color: white;}#sk-container-id-1 div.sk-label label {font-family: monospace;font-weight: bold;display: inline-block;line-height: 1.2em;}#sk-container-id-1 div.sk-label-container {text-align: center;}#sk-container-id-1 div.sk-container {/* jupyter's `normalize.less` sets `[hidden] { display: none; }` but bootstrap.min.css set `[hidden] { display: none !important; }` so we also need the `!important` here to be able to override the default hidden behavior on the sphinx rendered scikit-learn.org. See: https://github.com/scikit-learn/scikit-learn/issues/21755 */display: inline-block !important;position: relative;}#sk-container-id-1 div.sk-text-repr-fallback {display: none;}</style><div id=\"sk-container-id-1\" class=\"sk-top-container\"><div class=\"sk-text-repr-fallback\"><pre>AgglomerativeClustering()</pre><b>In a Jupyter environment, please rerun this cell to show the HTML representation or trust the notebook. <br />On GitHub, the HTML representation is unable to render, please try loading this page with nbviewer.org.</b></div><div class=\"sk-container\" hidden><div class=\"sk-item\"><div class=\"sk-estimator sk-toggleable\"><input class=\"sk-toggleable__control sk-hidden--visually\" id=\"sk-estimator-id-1\" type=\"checkbox\" checked><label for=\"sk-estimator-id-1\" class=\"sk-toggleable__label sk-toggleable__label-arrow\">AgglomerativeClustering</label><div class=\"sk-toggleable__content\"><pre>AgglomerativeClustering()</pre></div></div></div></div></div>"
            ],
            "text/plain": [
              "AgglomerativeClustering()"
            ]
          },
          "execution_count": 215,
          "metadata": {},
          "output_type": "execute_result"
        }
      ],
      "source": [
        "from sklearn.cluster import AgglomerativeClustering\n",
        "import numpy as np\n",
        "\n",
        "# Se realiza el agrupamiento jerárquico con AgglomerativeClustering\n",
        "clustering = AgglomerativeClustering().fit(X_std)  \n",
        "# Ajusta el modelo de agrupamiento jerárquico a los datos representados en X_std\n",
        "\n",
        "# Imprime el objeto clustering\n",
        "print(clustering)"
      ]
    },
    {
      "cell_type": "code",
      "execution_count": 216,
      "metadata": {
        "colab": {
          "base_uri": "https://localhost:8080/"
        },
        "id": "E38Uvouhl_BP",
        "outputId": "b20d295a-859b-4015-b1c9-ded7331bef3c"
      },
      "outputs": [
        {
          "data": {
            "text/plain": [
              "array([0, 0, 0, 0, 0, 0, 0, 1, 0, 0, 0, 0, 0, 0, 0, 1, 1, 1, 1, 0, 1, 1,\n",
              "       0, 0, 0, 0, 0, 1, 0, 1, 1, 1, 0, 1, 1, 1, 0, 1, 1, 0, 1, 1, 1, 1,\n",
              "       1, 1, 1, 1, 1, 1, 1, 1, 1, 1, 1, 1, 1, 1, 0, 0, 0, 0, 1, 0, 0, 1,\n",
              "       0, 1, 1, 1, 1, 1, 1, 1, 1, 1, 1])"
            ]
          },
          "execution_count": 216,
          "metadata": {},
          "output_type": "execute_result"
        }
      ],
      "source": [
        "labels1=clustering.labels_\n",
        "labels1"
      ]
    },
    {
      "cell_type": "code",
      "execution_count": 218,
      "metadata": {
        "colab": {
          "base_uri": "https://localhost:8080/",
          "height": 449
        },
        "id": "7vKs-qILmEWp",
        "outputId": "f8d7772a-4830-4b94-a877-e11ce20a5fba"
      },
      "outputs": [
        {
          "data": {
            "image/png": "[encoded data removed]",
            "text/plain": [
              "<Figure size 640x480 with 1 Axes>"
            ]
          },
          "metadata": {},
          "output_type": "display_data"
        }
      ],
      "source": [
        "#Visualizando los clusters\n",
        "plt.scatter(X[labels1==0, 0], X[labels1==0, 1], s=100, c='blue', label ='Cluster 1')\n",
        "plt.scatter(X[labels1==1, 0], X[labels1==1, 1], s=100, c='green', label ='Cluster 2')\n",
        "\n",
        "\n",
        "#Traza el centroide. Esta vez vamos a utilizar los centros de cluster.\n",
        "#atributo que devuelve aquí las coordenadas del centroide.\n",
        "plt.legend()\n",
        "plt.xlabel('Grasas Total (g)')\n",
        "plt.ylabel('Carbohidratos totales (g)')\n",
        "plt.show()"
      ]
    },
    {
      "cell_type": "markdown",
      "metadata": {
        "id": "RnICOyfrm8of"
      },
      "source": [
        "### **Métrica Silhouette Score**\n",
        "https://scikit-learn.org/stable/modules/generated/sklearn.metrics.silhouette_score.html\n",
        "\n",
        "Calcule el coeficiente de silueta medio de todas las muestras."
      ]
    },
    {
      "cell_type": "code",
      "execution_count": 219,
      "metadata": {
        "colab": {
          "base_uri": "https://localhost:8080/"
        },
        "id": "zj-FrRCfmw1B",
        "outputId": "aacb5762-ee88-48cd-ed80-19c9120e0471"
      },
      "outputs": [
        {
          "data": {
            "text/plain": [
              "0.5013492135531722"
            ]
          },
          "execution_count": 219,
          "metadata": {},
          "output_type": "execute_result"
        }
      ],
      "source": [
        "silhouette_score(X_std, labels1)"
      ]
    },
    {
      "cell_type": "markdown",
      "metadata": {
        "id": "IYRQpL_om9cI"
      },
      "source": [
        "### **Métrica  Davies-Bouldin Index**\n",
        "\n",
        "Es una métrica de validación que se utiliza para evaluar modelos de agrupación.\n",
        "\n",
        "https://www.geeksforgeeks.org/davies-bouldin-index/"
      ]
    },
    {
      "cell_type": "code",
      "execution_count": 220,
      "metadata": {
        "colab": {
          "base_uri": "https://localhost:8080/"
        },
        "id": "ehdqs7icm1u9",
        "outputId": "2098f25c-d5f7-4fd6-e306-f65a32978dc8"
      },
      "outputs": [
        {
          "data": {
            "text/plain": [
              "0.7290251752161105"
            ]
          },
          "execution_count": 220,
          "metadata": {},
          "output_type": "execute_result"
        }
      ],
      "source": [
        "from sklearn.metrics import davies_bouldin_score\n",
        "davies_bouldin_score(X_std, labels1)"
      ]
    }
  ],
  "metadata": {
    "colab": {
      "provenance": []
    },
    "kernelspec": {
      "display_name": "Python 3",
      "name": "python3"
    },
    "language_info": {
      "codemirror_mode": {
        "name": "ipython",
        "version": 3
      },
      "file_extension": ".py",
      "mimetype": "text/x-python",
      "name": "python",
      "nbconvert_exporter": "python",
      "pygments_lexer": "ipython3",
      "version": "3.9.6"
    }
  },
  "nbformat": 4,
  "nbformat_minor": 0
}
