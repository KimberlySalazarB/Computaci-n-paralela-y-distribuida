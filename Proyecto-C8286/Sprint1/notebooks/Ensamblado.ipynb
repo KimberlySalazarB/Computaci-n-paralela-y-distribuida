{
  "cells": [
    {
      "cell_type": "markdown",
      "metadata": {},
      "source": [
        "### Desarrollo de algoritmos de ensamblado"
      ]
    },
    {
      "cell_type": "markdown",
      "metadata": {},
      "source": [
        "## **Conjunto de datos sobre diabetes**\n",
        "Este conjunto de datos proviene del Instituto Nacional de Diabetes y\n",
        "Enfermedades Digestivas y Renales. El objetivo del conjunto de datos es predecir de forma diagnóstica si un paciente tiene diabetes,\n",
        "basándose en ciertas mediciones de diagnóstico incluidas en el conjunto de datos.\n",
        "En particular, todos los pacientes aquí son mujeres de al menos 21 años de edad de ascendencia india \n",
        "\n",
        "Información sobre los atributos del conjunto de datos -\n",
        "\n",
        "Embarazos: Para expresar el Número de embarazos\n",
        "\n",
        "Glucosa: Para expresar el nivel de glucosa en sangre.\n",
        "\n",
        "BloodPressure: Para expresar la medición de la presión arterial.\n",
        "\n",
        "SkinThickness: Para expresar el grosor de la piel.\n",
        "\n",
        "Insulina: Para expresar el nivel de insulina en sangre.\n",
        "\n",
        "IMC: Para expresar el índice de masa corporal.\n",
        "\n",
        "DiabetesPedigreeFunción: Expresar el porcentaje de Diabetes.\n",
        "\n",
        "Edad: Para expresar la edad.\n",
        "\n",
        "Resultado: Para expresar el resultado final 1 es Sí y 0 es No\n",
        "\n",
        "https://www.kaggle.com/datasets/akshaydattatraykhare/diabetes-dataset"
      ]
    },
    {
      "cell_type": "code",
      "execution_count": 1,
      "metadata": {},
      "outputs": [
        {
          "data": {
            "text/html": [
              "<div>\n",
              "<style scoped>\n",
              "    .dataframe tbody tr th:only-of-type {\n",
              "        vertical-align: middle;\n",
              "    }\n",
              "\n",
              "    .dataframe tbody tr th {\n",
              "        vertical-align: top;\n",
              "    }\n",
              "\n",
              "    .dataframe thead th {\n",
              "        text-align: right;\n",
              "    }\n",
              "</style>\n",
              "<table border=\"1\" class=\"dataframe\">\n",
              "  <thead>\n",
              "    <tr style=\"text-align: right;\">\n",
              "      <th></th>\n",
              "      <th>Pregnancies</th>\n",
              "      <th>Glucose</th>\n",
              "      <th>BloodPressure</th>\n",
              "      <th>SkinThickness</th>\n",
              "      <th>Insulin</th>\n",
              "      <th>BMI</th>\n",
              "      <th>DiabetesPedigreeFunction</th>\n",
              "      <th>Age</th>\n",
              "      <th>Outcome</th>\n",
              "    </tr>\n",
              "  </thead>\n",
              "  <tbody>\n",
              "    <tr>\n",
              "      <th>0</th>\n",
              "      <td>6</td>\n",
              "      <td>148</td>\n",
              "      <td>72</td>\n",
              "      <td>35</td>\n",
              "      <td>0</td>\n",
              "      <td>33.6</td>\n",
              "      <td>0.627</td>\n",
              "      <td>50</td>\n",
              "      <td>1</td>\n",
              "    </tr>\n",
              "    <tr>\n",
              "      <th>1</th>\n",
              "      <td>1</td>\n",
              "      <td>85</td>\n",
              "      <td>66</td>\n",
              "      <td>29</td>\n",
              "      <td>0</td>\n",
              "      <td>26.6</td>\n",
              "      <td>0.351</td>\n",
              "      <td>31</td>\n",
              "      <td>0</td>\n",
              "    </tr>\n",
              "    <tr>\n",
              "      <th>2</th>\n",
              "      <td>8</td>\n",
              "      <td>183</td>\n",
              "      <td>64</td>\n",
              "      <td>0</td>\n",
              "      <td>0</td>\n",
              "      <td>23.3</td>\n",
              "      <td>0.672</td>\n",
              "      <td>32</td>\n",
              "      <td>1</td>\n",
              "    </tr>\n",
              "    <tr>\n",
              "      <th>3</th>\n",
              "      <td>1</td>\n",
              "      <td>89</td>\n",
              "      <td>66</td>\n",
              "      <td>23</td>\n",
              "      <td>94</td>\n",
              "      <td>28.1</td>\n",
              "      <td>0.167</td>\n",
              "      <td>21</td>\n",
              "      <td>0</td>\n",
              "    </tr>\n",
              "    <tr>\n",
              "      <th>4</th>\n",
              "      <td>0</td>\n",
              "      <td>137</td>\n",
              "      <td>40</td>\n",
              "      <td>35</td>\n",
              "      <td>168</td>\n",
              "      <td>43.1</td>\n",
              "      <td>2.288</td>\n",
              "      <td>33</td>\n",
              "      <td>1</td>\n",
              "    </tr>\n",
              "  </tbody>\n",
              "</table>\n",
              "</div>"
            ],
            "text/plain": [
              "   Pregnancies  Glucose  BloodPressure  SkinThickness  Insulin   BMI  \\\n",
              "0            6      148             72             35        0  33.6   \n",
              "1            1       85             66             29        0  26.6   \n",
              "2            8      183             64              0        0  23.3   \n",
              "3            1       89             66             23       94  28.1   \n",
              "4            0      137             40             35      168  43.1   \n",
              "\n",
              "   DiabetesPedigreeFunction  Age  Outcome  \n",
              "0                     0.627   50        1  \n",
              "1                     0.351   31        0  \n",
              "2                     0.672   32        1  \n",
              "3                     0.167   21        0  \n",
              "4                     2.288   33        1  "
            ]
          },
          "execution_count": 1,
          "metadata": {},
          "output_type": "execute_result"
        }
      ],
      "source": [
        "#Revisamos el contenido de la data\n",
        "import pandas as pd\n",
        "data2=pd.read_csv('diabetes.csv')\n",
        "data2.head()"
      ]
    },
    {
      "cell_type": "code",
      "execution_count": 2,
      "metadata": {},
      "outputs": [
        {
          "data": {
            "text/plain": [
              "(768, 9)"
            ]
          },
          "execution_count": 2,
          "metadata": {},
          "output_type": "execute_result"
        }
      ],
      "source": [
        "data2.shape"
      ]
    },
    {
      "cell_type": "code",
      "execution_count": 3,
      "metadata": {},
      "outputs": [
        {
          "data": {
            "text/plain": [
              "Pregnancies                 0\n",
              "Glucose                     0\n",
              "BloodPressure               0\n",
              "SkinThickness               0\n",
              "Insulin                     0\n",
              "BMI                         0\n",
              "DiabetesPedigreeFunction    0\n",
              "Age                         0\n",
              "Outcome                     0\n",
              "dtype: int64"
            ]
          },
          "execution_count": 3,
          "metadata": {},
          "output_type": "execute_result"
        }
      ],
      "source": [
        "data2.isnull().sum()"
      ]
    },
    {
      "cell_type": "markdown",
      "metadata": {},
      "source": [
        "#### Predice si tiene diabetes sabiendo su nivel de glucosa,  índice de masa corporal y edad"
      ]
    },
    {
      "cell_type": "code",
      "execution_count": 4,
      "metadata": {},
      "outputs": [
        {
          "name": "stdout",
          "output_type": "stream",
          "text": [
            "Tiempo de ejecución: 0.00 segundos\n"
          ]
        }
      ],
      "source": [
        "from sklearn.model_selection import train_test_split\n",
        "X = data2[['Glucose','BMI','Age']]  # Seleccionamos las características adecuadas\n",
        "y = data2['Outcome']\n",
        "import time\n",
        "# Medir el tiempo de ejecución\n",
        "start_time0 = time.time()\n",
        "\n",
        "# Divide tus datos en conjuntos de entrenamiento y prueba, utilizamos stratify para distribuir bien la cantidades de datos para las clases\n",
        "X_train, X_test, y_train, y_test = train_test_split(X, y, test_size=0.2, random_state=42,stratify=y)\n",
        "\n",
        "# Calcular el tiempo de ejecución\n",
        "end_time = time.time()\n",
        "execution_time = end_time - start_time0\n",
        "\n",
        "print(\"Tiempo de ejecución: {:.2f} segundos\".format(execution_time))\n"
      ]
    },
    {
      "cell_type": "code",
      "execution_count": 5,
      "metadata": {},
      "outputs": [
        {
          "data": {
            "text/plain": [
              "((614, 3), (614,), (154, 3), (154,))"
            ]
          },
          "execution_count": 5,
          "metadata": {},
          "output_type": "execute_result"
        }
      ],
      "source": [
        "X_train.shape, y_train.shape, X_test.shape, y_test.shape"
      ]
    },
    {
      "cell_type": "markdown",
      "metadata": {},
      "source": [
        "### **Random Forest:**"
      ]
    },
    {
      "cell_type": "code",
      "execution_count": 11,
      "metadata": {},
      "outputs": [],
      "source": [
        "from sklearn.ensemble import RandomForestClassifier\n",
        "\n",
        "# Crear el clasificador de Random Forest\n",
        "rf_classifier = RandomForestClassifier(n_estimators=100, random_state=42)\n",
        "\n",
        "# Entrenar el modelo\n",
        "rf_classifier.fit(X_train, y_train)\n",
        "\n",
        "# Predicción en el conjunto de prueba\n",
        "predictions_rf = rf_classifier.predict(X_test)"
      ]
    },
    {
      "cell_type": "code",
      "execution_count": 12,
      "metadata": {},
      "outputs": [
        {
          "data": {
            "text/plain": [
              "44     0\n",
              "672    0\n",
              "700    0\n",
              "630    1\n",
              "81     0\n",
              "389    0\n",
              "387    1\n",
              "408    1\n",
              "163    0\n",
              "335    0\n",
              "Name: Outcome, dtype: int64"
            ]
          },
          "execution_count": 12,
          "metadata": {},
          "output_type": "execute_result"
        }
      ],
      "source": [
        "y_test.head(10)"
      ]
    },
    {
      "cell_type": "code",
      "execution_count": 13,
      "metadata": {},
      "outputs": [
        {
          "data": {
            "text/plain": [
              "array([1, 0, 0, 0, 0, 0, 0, 1, 0, 1], dtype=int64)"
            ]
          },
          "execution_count": 13,
          "metadata": {},
          "output_type": "execute_result"
        }
      ],
      "source": [
        "predictions_rf[:10]"
      ]
    },
    {
      "cell_type": "code",
      "execution_count": 14,
      "metadata": {},
      "outputs": [
        {
          "data": {
            "text/plain": [
              "0.7337662337662337"
            ]
          },
          "execution_count": 14,
          "metadata": {},
          "output_type": "execute_result"
        }
      ],
      "source": [
        "from sklearn.metrics import accuracy_score\n",
        "accuracy = accuracy_score(y_test, predictions_rf)\n",
        "accuracy"
      ]
    },
    {
      "cell_type": "code",
      "execution_count": 15,
      "metadata": {},
      "outputs": [
        {
          "name": "stdout",
          "output_type": "stream",
          "text": [
            "0.7075433231396535\n"
          ]
        }
      ],
      "source": [
        "from sklearn.metrics import precision_score\n",
        "#Calcula la precisión para cada clase individualmente y luego toma la media.\n",
        "precision = precision_score(y_test, predictions_rf, average='macro')\n",
        "print(precision)\n"
      ]
    },
    {
      "cell_type": "markdown",
      "metadata": {},
      "source": [
        "### **Gradient Boosting:**"
      ]
    },
    {
      "cell_type": "code",
      "execution_count": 16,
      "metadata": {},
      "outputs": [],
      "source": [
        "from sklearn.ensemble import GradientBoostingClassifier\n",
        "\n",
        "# Crear el clasificador de Gradient Boosting\n",
        "gb_classifier = GradientBoostingClassifier(n_estimators=100, learning_rate=0.1, random_state=42)\n",
        "\n",
        "# Entrenar el modelo\n",
        "gb_classifier.fit(X_train, y_train)\n",
        "\n",
        "# Predicción en el conjunto de prueba\n",
        "predictions_gb = gb_classifier.predict(X_test)\n"
      ]
    },
    {
      "cell_type": "code",
      "execution_count": 17,
      "metadata": {},
      "outputs": [
        {
          "data": {
            "text/plain": [
              "44     0\n",
              "672    0\n",
              "700    0\n",
              "630    1\n",
              "81     0\n",
              "389    0\n",
              "387    1\n",
              "408    1\n",
              "163    0\n",
              "335    0\n",
              "Name: Outcome, dtype: int64"
            ]
          },
          "execution_count": 17,
          "metadata": {},
          "output_type": "execute_result"
        }
      ],
      "source": [
        "y_test.head(10)"
      ]
    },
    {
      "cell_type": "code",
      "execution_count": 18,
      "metadata": {},
      "outputs": [
        {
          "data": {
            "text/plain": [
              "array([1, 0, 0, 1, 0, 0, 0, 1, 0, 1], dtype=int64)"
            ]
          },
          "execution_count": 18,
          "metadata": {},
          "output_type": "execute_result"
        }
      ],
      "source": [
        "predictions_gb[:10]"
      ]
    },
    {
      "cell_type": "code",
      "execution_count": 19,
      "metadata": {},
      "outputs": [
        {
          "data": {
            "text/plain": [
              "0.7662337662337663"
            ]
          },
          "execution_count": 19,
          "metadata": {},
          "output_type": "execute_result"
        }
      ],
      "source": [
        "from sklearn.metrics import accuracy_score\n",
        "accuracy = accuracy_score(y_test, predictions_gb)\n",
        "accuracy"
      ]
    },
    {
      "cell_type": "code",
      "execution_count": 20,
      "metadata": {},
      "outputs": [
        {
          "name": "stdout",
          "output_type": "stream",
          "text": [
            "0.7438461538461538\n"
          ]
        }
      ],
      "source": [
        "from sklearn.metrics import precision_score\n",
        "#Calcula la precisión para cada clase individualmente y luego toma la media.\n",
        "precision = precision_score(y_test, predictions_gb, average='macro')\n",
        "print(precision)"
      ]
    },
    {
      "cell_type": "markdown",
      "metadata": {},
      "source": [
        "### **XGBoost:**"
      ]
    },
    {
      "cell_type": "code",
      "execution_count": 30,
      "metadata": {},
      "outputs": [
        {
          "name": "stdout",
          "output_type": "stream",
          "text": [
            "Tiempo de ejecución: 0.06 segundos\n"
          ]
        },
        {
          "name": "stderr",
          "output_type": "stream",
          "text": [
            "c:\\Users\\Asus\\AppData\\Local\\Programs\\Python\\Python39\\lib\\site-packages\\xgboost\\core.py:248: FutureWarning: Index.format is deprecated and will be removed in a future version. Convert using index.astype(str) or index.map(formatter) instead.\n",
            "  feature_names = data.columns.format()\n",
            "c:\\Users\\Asus\\AppData\\Local\\Programs\\Python\\Python39\\lib\\site-packages\\xgboost\\core.py:248: FutureWarning: Index.format is deprecated and will be removed in a future version. Convert using index.astype(str) or index.map(formatter) instead.\n",
            "  feature_names = data.columns.format()\n"
          ]
        }
      ],
      "source": [
        "import xgboost as xgb\n",
        "import time\n",
        "# Crear el clasificador de XGBoost\n",
        "xgb_classifier = xgb.XGBClassifier(objective=\"binary:logistic\", random_state=42)\n",
        "\n",
        "\n",
        "# Medir el tiempo de ejecución\n",
        "start_time0 = time.time()\n",
        "# Entrenar el modelo\n",
        "xgb_classifier.fit(X_train, y_train)\n",
        "\n",
        "# Calcular el tiempo de ejecución\n",
        "end_time = time.time()\n",
        "execution_time = end_time - start_time0\n",
        "\n",
        "print(\"Tiempo de ejecución: {:.2f} segundos\".format(execution_time))\n",
        "\n",
        "# Predicción en el conjunto de prueba\n",
        "predictions_xgb = xgb_classifier.predict(X_test)\n"
      ]
    },
    {
      "cell_type": "code",
      "execution_count": 7,
      "metadata": {},
      "outputs": [
        {
          "data": {
            "text/plain": [
              "44     0\n",
              "672    0\n",
              "700    0\n",
              "630    1\n",
              "81     0\n",
              "389    0\n",
              "387    1\n",
              "408    1\n",
              "163    0\n",
              "335    0\n",
              "Name: Outcome, dtype: int64"
            ]
          },
          "execution_count": 7,
          "metadata": {},
          "output_type": "execute_result"
        }
      ],
      "source": [
        "y_test.head(10)"
      ]
    },
    {
      "cell_type": "code",
      "execution_count": 8,
      "metadata": {},
      "outputs": [
        {
          "data": {
            "text/plain": [
              "array([1, 0, 0, 0, 0, 0, 0, 1, 0, 1], dtype=int64)"
            ]
          },
          "execution_count": 8,
          "metadata": {},
          "output_type": "execute_result"
        }
      ],
      "source": [
        "predictions_xgb[:10]"
      ]
    },
    {
      "cell_type": "code",
      "execution_count": 9,
      "metadata": {},
      "outputs": [
        {
          "data": {
            "text/plain": [
              "0.7532467532467533"
            ]
          },
          "execution_count": 9,
          "metadata": {},
          "output_type": "execute_result"
        }
      ],
      "source": [
        "from sklearn.metrics import accuracy_score\n",
        "accuracy = accuracy_score(y_test, predictions_xgb)\n",
        "accuracy"
      ]
    },
    {
      "cell_type": "code",
      "execution_count": 10,
      "metadata": {},
      "outputs": [
        {
          "name": "stdout",
          "output_type": "stream",
          "text": [
            "0.7290384615384615\n"
          ]
        }
      ],
      "source": [
        "from sklearn.metrics import precision_score\n",
        "#Calcula la precisión para cada clase individualmente y luego toma la media.\n",
        "precision = precision_score(y_test, predictions_xgb, average='macro')\n",
        "print(precision)\n"
      ]
    },
    {
      "cell_type": "markdown",
      "metadata": {},
      "source": [
        "### **Combinar múltiples modelos**\n",
        "\n",
        "https://inteligencia-artificial.dev/ensemble-learning-python/"
      ]
    },
    {
      "cell_type": "code",
      "execution_count": null,
      "metadata": {},
      "outputs": [],
      "source": [
        "from sklearn.ensemble import VotingClassifier\n",
        "\n",
        "# Crear un clasificador de votación suave\n",
        "voting_classifier = VotingClassifier(estimators=[\n",
        "    ('rf', rf_classifier), ('gb', gb_classifier), ('xgb', xgb_classifier)], voting='soft')\n",
        "\n",
        "# Entrenar el modelo de votación\n",
        "voting_classifier.fit(X_train, y_train)\n",
        "\n",
        "# Predicción en el conjunto de prueba\n",
        "predictions_voting = voting_classifier.predict(X_test)\n"
      ]
    },
    {
      "cell_type": "code",
      "execution_count": 22,
      "metadata": {},
      "outputs": [
        {
          "data": {
            "text/plain": [
              "44     0\n",
              "672    0\n",
              "700    0\n",
              "630    1\n",
              "81     0\n",
              "389    0\n",
              "387    1\n",
              "408    1\n",
              "163    0\n",
              "335    0\n",
              "471    0\n",
              "78     1\n",
              "307    0\n",
              "392    0\n",
              "Name: Outcome, dtype: int64"
            ]
          },
          "execution_count": 22,
          "metadata": {},
          "output_type": "execute_result"
        }
      ],
      "source": [
        "y_test.head(14)"
      ]
    },
    {
      "cell_type": "code",
      "execution_count": 23,
      "metadata": {},
      "outputs": [
        {
          "data": {
            "text/plain": [
              "array([1, 0, 0, 0, 0, 0, 0, 1, 0, 1, 0, 1, 0, 0], dtype=int64)"
            ]
          },
          "execution_count": 23,
          "metadata": {},
          "output_type": "execute_result"
        }
      ],
      "source": [
        "predictions_voting[:14]"
      ]
    },
    {
      "cell_type": "code",
      "execution_count": 24,
      "metadata": {},
      "outputs": [
        {
          "data": {
            "text/plain": [
              "0.7337662337662337"
            ]
          },
          "execution_count": 24,
          "metadata": {},
          "output_type": "execute_result"
        }
      ],
      "source": [
        "from sklearn.metrics import accuracy_score\n",
        "accuracy = accuracy_score(y_test, predictions_voting)\n",
        "accuracy"
      ]
    },
    {
      "cell_type": "code",
      "execution_count": 25,
      "metadata": {},
      "outputs": [
        {
          "name": "stdout",
          "output_type": "stream",
          "text": [
            "0.7069994034599324\n"
          ]
        }
      ],
      "source": [
        "from sklearn.metrics import precision_score\n",
        "#Calcula la precisión para cada clase individualmente y luego toma la media.\n",
        "precision = precision_score(y_test, predictions_voting, average='macro')\n",
        "print(precision)"
      ]
    }
  ],
  "metadata": {
    "colab": {
      "provenance": []
    },
    "kernelspec": {
      "display_name": "Python 3",
      "name": "python3"
    },
    "language_info": {
      "codemirror_mode": {
        "name": "ipython",
        "version": 3
      },
      "file_extension": ".py",
      "mimetype": "text/x-python",
      "name": "python",
      "nbconvert_exporter": "python",
      "pygments_lexer": "ipython3",
      "version": "3.9.6"
    }
  },
  "nbformat": 4,
  "nbformat_minor": 0
}
